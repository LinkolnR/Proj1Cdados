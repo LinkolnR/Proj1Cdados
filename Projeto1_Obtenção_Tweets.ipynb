{
 "cells": [
  {
   "cell_type": "markdown",
   "source": [
    "# Projeto 1 - Ciência dos Dados"
   ],
   "metadata": {}
  },
  {
   "cell_type": "markdown",
   "source": [
    "Nome: Camila Soares Magni\r\n",
    "Nome: Lincoln Rodrigo Pereira Melo"
   ],
   "metadata": {}
  },
  {
   "cell_type": "markdown",
   "source": [
    "Atenção: Serão permitidos grupos de três pessoas, mas com uma rubrica mais exigente. Grupos deste tamanho precisarão fazer um questionário de avaliação de trabalho em equipe"
   ],
   "metadata": {}
  },
  {
   "cell_type": "markdown",
   "source": [
    "___\n",
    "# Obtenção de tweets"
   ],
   "metadata": {}
  },
  {
   "cell_type": "markdown",
   "source": [
    "## Preparando o ambiente no jupyter:"
   ],
   "metadata": {}
  },
  {
   "cell_type": "code",
   "execution_count": 1,
   "source": [
    "%%capture\r\n",
    "\r\n",
    "#Instalando o tweepy\r\n",
    "!pip install tweepy"
   ],
   "outputs": [],
   "metadata": {}
  },
  {
   "cell_type": "code",
   "execution_count": 2,
   "source": [
    "import tweepy\r\n",
    "import math\r\n",
    "import os.path\r\n",
    "import pandas as pd\r\n",
    "import json\r\n",
    "from random import shuffle"
   ],
   "outputs": [],
   "metadata": {
    "jupyter": {
     "outputs_hidden": true
    }
   }
  },
  {
   "cell_type": "markdown",
   "source": [
    "___\r\n",
    "## Autenticando no  Twitter\r\n",
    "\r\n",
    "* Conta: ***[@AqueleCdados]***"
   ],
   "metadata": {}
  },
  {
   "cell_type": "code",
   "execution_count": 3,
   "source": [
    "#Dados de autenticação do twitter:\r\n",
    "\r\n",
    "#Coloque aqui o identificador da conta no twitter: @AqueleCdados\r\n",
    "\r\n",
    "#leitura do arquivo no formato JSON\r\n",
    "with open('auth.pass') as fp:    \r\n",
    "    data = json.load(fp)\r\n",
    "\r\n",
    "#Configurando a biblioteca. Não modificar\r\n",
    "auth = tweepy.OAuthHandler(data['consumer_key'], data['consumer_secret'])\r\n",
    "auth.set_access_token(data['access_token'], data['access_token_secret'])"
   ],
   "outputs": [],
   "metadata": {
    "jupyter": {
     "outputs_hidden": true
    }
   }
  },
  {
   "cell_type": "markdown",
   "source": [
    "___\n",
    "## Etapas para construção da base de dados:"
   ],
   "metadata": {}
  },
  {
   "cell_type": "markdown",
   "source": [
    "### Escolha de um produto e coleta das mensagens\n"
   ],
   "metadata": {}
  },
  {
   "cell_type": "code",
   "execution_count": 4,
   "source": [
    "#Produto escolhido:\r\n",
    "produto = 'airfryer'\r\n",
    "\r\n",
    "#Quantidade mínima de mensagens capturadas:\r\n",
    "n = 500\r\n",
    "#Quantidade mínima de mensagens para a base de treinamento:\r\n",
    "t = 300\r\n",
    "\r\n",
    "#Filtro de língua, escolha uma na tabela ISO 639-1.\r\n",
    "lang = 'pt'"
   ],
   "outputs": [],
   "metadata": {
    "jupyter": {
     "outputs_hidden": true
    }
   }
  },
  {
   "cell_type": "markdown",
   "source": [
    "Capturando os dados do twitter:"
   ],
   "metadata": {}
  },
  {
   "cell_type": "code",
   "execution_count": 5,
   "source": [
    "#Cria um objeto para a captura\r\n",
    "api = tweepy.API(auth)\r\n",
    "\r\n",
    "#Inicia a captura, para mais detalhes: ver a documentação do tweepy\r\n",
    "i = 1\r\n",
    "msgs = []\r\n",
    "for msg in tweepy.Cursor(api.search, q=produto, lang=lang, tweet_mode=\"extended\").items():    \r\n",
    "    \r\n",
    "    try:\r\n",
    "        #Tenta acessar atributo 'retweeted_status'\r\n",
    "        # Se mensagem não possuir este atributo dá erro\r\n",
    "        # e vai para a clausula \"except\"\r\n",
    "        msg.retweeted_status.full_text\r\n",
    "    except AttributeError:  \r\n",
    "        #Entra aqui sempre que tweet não for retweet\r\n",
    "        msgs.append(msg.full_text.lower())\r\n",
    "\r\n",
    "    \r\n",
    "    i += 1\r\n",
    "    \r\n",
    "    temporario=list(set(list(msgs)))\r\n",
    "    if len(temporario) >= n:\r\n",
    "        break\r\n",
    "\r\n",
    "#Embaralhando as mensagens para reduzir um possível viés\r\n",
    "shuffle(msgs)\r\n",
    "len(msgs)\r\n"
   ],
   "outputs": [
    {
     "output_type": "execute_result",
     "data": {
      "text/plain": [
       "500"
      ]
     },
     "metadata": {},
     "execution_count": 5
    }
   ],
   "metadata": {
    "jupyter": {
     "outputs_hidden": true
    }
   }
  },
  {
   "cell_type": "code",
   "execution_count": 6,
   "source": [
    "msgs=list(set(list(msgs)))"
   ],
   "outputs": [],
   "metadata": {}
  },
  {
   "cell_type": "markdown",
   "source": [
    "Salvando os dados em uma planilha Excel:"
   ],
   "metadata": {}
  },
  {
   "cell_type": "code",
   "execution_count": 7,
   "source": [
    "#Verifica se o arquivo não existe para não substituir um conjunto pronto\r\n",
    "if not os.path.isfile('./{0}.xlsx'.format(produto)):\r\n",
    "    \r\n",
    "    #Abre o arquivo para escrita\r\n",
    "    writer = pd.ExcelWriter('{0}.xlsx'.format(produto))\r\n",
    "\r\n",
    "    #divide o conjunto de mensagens em duas planilhas\r\n",
    "    dft = pd.DataFrame({'Treinamento' : pd.Series(msgs[:t])})\r\n",
    "    dft.to_excel(excel_writer = writer, sheet_name = 'Treinamento', index = False)\r\n",
    "\r\n",
    "    dfc = pd.DataFrame({'Teste' : pd.Series(msgs[t:])})\r\n",
    "    dfc.to_excel(excel_writer = writer, sheet_name = 'Teste', index = False)\r\n",
    "\r\n",
    "    #fecha o arquivo\r\n",
    "    writer.save()"
   ],
   "outputs": [],
   "metadata": {
    "jupyter": {
     "outputs_hidden": true
    }
   }
  },
  {
   "cell_type": "markdown",
   "source": [
    "___\n",
    "### Classificando as mensagens na coragem\n",
    "\n",
    "Esta etapa é manual. Faça a mesma pelo Excel.\n",
    "\n",
    "**Importante: Caso classifique um percentual pequeno de tweets relevantes ou de não relevantes, deve voltar a este notebook e coletar mais tweets diferentes do produto escolhido pelo grupo.**"
   ],
   "metadata": {}
  },
  {
   "cell_type": "code",
   "execution_count": null,
   "source": [],
   "outputs": [],
   "metadata": {}
  }
 ],
 "metadata": {
  "kernelspec": {
   "name": "python3",
   "display_name": "Python 3.8.8 64-bit ('base': conda)"
  },
  "language_info": {
   "codemirror_mode": {
    "name": "ipython",
    "version": 3
   },
   "file_extension": ".py",
   "mimetype": "text/x-python",
   "name": "python",
   "nbconvert_exporter": "python",
   "pygments_lexer": "ipython3",
   "version": "3.8.8"
  },
  "interpreter": {
   "hash": "56505bb563a3a8c3edae909efbbeba68d55f556b46955e58b7586a74f580b29e"
  }
 },
 "nbformat": 4,
 "nbformat_minor": 4
}