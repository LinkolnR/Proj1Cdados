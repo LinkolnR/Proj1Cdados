{
 "cells": [
  {
   "cell_type": "markdown",
   "source": [
    "# Projeto 1 - Ciência dos Dados"
   ],
   "metadata": {}
  },
  {
   "cell_type": "markdown",
   "source": [
    "Nome: Camila Soares Magni\n",
    "\n",
    "Nome: Lincoln Rodrigo Pereira Melo"
   ],
   "metadata": {}
  },
  {
   "cell_type": "markdown",
   "source": [
    "Atenção: Serão permitidos grupos de três pessoas, mas com uma rubrica mais exigente. Grupos deste tamanho precisarão fazer um questionário de avaliação de trabalho em equipe"
   ],
   "metadata": {}
  },
  {
   "cell_type": "markdown",
   "source": [
    "### Etapas do desenvolvimento do projeto:"
   ],
   "metadata": {}
  },
  {
   "cell_type": "markdown",
   "source": [],
   "metadata": {}
  },
  {
   "cell_type": "markdown",
   "source": [
    "___\n",
    "Carregando algumas bibliotecas:"
   ],
   "metadata": {}
  },
  {
   "cell_type": "code",
   "execution_count": 2,
   "source": [
    "%matplotlib inline\r\n",
    "import pandas as pd\r\n",
    "import matplotlib.pyplot as plt\r\n",
    "import numpy as np\r\n",
    "import os"
   ],
   "outputs": [],
   "metadata": {}
  },
  {
   "cell_type": "code",
   "execution_count": 3,
   "source": [
    "print('Esperamos trabalhar no diretório')\r\n",
    "print(os.getcwd())"
   ],
   "outputs": [
    {
     "output_type": "stream",
     "name": "stdout",
     "text": [
      "Esperamos trabalhar no diretório\n",
      "c:\\Users\\Lincoln\\Desktop\\Matérias2021.2\\Cdados\\LAST\\Proj1Cdados\n"
     ]
    }
   ],
   "metadata": {
    "scrolled": false
   }
  },
  {
   "cell_type": "markdown",
   "source": [
    "Carregando a base de dados com os tweets classificados como relevantes e não relevantes:"
   ],
   "metadata": {}
  },
  {
   "cell_type": "code",
   "execution_count": 4,
   "source": [
    "filename = 'airfryer.xlsx'"
   ],
   "outputs": [],
   "metadata": {}
  },
  {
   "cell_type": "code",
   "execution_count": 5,
   "source": [
    "train = pd.read_excel(filename)\r\n",
    "train.head(5)"
   ],
   "outputs": [
    {
     "output_type": "execute_result",
     "data": {
      "text/html": [
       "<div>\n",
       "<style scoped>\n",
       "    .dataframe tbody tr th:only-of-type {\n",
       "        vertical-align: middle;\n",
       "    }\n",
       "\n",
       "    .dataframe tbody tr th {\n",
       "        vertical-align: top;\n",
       "    }\n",
       "\n",
       "    .dataframe thead th {\n",
       "        text-align: right;\n",
       "    }\n",
       "</style>\n",
       "<table border=\"1\" class=\"dataframe\">\n",
       "  <thead>\n",
       "    <tr style=\"text-align: right;\">\n",
       "      <th></th>\n",
       "      <th>Treinamento</th>\n",
       "      <th>Classificação</th>\n",
       "      <th>Unnamed: 2</th>\n",
       "      <th>Unnamed: 3</th>\n",
       "      <th>Unnamed: 4</th>\n",
       "      <th>Unnamed: 5</th>\n",
       "      <th>Unnamed: 6</th>\n",
       "      <th>Unnamed: 7</th>\n",
       "      <th>Unnamed: 8</th>\n",
       "      <th>Unnamed: 9</th>\n",
       "    </tr>\n",
       "  </thead>\n",
       "  <tbody>\n",
       "    <tr>\n",
       "      <th>0</th>\n",
       "      <td>o twitter vai me fazer comprar uma airfryer</td>\n",
       "      <td>1</td>\n",
       "      <td>NaN</td>\n",
       "      <td>NaN</td>\n",
       "      <td>NaN</td>\n",
       "      <td>NaN</td>\n",
       "      <td>NaN</td>\n",
       "      <td>NaN</td>\n",
       "      <td>NaN</td>\n",
       "      <td>NaN</td>\n",
       "    </tr>\n",
       "    <tr>\n",
       "      <th>1</th>\n",
       "      <td>quero assar pão de queijo, mas o forno daqui d...</td>\n",
       "      <td>1</td>\n",
       "      <td>NaN</td>\n",
       "      <td>NaN</td>\n",
       "      <td>NaN</td>\n",
       "      <td>NaN</td>\n",
       "      <td>NaN</td>\n",
       "      <td>NaN</td>\n",
       "      <td>NaN</td>\n",
       "      <td>NaN</td>\n",
       "    </tr>\n",
       "    <tr>\n",
       "      <th>2</th>\n",
       "      <td>bom, aparentemente deu ruim e saiu toda a tint...</td>\n",
       "      <td>1</td>\n",
       "      <td>NaN</td>\n",
       "      <td>NaN</td>\n",
       "      <td>NaN</td>\n",
       "      <td>NaN</td>\n",
       "      <td>NaN</td>\n",
       "      <td>NaN</td>\n",
       "      <td>NaN</td>\n",
       "      <td>NaN</td>\n",
       "    </tr>\n",
       "    <tr>\n",
       "      <th>3</th>\n",
       "      <td>de airfryer a panelas: polishop celebra 22 ano...</td>\n",
       "      <td>0</td>\n",
       "      <td>NaN</td>\n",
       "      <td>NaN</td>\n",
       "      <td>NaN</td>\n",
       "      <td>NaN</td>\n",
       "      <td>NaN</td>\n",
       "      <td>NaN</td>\n",
       "      <td>NaN</td>\n",
       "      <td>NaN</td>\n",
       "    </tr>\n",
       "    <tr>\n",
       "      <th>4</th>\n",
       "      <td>@danielsmarconn mano eu tô louca nessa airfrye...</td>\n",
       "      <td>1</td>\n",
       "      <td>NaN</td>\n",
       "      <td>NaN</td>\n",
       "      <td>NaN</td>\n",
       "      <td>NaN</td>\n",
       "      <td>NaN</td>\n",
       "      <td>NaN</td>\n",
       "      <td>NaN</td>\n",
       "      <td>NaN</td>\n",
       "    </tr>\n",
       "  </tbody>\n",
       "</table>\n",
       "</div>"
      ],
      "text/plain": [
       "                                         Treinamento  Classificação  \\\n",
       "0        o twitter vai me fazer comprar uma airfryer              1   \n",
       "1  quero assar pão de queijo, mas o forno daqui d...              1   \n",
       "2  bom, aparentemente deu ruim e saiu toda a tint...              1   \n",
       "3  de airfryer a panelas: polishop celebra 22 ano...              0   \n",
       "4  @danielsmarconn mano eu tô louca nessa airfrye...              1   \n",
       "\n",
       "   Unnamed: 2  Unnamed: 3  Unnamed: 4  Unnamed: 5  Unnamed: 6  Unnamed: 7  \\\n",
       "0         NaN         NaN         NaN         NaN         NaN         NaN   \n",
       "1         NaN         NaN         NaN         NaN         NaN         NaN   \n",
       "2         NaN         NaN         NaN         NaN         NaN         NaN   \n",
       "3         NaN         NaN         NaN         NaN         NaN         NaN   \n",
       "4         NaN         NaN         NaN         NaN         NaN         NaN   \n",
       "\n",
       "   Unnamed: 8  Unnamed: 9  \n",
       "0         NaN         NaN  \n",
       "1         NaN         NaN  \n",
       "2         NaN         NaN  \n",
       "3         NaN         NaN  \n",
       "4         NaN         NaN  "
      ]
     },
     "metadata": {},
     "execution_count": 5
    }
   ],
   "metadata": {}
  },
  {
   "cell_type": "code",
   "execution_count": 6,
   "source": [
    "test = pd.read_excel(filename, sheet_name = 'Teste')\r\n",
    "test.head(5)"
   ],
   "outputs": [
    {
     "output_type": "execute_result",
     "data": {
      "text/html": [
       "<div>\n",
       "<style scoped>\n",
       "    .dataframe tbody tr th:only-of-type {\n",
       "        vertical-align: middle;\n",
       "    }\n",
       "\n",
       "    .dataframe tbody tr th {\n",
       "        vertical-align: top;\n",
       "    }\n",
       "\n",
       "    .dataframe thead th {\n",
       "        text-align: right;\n",
       "    }\n",
       "</style>\n",
       "<table border=\"1\" class=\"dataframe\">\n",
       "  <thead>\n",
       "    <tr style=\"text-align: right;\">\n",
       "      <th></th>\n",
       "      <th>Teste</th>\n",
       "      <th>Classificação</th>\n",
       "    </tr>\n",
       "  </thead>\n",
       "  <tbody>\n",
       "    <tr>\n",
       "      <th>0</th>\n",
       "      <td>o bom da airfryer fica tudo pronto rápido, não...</td>\n",
       "      <td>1</td>\n",
       "    </tr>\n",
       "    <tr>\n",
       "      <th>1</th>\n",
       "      <td>um app pra calcular se é mais barato fazer a c...</td>\n",
       "      <td>0</td>\n",
       "    </tr>\n",
       "    <tr>\n",
       "      <th>2</th>\n",
       "      <td>@raytotsukishiro aumentou o preço de tudo. aqu...</td>\n",
       "      <td>0</td>\n",
       "    </tr>\n",
       "    <tr>\n",
       "      <th>3</th>\n",
       "      <td>meti um pão de queijo na airfryer 😌</td>\n",
       "      <td>1</td>\n",
       "    </tr>\n",
       "    <tr>\n",
       "      <th>4</th>\n",
       "      <td>@alcysio @safbf pô alcysio, me adaptei total p...</td>\n",
       "      <td>1</td>\n",
       "    </tr>\n",
       "  </tbody>\n",
       "</table>\n",
       "</div>"
      ],
      "text/plain": [
       "                                               Teste  Classificação\n",
       "0  o bom da airfryer fica tudo pronto rápido, não...              1\n",
       "1  um app pra calcular se é mais barato fazer a c...              0\n",
       "2  @raytotsukishiro aumentou o preço de tudo. aqu...              0\n",
       "3                meti um pão de queijo na airfryer 😌              1\n",
       "4  @alcysio @safbf pô alcysio, me adaptei total p...              1"
      ]
     },
     "metadata": {},
     "execution_count": 6
    }
   ],
   "metadata": {}
  },
  {
   "cell_type": "markdown",
   "source": [
    "___\n",
    "## Classificador automático de sentimento\n"
   ],
   "metadata": {}
  },
  {
   "cell_type": "markdown",
   "source": [
    "## SOBRE O PRODUTO\n",
    "\n",
    "O produto escolhido foi a AirFryer : \"AirFryer ou air fryer é um eletrodoméstico usado para fritar alimentos. É tão eficaz quanto uma fritadeira tradicional que usa óleo, mas não utiliza a imersão em gorduras para a cocção/para o cozimento dos alimentos.\"\n",
    "\n",
    "fonte : https://pt.wikipedia.org/wiki/Fritadeira_sem_%C3%B3leo"
   ],
   "metadata": {}
  },
  {
   "cell_type": "markdown",
   "source": [
    "Faça aqui uma descrição do seu produto e o que considerou como relevante ou não relevante na classificação dos tweets.\n",
    "\n",
    "Com a escolha do produto, foram considerados relevantes os tweets que expressasem algum sentimento, seja ele positivo ou negativo, tweets que expressam vontade de adquirir o produto ou receitas que os usuários compartilham.\n",
    "O restante dos tweets foram considerados irrelevantes, como tweets que usam do termo \"airfryer\" em outros sentidos que não seja falando diretamente do produto (\"Parece que estou dentro de uma airfryer\").\n",
    "\n",
    "\n",
    "Texto velho :\n",
    "Escolhemos a fritadeira sem óleo ,airfryer, como nosso produto. Para a classificação dos tweets, consideramos todas as mensagens que expressam alguma opinião sobre o produto, sejam elogios , críticas e receitas como relevantes, assim como as que falam sobre um desejo de adquirir uma airfryer. O resto foi classificado como irrelevante, incluindo mensagens sobre outros assuntos que não fazem sentido para a análise do produto(Exemplo: \"Parece que estou dentro de uma airfryer\"). "
   ],
   "metadata": {}
  },
  {
   "cell_type": "markdown",
   "source": [
    "___\n",
    "### Montando um Classificador Naive-Bayes\n",
    "\n",
    "Considerando apenas as mensagens da planilha Treinamento, ensine  seu classificador."
   ],
   "metadata": {}
  },
  {
   "cell_type": "markdown",
   "source": [
    "O classificador multinomial Naïve Bayes é um dos modelos mais populares no aprendizado de máquina. Tomando como premissa a suposição de independência entre as variáveis do problema, o modelo de Naïve Bayes realiza uma classificação probabilística de observações, caracterizando-as em classes pré-definidas. \n",
    "\n",
    "\n",
    "O algoritmo Naïve Bayes é uma aplicação direta do teorema homônimo. O termo naïve, (do inglês, ingênuo) se refere à premissa central do algoritmo de que os atributos considerados são não correlacionados entre si. \n",
    "\n",
    "fonte : https://www.digitalhouse.com/br/blog/naive-bayes\n",
    "\n",
    "\n",
    "Por exemplo, no classificador aqui montado, não são levada em contas expressões e apenas as palavras isoladas.\n",
    "\n",
    "\n",
    "Explicando um pouco da construção do classificador:\n",
    "\n",
    "#### Eventos:\n",
    "$R$:   tweets relevantes\n",
    "\n",
    "$R^C$: tweets irrelevantes\n",
    "\n",
    "$U$ :  todos os tweets relacionados com airfryer coletados\n",
    "\n",
    "$P(R)$ -> Probabilidade de um tweet ser relevante\n",
    "\n",
    "$P(R^C)$ -> Probabilidade de um tweet ser irrelevante\n",
    "\n",
    "$P(R/Tweet)$ -> Probabilidade de ser relevante dado que é um tweet relacionado com airfryer\n",
    "\n",
    "$P(R^C/Tweet)$ -> Probabilidade de ser irrelevante dado que é um tweet relacionado com airfryer\n",
    "\n",
    "Lembre-se que $P(A/B) = P(B/A) * P(A) / P(B)$\n",
    "\n",
    "Note que ao utilizar Naive-Bayes, queremos apenas classificar como relevante ou irrelevante, ou seja\n",
    "\n",
    "Se calcularmos :\n",
    "\n",
    "$P(R/Tweet) = P(Tweet/R) * P(R) / P(Tweet)$   (i)\n",
    "\n",
    "e\n",
    "\n",
    "$P(R^C/Frase) = P(Tweet/R^c) * P(R^c) / P(Tweet)$ (ii)\n",
    "\n",
    "Logo, como para classificar fazemos uma comparação entre  (i) e (ii), podemos desconsiderar os denominadores na conta.\n",
    "Portanto, para esse caso usaremos:\n",
    "\n",
    "$P(R/Tweet) = P(Tweet/R) * P(R)$\n",
    "\n",
    "$P(R^C/Frase) = P(Tweet/R^c) * P(R^c)$\n",
    "\n",
    "Com isso, olhando para a $P(Tweet/R) e P(Tweet/R^c).$\n",
    "\n",
    "Considerando Tweet = palavra1 palavra2 palavra3\n",
    "\n",
    "A nossa $P(Tweet/R) = P(palavra1/R) * P(palavra2/R) * P(palavra3/R)$\n",
    "e $P(Tweet/R^C) = P(palavra1/R^C) * P(palavra2/R^C) * P(palavra3/R^C)$"
   ],
   "metadata": {}
  },
  {
   "cell_type": "markdown",
   "source": [
    "### Suavização de LaPlace:"
   ],
   "metadata": {}
  },
  {
   "cell_type": "markdown",
   "source": [
    "Seguindo a linha de raciocínio de Naive-Bayes, caso uma palavra não esteja presente no conjunto de palavras analisados, então teríamos:\n",
    "\n",
    "$P(palavra/R)$ = 0\n",
    "\n",
    "e\n",
    "\n",
    "$P(palavra/R^C)$ = 0.\n",
    "\n",
    "Portanto se essa palavra estivesse em qualquer frase, a probabilidade dessa frase ser classificada seria zero.\n",
    "\n",
    "Para resolver essa situação surgiu a Suavização de Laplace. Essa ideia se baseia em adicionar um em cada contagem para que o resultado do numerador nunca seja igual a zero. Além disso, adicionar o número de palavras possíveis no denominador para balancear e garantir que a divisão nunca vai ser maior do que 1.\n",
    "\n",
    "Note que essa ideia será aplicada na implementação da função."
   ],
   "metadata": {}
  },
  {
   "cell_type": "markdown",
   "source": [
    "### Funções para a limpeza da base de dados:"
   ],
   "metadata": {}
  },
  {
   "cell_type": "code",
   "execution_count": 6,
   "source": [
    "import pandas as pd\r\n",
    "import numpy as np\r\n",
    "from IPython.display import display\r\n",
    "import re \r\n",
    "import nltk\r\n",
    "\r\n",
    "# Função de limpeza dos textos\r\n",
    "def cleanup(text):\r\n",
    "    punctuation = '[\"\"''!-.:?;“”~1234567890]'                            # sinais que queremos retirar do texto\r\n",
    "    pattern = re.compile(punctuation)\r\n",
    "    text_subbed = re.sub(pattern, '', text)                              # retira os sinais\r\n",
    "    text_subbed = re.sub(r\"http\\S+\", \"\", text_subbed)                    # retira os URL\r\n",
    "    text_subbed = re.sub('@[^\\s]+','',text_subbed,flags=re.MULTILINE)    # retira os nomes de usuário\r\n",
    "    text_subbed = re.sub(r\"kk\\S+\", \"kk\", text_subbed)                    # transforma as strings que começam com kk em 'kk'\r\n",
    "    text_subbed = re.sub(r\"compr\\S+\", \"compr\", text_subbed)              # transforma as strings que começam com compr (radical do verbo comprar) em \"compr\"\r\n",
    "    text_subbed = re.sub(r\"limp\\S+\", \"limp\", text_subbed)                # transforma as strings que começam com limp (radical do verbo limpar) em \"limp\"\r\n",
    "    text_subbed = re.sub(r\"aa\\S+\", \"\", text_subbed)                      # retira as strings que começam com aa (normalmente alguma expressão ou sequência de letras sem sentido)\r\n",
    "    text_subbed = re.sub(r\"airfryer\\S+\", \"airfryer\", text_subbed)        # usado evitar que erros de escrita de palavras coladas com airfryer não acontecam\r\n",
    "    text_subbed = re.sub(r\"queij\\S+\", \"queij\", text_subbed)              # para corrigir alguns erros de português comuns dos usuários dos tweets (receita recorrente)\r\n",
    "    text_subbed = re.sub(r\"batat\\S+\", \"batata\", text_subbed)             # transforma as strings que começam com batat (radical da palavra batata) para evitar variações como \"Batatinhas\"\r\n",
    "    aux = nltk.TweetTokenizer()\r\n",
    "    text_subbed = aux.tokenize(text_subbed)                              # separa os emojis\r\n",
    "    string_final = ' '.join(text_subbed)                                 # string limpa\r\n",
    "    return string_final"
   ],
   "outputs": [],
   "metadata": {}
  },
  {
   "cell_type": "code",
   "execution_count": 7,
   "source": [
    "# Função para tirar as 'Stopwords' em português:\n",
    "# nltk.download('stopwords') - INSTALAR, caso vc não tenha instalado\n",
    "def retirar_stopwords(lista):\n",
    "    lista_limpa = []\n",
    "    stopwords = nltk.corpus.stopwords.words('portuguese')\n",
    "    for palavra in lista:\n",
    "        if palavra not in stopwords:\n",
    "            lista_limpa.append(palavra)\n",
    "    return lista_limpa"
   ],
   "outputs": [],
   "metadata": {}
  },
  {
   "cell_type": "markdown",
   "source": [
    "### Realizando a limpeza da base de treinamento"
   ],
   "metadata": {}
  },
  {
   "cell_type": "code",
   "execution_count": 8,
   "source": [
    "lista = []\n",
    "for linha in train['Treinamento']:\n",
    "    limpo = cleanup(linha.lower())             # Limpa a planilha Treinamento e tira as letras maiúsculas \n",
    "    a = limpo.split()\n",
    "    b = retirar_stopwords(a)\n",
    "    limpo = ' '.join(b)  \n",
    "    lista.append(limpo)\n",
    "    \n",
    "serie_train = pd.Series(lista)                 # Transforma a coluna da planilha Treinamento em Series\n",
    "train['Treinamento'] = serie_train        # substitui os tweets originais da planilha, pelos tweets limpos\n",
    "train.head()"
   ],
   "outputs": [
    {
     "output_type": "execute_result",
     "data": {
      "text/html": [
       "<div>\n",
       "<style scoped>\n",
       "    .dataframe tbody tr th:only-of-type {\n",
       "        vertical-align: middle;\n",
       "    }\n",
       "\n",
       "    .dataframe tbody tr th {\n",
       "        vertical-align: top;\n",
       "    }\n",
       "\n",
       "    .dataframe thead th {\n",
       "        text-align: right;\n",
       "    }\n",
       "</style>\n",
       "<table border=\"1\" class=\"dataframe\">\n",
       "  <thead>\n",
       "    <tr style=\"text-align: right;\">\n",
       "      <th></th>\n",
       "      <th>Treinamento</th>\n",
       "      <th>Classificação</th>\n",
       "      <th>Unnamed: 2</th>\n",
       "      <th>Unnamed: 3</th>\n",
       "      <th>Unnamed: 4</th>\n",
       "      <th>Unnamed: 5</th>\n",
       "      <th>Unnamed: 6</th>\n",
       "      <th>Unnamed: 7</th>\n",
       "      <th>Unnamed: 8</th>\n",
       "      <th>Unnamed: 9</th>\n",
       "    </tr>\n",
       "  </thead>\n",
       "  <tbody>\n",
       "    <tr>\n",
       "      <th>0</th>\n",
       "      <td>twitter vai fazer compr airfryer</td>\n",
       "      <td>1</td>\n",
       "      <td>NaN</td>\n",
       "      <td>NaN</td>\n",
       "      <td>NaN</td>\n",
       "      <td>NaN</td>\n",
       "      <td>NaN</td>\n",
       "      <td>NaN</td>\n",
       "      <td>NaN</td>\n",
       "      <td>NaN</td>\n",
       "    </tr>\n",
       "    <tr>\n",
       "      <th>1</th>\n",
       "      <td>quero assar pão queij forno daqui casa bosta p...</td>\n",
       "      <td>1</td>\n",
       "      <td>NaN</td>\n",
       "      <td>NaN</td>\n",
       "      <td>NaN</td>\n",
       "      <td>NaN</td>\n",
       "      <td>NaN</td>\n",
       "      <td>NaN</td>\n",
       "      <td>NaN</td>\n",
       "      <td>NaN</td>\n",
       "    </tr>\n",
       "    <tr>\n",
       "      <th>2</th>\n",
       "      <td>bom aparentemente deu ruim saiu toda tinta / t...</td>\n",
       "      <td>1</td>\n",
       "      <td>NaN</td>\n",
       "      <td>NaN</td>\n",
       "      <td>NaN</td>\n",
       "      <td>NaN</td>\n",
       "      <td>NaN</td>\n",
       "      <td>NaN</td>\n",
       "      <td>NaN</td>\n",
       "      <td>NaN</td>\n",
       "    </tr>\n",
       "    <tr>\n",
       "      <th>3</th>\n",
       "      <td>airfryer panelas polishop celebra anos descont...</td>\n",
       "      <td>0</td>\n",
       "      <td>NaN</td>\n",
       "      <td>NaN</td>\n",
       "      <td>NaN</td>\n",
       "      <td>NaN</td>\n",
       "      <td>NaN</td>\n",
       "      <td>NaN</td>\n",
       "      <td>NaN</td>\n",
       "      <td>NaN</td>\n",
       "    </tr>\n",
       "    <tr>\n",
       "      <th>4</th>\n",
       "      <td>mano tô louca nessa airfryer serase boa</td>\n",
       "      <td>1</td>\n",
       "      <td>NaN</td>\n",
       "      <td>NaN</td>\n",
       "      <td>NaN</td>\n",
       "      <td>NaN</td>\n",
       "      <td>NaN</td>\n",
       "      <td>NaN</td>\n",
       "      <td>NaN</td>\n",
       "      <td>NaN</td>\n",
       "    </tr>\n",
       "  </tbody>\n",
       "</table>\n",
       "</div>"
      ],
      "text/plain": [
       "                                         Treinamento  Classificação  \\\n",
       "0                   twitter vai fazer compr airfryer              1   \n",
       "1  quero assar pão queij forno daqui casa bosta p...              1   \n",
       "2  bom aparentemente deu ruim saiu toda tinta / t...              1   \n",
       "3  airfryer panelas polishop celebra anos descont...              0   \n",
       "4            mano tô louca nessa airfryer serase boa              1   \n",
       "\n",
       "   Unnamed: 2  Unnamed: 3  Unnamed: 4  Unnamed: 5  Unnamed: 6  Unnamed: 7  \\\n",
       "0         NaN         NaN         NaN         NaN         NaN         NaN   \n",
       "1         NaN         NaN         NaN         NaN         NaN         NaN   \n",
       "2         NaN         NaN         NaN         NaN         NaN         NaN   \n",
       "3         NaN         NaN         NaN         NaN         NaN         NaN   \n",
       "4         NaN         NaN         NaN         NaN         NaN         NaN   \n",
       "\n",
       "   Unnamed: 8  Unnamed: 9  \n",
       "0         NaN         NaN  \n",
       "1         NaN         NaN  \n",
       "2         NaN         NaN  \n",
       "3         NaN         NaN  \n",
       "4         NaN         NaN  "
      ]
     },
     "metadata": {},
     "execution_count": 8
    }
   ],
   "metadata": {}
  },
  {
   "cell_type": "markdown",
   "source": [
    "# Função Classificadora Naive-Bayes"
   ],
   "metadata": {}
  },
  {
   "cell_type": "markdown",
   "source": [
    "Na Célula abaixo está implementada a função classificadora Naive-Bayes"
   ],
   "metadata": {}
  },
  {
   "cell_type": "code",
   "execution_count": 9,
   "source": [
    "def classificador(dataframe, series):                         #recebe o dataframe e a serie de tweets que será classificada\n",
    "#     contador = 0 \n",
    "    \n",
    "    filtro = train.Classificação==1          # filtra os tweets classificados como relevantes\n",
    "    relevantes = train.loc[filtro, :]        # dataframe com tweets relevantes\n",
    "\n",
    "    filtro2 = train.Classificação==0        # filtra os tweets classificados como irrelevantes\n",
    "    irrelevantes = train.loc[filtro2, :]    # dataframe com tweets irrelevantes\n",
    "\n",
    "    # Transforma o dataframe relevantes em um único texto\n",
    "    string_relevante = ''\n",
    "    for linha in relevantes.iloc[:,0]:\n",
    "        string_relevante+= ' '+ linha\n",
    "\n",
    "    # Transforma o dataframe irrelevantes em um único texto\n",
    "    string_irrelevante = ''\n",
    "    for linha in irrelevantes.iloc[:,0]:\n",
    "        string_irrelevante+= ' '+ linha\n",
    "\n",
    "    todas_relevantes = string_relevante.split()        #Lista com todas as palavras que aparece na string relevante\n",
    "    todas_irrelevantes = string_irrelevante.split()    #Lista com todas as palavras que aparece na string irrelevante\n",
    "\n",
    "    serie_relevante = pd.Series(todas_relevantes)      #Transforma a lista de strings relevantes em um series\n",
    "    serie_irrelevante = pd.Series(todas_irrelevantes)  #Transforma a lista de strings irrelevantes em um series\n",
    "\n",
    "    todas = string_irrelevante + string_relevante          # juntando todas as palavras que aparecem na base de dados Treinamento\n",
    "    todas_as_palavras = todas.split()                      # lista com todas as palavras\n",
    "    serie_total = pd.Series(todas_as_palavras) \n",
    "    serie_total\n",
    "\n",
    "    P_R = len(todas_relevantes)/len(todas_as_palavras)        # probabilidade de uma palavra ser relevante\n",
    "    P_I = len(todas_irrelevantes)/len(todas_as_palavras)      # probabilidade de uma palavra ser irrelevante\n",
    "\n",
    "    freq_rel_absoluta = serie_relevante.value_counts()           # quantidade de cada palavra na serie relevante\n",
    "    freq_irrel_absoluta = serie_irrelevante.value_counts()       # quantidade de cada palavra na serie irrelevante\n",
    "    freq_tot_absoluta = serie_total.value_counts()               # quantidade de cada palavra na serie total\n",
    "\n",
    "\n",
    "    \n",
    "    classificados = []\n",
    "    for frase in series:\n",
    "        lista_palavras = frase.split()\n",
    "        lista_palavras = retirar_stopwords(lista_palavras)    #implementa função que tira as stopwords\n",
    "        k,i = 0,0                                             #contador de palavras NÃO presentes em relevantes (k) e em irrevelantes (i)\n",
    "        for palavra in lista_palavras:\n",
    "            if palavra not in todas_relevantes: \n",
    "                k += 1\n",
    "            if palavra not in todas_irrelevantes:\n",
    "                i += 1\n",
    "\n",
    "        prob_frase_dado_relevante = 1\n",
    "        prob_frase_dado_irrelevante = 1\n",
    "\n",
    "        if k == 0:                                   #se tiver palavras no series que não estao na nossa base de dados relevantes\n",
    "            for palavra in lista_palavras:\n",
    "                prob = freq_rel_absoluta[palavra] / freq_rel_absoluta.sum()\n",
    "                prob_frase_dado_relevante *= prob           #multiplica a probabilidade de cada palavra dado frase\n",
    "\n",
    "        else:\n",
    "            for palavra in lista_palavras:\n",
    "                if palavra in freq_rel_absoluta:\n",
    "                    prob = (freq_rel_absoluta[palavra]+ 1 ) / (freq_rel_absoluta.sum()+ len(freq_tot_absoluta)) # SUAVIZAÇÃO DE LAPLACE\"\n",
    "                else: \n",
    "                    prob = (0 + 1 ) / (freq_rel_absoluta.sum()+ len(freq_tot_absoluta))\n",
    "                prob_frase_dado_relevante *= prob           #multiplica a probabilidade de cada palavra dado frase\n",
    "        \n",
    "        if i == 0:\n",
    "            for palavra in lista_palavras:\n",
    "                prob = ( freq_irrel_absoluta[palavra] ) / (freq_irrel_absoluta.sum())\n",
    "                prob_frase_dado_irrelevante *= prob     \n",
    "\n",
    "        else:\n",
    "            for palavra in lista_palavras:\n",
    "                if palavra in freq_irrel_absoluta:\n",
    "                    prob = ( freq_irrel_absoluta[palavra]+ 1 ) / (freq_irrel_absoluta.sum() +len(freq_tot_absoluta))\n",
    "                else:\n",
    "                    prob = ( 0 + 1 ) / (freq_irrel_absoluta.sum() +len(freq_tot_absoluta))\n",
    "                prob_frase_dado_irrelevante *= prob         #multiplica a probabilidade de cada palavra dado frase\n",
    "                #multiplica a probabilidade de cada palavra dado frase\n",
    "                \n",
    "        probRdadoFrase = prob_frase_dado_relevante* P_R\n",
    "        probIdadoFrase = prob_frase_dado_irrelevante* P_I\n",
    "        \n",
    "        if probRdadoFrase > probIdadoFrase:\n",
    "            classificados.append(1)                         #classifica como relevante\n",
    "        else:  \n",
    "            classificados.append(0)                         #classifica como irrelevante\n",
    "#         contador+=1\n",
    "#         print(classificados[len(classificados)-1] , contador)\n",
    "    \n",
    "    serie_classificado = pd.Series(classificados)\n",
    "    novo_df = dataframe.iloc[:, [0,1]]\n",
    "    novo_df = novo_df.reset_index(drop=True)\n",
    "    novo_df['Classificado'] = serie_classificado\n",
    "    return novo_df\n",
    "                "
   ],
   "outputs": [],
   "metadata": {}
  },
  {
   "cell_type": "markdown",
   "source": [
    "___\n",
    "### Verificando a performance do Classificador\n",
    "\n",
    "Agora você deve testar o seu classificador com a base de Testes."
   ],
   "metadata": {}
  },
  {
   "cell_type": "markdown",
   "source": [
    "### Fazendo a limpeza na base de teste"
   ],
   "metadata": {}
  },
  {
   "cell_type": "code",
   "execution_count": 11,
   "source": [
    "lista = []\n",
    "\n",
    "for linha in test['Teste']:\n",
    "    limpo = cleanup(linha.lower())             # Limpa a planilha Teste e tira as letras maiúsculas\n",
    "    a = limpo.split()\n",
    "    b = retirar_stopwords(a)\n",
    "    limpo = ' '.join(b)  \n",
    "    lista.append(limpo)\n",
    "\n",
    "test['Teste'] = pd.Series(lista)             # Substitui os tweets originais da planilha, pelos tweets limpos\n",
    "test.head()"
   ],
   "outputs": [
    {
     "output_type": "execute_result",
     "data": {
      "text/html": [
       "<div>\n",
       "<style scoped>\n",
       "    .dataframe tbody tr th:only-of-type {\n",
       "        vertical-align: middle;\n",
       "    }\n",
       "\n",
       "    .dataframe tbody tr th {\n",
       "        vertical-align: top;\n",
       "    }\n",
       "\n",
       "    .dataframe thead th {\n",
       "        text-align: right;\n",
       "    }\n",
       "</style>\n",
       "<table border=\"1\" class=\"dataframe\">\n",
       "  <thead>\n",
       "    <tr style=\"text-align: right;\">\n",
       "      <th></th>\n",
       "      <th>Teste</th>\n",
       "      <th>Classificação</th>\n",
       "    </tr>\n",
       "  </thead>\n",
       "  <tbody>\n",
       "    <tr>\n",
       "      <th>0</th>\n",
       "      <td>bom airfryer fica tudo pronto rápido quero out...</td>\n",
       "      <td>1</td>\n",
       "    </tr>\n",
       "    <tr>\n",
       "      <th>1</th>\n",
       "      <td>app pra calcular barato fazer comida airfryer ...</td>\n",
       "      <td>0</td>\n",
       "    </tr>\n",
       "    <tr>\n",
       "      <th>2</th>\n",
       "      <td>aumentou preço tudo aqui gente compr airfryer ...</td>\n",
       "      <td>0</td>\n",
       "    </tr>\n",
       "    <tr>\n",
       "      <th>3</th>\n",
       "      <td>meti pão queij airfryer 😌</td>\n",
       "      <td>1</td>\n",
       "    </tr>\n",
       "    <tr>\n",
       "      <th>4</th>\n",
       "      <td>pô alcysio adaptei total pra usar mínimo gás a...</td>\n",
       "      <td>1</td>\n",
       "    </tr>\n",
       "  </tbody>\n",
       "</table>\n",
       "</div>"
      ],
      "text/plain": [
       "                                               Teste  Classificação\n",
       "0  bom airfryer fica tudo pronto rápido quero out...              1\n",
       "1  app pra calcular barato fazer comida airfryer ...              0\n",
       "2  aumentou preço tudo aqui gente compr airfryer ...              0\n",
       "3                          meti pão queij airfryer 😌              1\n",
       "4  pô alcysio adaptei total pra usar mínimo gás a...              1"
      ]
     },
     "metadata": {},
     "execution_count": 11
    }
   ],
   "metadata": {}
  },
  {
   "cell_type": "markdown",
   "source": [
    "# Implementando a função..."
   ],
   "metadata": {}
  },
  {
   "cell_type": "code",
   "execution_count": 12,
   "source": [
    "df = test               # dataframe que será argumento da função classificadora\n",
    "series= test['Teste']   # series que será argumento da função classificadora"
   ],
   "outputs": [],
   "metadata": {}
  },
  {
   "cell_type": "code",
   "execution_count": 14,
   "source": [
    "# Implementa função\n",
    "df = classificador(df, series) #dataframe que passou pelo função para classificar os tweets\n",
    "df.head()"
   ],
   "outputs": [
    {
     "output_type": "execute_result",
     "data": {
      "text/html": [
       "<div>\n",
       "<style scoped>\n",
       "    .dataframe tbody tr th:only-of-type {\n",
       "        vertical-align: middle;\n",
       "    }\n",
       "\n",
       "    .dataframe tbody tr th {\n",
       "        vertical-align: top;\n",
       "    }\n",
       "\n",
       "    .dataframe thead th {\n",
       "        text-align: right;\n",
       "    }\n",
       "</style>\n",
       "<table border=\"1\" class=\"dataframe\">\n",
       "  <thead>\n",
       "    <tr style=\"text-align: right;\">\n",
       "      <th></th>\n",
       "      <th>Teste</th>\n",
       "      <th>Classificação</th>\n",
       "      <th>Classificado</th>\n",
       "    </tr>\n",
       "  </thead>\n",
       "  <tbody>\n",
       "    <tr>\n",
       "      <th>0</th>\n",
       "      <td>bom airfryer fica tudo pronto rápido quero out...</td>\n",
       "      <td>1</td>\n",
       "      <td>1</td>\n",
       "    </tr>\n",
       "    <tr>\n",
       "      <th>1</th>\n",
       "      <td>app pra calcular barato fazer comida airfryer ...</td>\n",
       "      <td>0</td>\n",
       "      <td>1</td>\n",
       "    </tr>\n",
       "    <tr>\n",
       "      <th>2</th>\n",
       "      <td>aumentou preço tudo aqui gente compr airfryer ...</td>\n",
       "      <td>0</td>\n",
       "      <td>0</td>\n",
       "    </tr>\n",
       "    <tr>\n",
       "      <th>3</th>\n",
       "      <td>meti pão queij airfryer 😌</td>\n",
       "      <td>1</td>\n",
       "      <td>1</td>\n",
       "    </tr>\n",
       "    <tr>\n",
       "      <th>4</th>\n",
       "      <td>pô alcysio adaptei total pra usar mínimo gás a...</td>\n",
       "      <td>1</td>\n",
       "      <td>1</td>\n",
       "    </tr>\n",
       "  </tbody>\n",
       "</table>\n",
       "</div>"
      ],
      "text/plain": [
       "                                               Teste  Classificação  \\\n",
       "0  bom airfryer fica tudo pronto rápido quero out...              1   \n",
       "1  app pra calcular barato fazer comida airfryer ...              0   \n",
       "2  aumentou preço tudo aqui gente compr airfryer ...              0   \n",
       "3                          meti pão queij airfryer 😌              1   \n",
       "4  pô alcysio adaptei total pra usar mínimo gás a...              1   \n",
       "\n",
       "   Classificado  \n",
       "0             1  \n",
       "1             1  \n",
       "2             0  \n",
       "3             1  \n",
       "4             1  "
      ]
     },
     "metadata": {},
     "execution_count": 14
    }
   ],
   "metadata": {}
  },
  {
   "cell_type": "markdown",
   "source": [
    "## Extraindo as contagens para verificação de performance"
   ],
   "metadata": {}
  },
  {
   "cell_type": "code",
   "execution_count": 15,
   "source": [
    "tabela = pd.crosstab(df.Classificado, df.Classificação, normalize= True)  # tabela de porcentagens\n",
    "tabela"
   ],
   "outputs": [
    {
     "output_type": "execute_result",
     "data": {
      "text/html": [
       "<div>\n",
       "<style scoped>\n",
       "    .dataframe tbody tr th:only-of-type {\n",
       "        vertical-align: middle;\n",
       "    }\n",
       "\n",
       "    .dataframe tbody tr th {\n",
       "        vertical-align: top;\n",
       "    }\n",
       "\n",
       "    .dataframe thead th {\n",
       "        text-align: right;\n",
       "    }\n",
       "</style>\n",
       "<table border=\"1\" class=\"dataframe\">\n",
       "  <thead>\n",
       "    <tr style=\"text-align: right;\">\n",
       "      <th>Classificação</th>\n",
       "      <th>0</th>\n",
       "      <th>1</th>\n",
       "    </tr>\n",
       "    <tr>\n",
       "      <th>Classificado</th>\n",
       "      <th></th>\n",
       "      <th></th>\n",
       "    </tr>\n",
       "  </thead>\n",
       "  <tbody>\n",
       "    <tr>\n",
       "      <th>0</th>\n",
       "      <td>0.28</td>\n",
       "      <td>0.095</td>\n",
       "    </tr>\n",
       "    <tr>\n",
       "      <th>1</th>\n",
       "      <td>0.17</td>\n",
       "      <td>0.455</td>\n",
       "    </tr>\n",
       "  </tbody>\n",
       "</table>\n",
       "</div>"
      ],
      "text/plain": [
       "Classificação     0      1\n",
       "Classificado              \n",
       "0              0.28  0.095\n",
       "1              0.17  0.455"
      ]
     },
     "metadata": {},
     "execution_count": 15
    }
   ],
   "metadata": {}
  },
  {
   "cell_type": "markdown",
   "source": [
    "Porcentagem de verdadeiros positivos (mensagens relevantes e que são\n",
    "classificadas como relevantes)"
   ],
   "metadata": {}
  },
  {
   "cell_type": "code",
   "execution_count": 16,
   "source": [
    "verdadeiros_positivos = tabela.iloc[1,1]*100\n",
    "verdadeiros_positivos"
   ],
   "outputs": [
    {
     "output_type": "execute_result",
     "data": {
      "text/plain": [
       "45.5"
      ]
     },
     "metadata": {},
     "execution_count": 16
    }
   ],
   "metadata": {}
  },
  {
   "cell_type": "markdown",
   "source": [
    "Porcentagem de falsos positivos (mensagens irrelevantes e que são classificadas\n",
    "como relevantes)"
   ],
   "metadata": {}
  },
  {
   "cell_type": "code",
   "execution_count": 17,
   "source": [
    "falsos_positivos = tabela.iloc[1,0]*100\n",
    "falsos_positivos"
   ],
   "outputs": [
    {
     "output_type": "execute_result",
     "data": {
      "text/plain": [
       "17.0"
      ]
     },
     "metadata": {},
     "execution_count": 17
    }
   ],
   "metadata": {}
  },
  {
   "cell_type": "markdown",
   "source": [
    "Porcentagem de verdadeiros negativos (mensagens irrelevantes e que são\n",
    "classificadas como irrelevantes)"
   ],
   "metadata": {}
  },
  {
   "cell_type": "code",
   "execution_count": 18,
   "source": [
    "verdadeiros_negativos = tabela.iloc[0,0]*100\n",
    "verdadeiros_negativos"
   ],
   "outputs": [
    {
     "output_type": "execute_result",
     "data": {
      "text/plain": [
       "28.000000000000004"
      ]
     },
     "metadata": {},
     "execution_count": 18
    }
   ],
   "metadata": {}
  },
  {
   "cell_type": "markdown",
   "source": [
    "Porcentagem de falsos negativos (mensagens relevantes e que são classificadas\n",
    "como irrelevantes)"
   ],
   "metadata": {}
  },
  {
   "cell_type": "code",
   "execution_count": 19,
   "source": [
    "falsos_negativos = tabela.iloc[0,1]*100\n",
    "falsos_negativos"
   ],
   "outputs": [
    {
     "output_type": "execute_result",
     "data": {
      "text/plain": [
       "9.5"
      ]
     },
     "metadata": {},
     "execution_count": 19
    }
   ],
   "metadata": {}
  },
  {
   "cell_type": "markdown",
   "source": [
    "Acurácia (mensagens corretamente classificadas, independente da categoria)"
   ],
   "metadata": {}
  },
  {
   "cell_type": "code",
   "execution_count": 20,
   "source": [
    "acuracia = verdadeiros_positivos + verdadeiros_negativos\n",
    "acuracia"
   ],
   "outputs": [
    {
     "output_type": "execute_result",
     "data": {
      "text/plain": [
       "73.5"
      ]
     },
     "metadata": {},
     "execution_count": 20
    }
   ],
   "metadata": {}
  },
  {
   "cell_type": "markdown",
   "source": [
    "___\n",
    "### Concluindo"
   ],
   "metadata": {}
  },
  {
   "cell_type": "markdown",
   "source": [
    "#### Performance do classificador e possíveis melhorias  "
   ],
   "metadata": {}
  },
  {
   "cell_type": "markdown",
   "source": [
    "Comparativo qualitativo sobre os percentuais obtidos:\n",
    "\n",
    "A partir dos percentuais de verdadeiros positivos e negativos obtidos, observa-se que o nosso classificador possui acurácia de 73.5%, o que significa que dos 100% dos tweets, teríamos 26.5% de falhas (falsos positivos e negativos).\n",
    "\n",
    "Analisando de maneira mais aprofundada todos os tweets classificados como relevantes (62.5% do total), temos que a porcentagem de verdadeiros positivos (45.5%) é mais que o dobro do que a de falsos positivos (17%). Em outras palavras, 72.8% dos tweets classificados como relevantes, foram classificados corretamente. \n",
    "\n",
    "Da mesma forma, olhando para os tweets classificados como irrelevantes (37.5% do total, temos 28% de acertos, ou seja, 74,6% dos tweets classificados como irrelevantes.\n",
    "\n",
    "As mensagens com sarcasmo ou dupla negação são tratadas pelo classificador da mesma forma que qualquer outra mensagem, isto é, pela análise das probabilidades de cada palavra do tweet. Então, algumas são classificadas corretamente e outras, não, já que muitas palavras aparecem na Base de Treinamento como relevantes. \n",
    "\n",
    "Dessa forma, levando em consideração os percentuais obtidos, consideramos que a performance do nosso classificador está aceitável, porém há algumas melhorias que poderiam ser implementadas, como .....\n",
    "\n",
    "\n",
    "\n"
   ],
   "metadata": {}
  },
  {
   "cell_type": "markdown",
   "source": [
    "#### Por que continuar financiando o projeto? "
   ],
   "metadata": {}
  },
  {
   "cell_type": "markdown",
   "source": [
    "O projeto deve continuar sendo financiado, porque a partir dele, é possível entender os interesses e as opiniões do público alvo da empresa, assim como elogios e críticas ao produto, para que seja possível implementar melhorias em pontos com maiores reclamações."
   ],
   "metadata": {}
  },
  {
   "cell_type": "markdown",
   "source": [
    "#### Por que não posso alimentar minha base de Treinamento automaticamente usando o próprio classificador, aplicado a novos tweets?"
   ],
   "metadata": {}
  },
  {
   "cell_type": "markdown",
   "source": [
    "Se nós alimentarmos a base de Treinamento utilizando o próprio classificador, o percentual de erros aumentaria significativamente. Isso porque, os erros do classificador se propagariam para a classificação da base Treinamento, que por sua vez, alimentaria a classificação de novas bases, propagando cada vez mais os erros, o que tornaria o modelo cada vez mais impreciso"
   ],
   "metadata": {}
  },
  {
   "cell_type": "markdown",
   "source": [
    "#### Diferentes cenários de uso para o classificador Naive-Bayes "
   ],
   "metadata": {}
  },
  {
   "cell_type": "markdown",
   "source": [
    "O classificador Naive-Bayes pode ser aplicado em diversas situações diferentes, como no diagnóstico de doenças ( Considerando os verdadeiros (positivos e negativos) e falsos (positivos e negativos) , na identificação de mensagens de spam nos emails, protegendo os usuários de um possível golpe e otimizando o tempo passado no email e  numa alimentação de um algoritmo para sugerir conteúdo baseado nas palavras buscadas pelo usuário."
   ],
   "metadata": {}
  },
  {
   "cell_type": "markdown",
   "source": [
    "___\n",
    "### Qualidade do Classificador a partir de novas separações dos tweets entre Treinamento e Teste\n",
    "\n",
    "Caso for fazer esse item do Projeto"
   ],
   "metadata": {}
  },
  {
   "cell_type": "code",
   "execution_count": 32,
   "source": [
    "test = pd.read_excel(filename, sheet_name = \"Teste\" )\n",
    "test_novo_tudo = test.rename(columns={ \"Teste\" : \"Tudo\"})\n",
    "\n",
    "train = pd.read_excel(filename,sheet_name = \"Treinamento\")\n",
    "train_novo_tudo = train.rename(columns={ \"Treinamento\" : \"Tudo\" })\n",
    "\n",
    "df_tudo = pd.concat([train_novo_tudo,test_novo_tudo])\n",
    "df_tudo = df_tudo.dropna(axis=1)\n",
    "df_tudo"
   ],
   "outputs": [
    {
     "output_type": "execute_result",
     "data": {
      "text/html": [
       "<div>\n",
       "<style scoped>\n",
       "    .dataframe tbody tr th:only-of-type {\n",
       "        vertical-align: middle;\n",
       "    }\n",
       "\n",
       "    .dataframe tbody tr th {\n",
       "        vertical-align: top;\n",
       "    }\n",
       "\n",
       "    .dataframe thead th {\n",
       "        text-align: right;\n",
       "    }\n",
       "</style>\n",
       "<table border=\"1\" class=\"dataframe\">\n",
       "  <thead>\n",
       "    <tr style=\"text-align: right;\">\n",
       "      <th></th>\n",
       "      <th>Tudo</th>\n",
       "      <th>Classificação</th>\n",
       "    </tr>\n",
       "  </thead>\n",
       "  <tbody>\n",
       "    <tr>\n",
       "      <th>0</th>\n",
       "      <td>o twitter vai me fazer comprar uma airfryer</td>\n",
       "      <td>1</td>\n",
       "    </tr>\n",
       "    <tr>\n",
       "      <th>1</th>\n",
       "      <td>quero assar pão de queijo, mas o forno daqui d...</td>\n",
       "      <td>1</td>\n",
       "    </tr>\n",
       "    <tr>\n",
       "      <th>2</th>\n",
       "      <td>bom, aparentemente deu ruim e saiu toda a tint...</td>\n",
       "      <td>1</td>\n",
       "    </tr>\n",
       "    <tr>\n",
       "      <th>3</th>\n",
       "      <td>de airfryer a panelas: polishop celebra 22 ano...</td>\n",
       "      <td>0</td>\n",
       "    </tr>\n",
       "    <tr>\n",
       "      <th>4</th>\n",
       "      <td>@danielsmarconn mano eu tô louca nessa airfrye...</td>\n",
       "      <td>1</td>\n",
       "    </tr>\n",
       "    <tr>\n",
       "      <th>...</th>\n",
       "      <td>...</td>\n",
       "      <td>...</td>\n",
       "    </tr>\n",
       "    <tr>\n",
       "      <th>195</th>\n",
       "      <td>tutorial bolinha de queijo✨\\n\\n200g de queijo ...</td>\n",
       "      <td>1</td>\n",
       "    </tr>\n",
       "    <tr>\n",
       "      <th>196</th>\n",
       "      <td>pessoal daqui de casa inventou de querer fazer...</td>\n",
       "      <td>1</td>\n",
       "    </tr>\n",
       "    <tr>\n",
       "      <th>197</th>\n",
       "      <td>eu nao sei voces, mas eu ganhei uma airfryer g...</td>\n",
       "      <td>1</td>\n",
       "    </tr>\n",
       "    <tr>\n",
       "      <th>198</th>\n",
       "      <td>@ibebelly amanhã eu vou fazer um pão de alho d...</td>\n",
       "      <td>1</td>\n",
       "    </tr>\n",
       "    <tr>\n",
       "      <th>199</th>\n",
       "      <td>disse pra vovó que tô estagiando e a mulher já...</td>\n",
       "      <td>1</td>\n",
       "    </tr>\n",
       "  </tbody>\n",
       "</table>\n",
       "<p>500 rows × 2 columns</p>\n",
       "</div>"
      ],
      "text/plain": [
       "                                                  Tudo  Classificação\n",
       "0          o twitter vai me fazer comprar uma airfryer              1\n",
       "1    quero assar pão de queijo, mas o forno daqui d...              1\n",
       "2    bom, aparentemente deu ruim e saiu toda a tint...              1\n",
       "3    de airfryer a panelas: polishop celebra 22 ano...              0\n",
       "4    @danielsmarconn mano eu tô louca nessa airfrye...              1\n",
       "..                                                 ...            ...\n",
       "195  tutorial bolinha de queijo✨\\n\\n200g de queijo ...              1\n",
       "196  pessoal daqui de casa inventou de querer fazer...              1\n",
       "197  eu nao sei voces, mas eu ganhei uma airfryer g...              1\n",
       "198  @ibebelly amanhã eu vou fazer um pão de alho d...              1\n",
       "199  disse pra vovó que tô estagiando e a mulher já...              1\n",
       "\n",
       "[500 rows x 2 columns]"
      ]
     },
     "metadata": {},
     "execution_count": 32
    }
   ],
   "metadata": {}
  },
  {
   "cell_type": "code",
   "execution_count": 22,
   "source": [
    "lista = []\n",
    "\n",
    "for linha in df_tudo['Tudo']:\n",
    "    limpo = cleanup(linha.lower())             # Limpa a planilha Treinamento e tira as letras maiúsculas \n",
    "    a = limpo.split()\n",
    "    b = retirar_stopwords(a)\n",
    "    limpo = ' '.join(b) \n",
    "    lista.append(limpo)\n",
    "    \n",
    "serie = pd.Series(lista)                 # Transforma a coluna da planilha Treinamento em Series\n",
    "df_tudo['Tudo'] = serie\n",
    "\n",
    "df_tudo.head()"
   ],
   "outputs": [
    {
     "output_type": "execute_result",
     "data": {
      "text/html": [
       "<div>\n",
       "<style scoped>\n",
       "    .dataframe tbody tr th:only-of-type {\n",
       "        vertical-align: middle;\n",
       "    }\n",
       "\n",
       "    .dataframe tbody tr th {\n",
       "        vertical-align: top;\n",
       "    }\n",
       "\n",
       "    .dataframe thead th {\n",
       "        text-align: right;\n",
       "    }\n",
       "</style>\n",
       "<table border=\"1\" class=\"dataframe\">\n",
       "  <thead>\n",
       "    <tr style=\"text-align: right;\">\n",
       "      <th></th>\n",
       "      <th>Tudo</th>\n",
       "      <th>Classificação</th>\n",
       "    </tr>\n",
       "  </thead>\n",
       "  <tbody>\n",
       "    <tr>\n",
       "      <th>0</th>\n",
       "      <td>twitter vai fazer compr airfryer</td>\n",
       "      <td>1</td>\n",
       "    </tr>\n",
       "    <tr>\n",
       "      <th>1</th>\n",
       "      <td>quero assar pão queij forno daqui casa bosta p...</td>\n",
       "      <td>1</td>\n",
       "    </tr>\n",
       "    <tr>\n",
       "      <th>2</th>\n",
       "      <td>bom aparentemente deu ruim saiu toda tinta / t...</td>\n",
       "      <td>1</td>\n",
       "    </tr>\n",
       "    <tr>\n",
       "      <th>3</th>\n",
       "      <td>airfryer panelas polishop celebra anos descont...</td>\n",
       "      <td>0</td>\n",
       "    </tr>\n",
       "    <tr>\n",
       "      <th>4</th>\n",
       "      <td>mano tô louca nessa airfryer serase boa</td>\n",
       "      <td>1</td>\n",
       "    </tr>\n",
       "    <tr>\n",
       "      <th>...</th>\n",
       "      <td>...</td>\n",
       "      <td>...</td>\n",
       "    </tr>\n",
       "    <tr>\n",
       "      <th>195</th>\n",
       "      <td>bom q vc mora sozinha precisava ser airfryer g...</td>\n",
       "      <td>1</td>\n",
       "    </tr>\n",
       "    <tr>\n",
       "      <th>196</th>\n",
       "      <td>coisas pra ficarem boas airfryer serem pré fri...</td>\n",
       "      <td>1</td>\n",
       "    </tr>\n",
       "    <tr>\n",
       "      <th>197</th>\n",
       "      <td>fiz cabotiá batata doce airfryer amigo</td>\n",
       "      <td>1</td>\n",
       "    </tr>\n",
       "    <tr>\n",
       "      <th>198</th>\n",
       "      <td>airfryer deus</td>\n",
       "      <td>1</td>\n",
       "    </tr>\n",
       "    <tr>\n",
       "      <th>199</th>\n",
       "      <td>homem tão prendado lavou airfryer</td>\n",
       "      <td>1</td>\n",
       "    </tr>\n",
       "  </tbody>\n",
       "</table>\n",
       "<p>500 rows × 2 columns</p>\n",
       "</div>"
      ],
      "text/plain": [
       "                                                  Tudo  Classificação\n",
       "0                     twitter vai fazer compr airfryer              1\n",
       "1    quero assar pão queij forno daqui casa bosta p...              1\n",
       "2    bom aparentemente deu ruim saiu toda tinta / t...              1\n",
       "3    airfryer panelas polishop celebra anos descont...              0\n",
       "4              mano tô louca nessa airfryer serase boa              1\n",
       "..                                                 ...            ...\n",
       "195  bom q vc mora sozinha precisava ser airfryer g...              1\n",
       "196  coisas pra ficarem boas airfryer serem pré fri...              1\n",
       "197             fiz cabotiá batata doce airfryer amigo              1\n",
       "198                                      airfryer deus              1\n",
       "199                  homem tão prendado lavou airfryer              1\n",
       "\n",
       "[500 rows x 2 columns]"
      ]
     },
     "metadata": {},
     "execution_count": 22
    }
   ],
   "metadata": {}
  },
  {
   "cell_type": "code",
   "execution_count": 23,
   "source": [
    "from sklearn.model_selection import train_test_split\n",
    "def separa_dataframe(df):\n",
    "    train, test_new = train_test_split(df_tudo, test_size=200)\n",
    "    return train, test_new"
   ],
   "outputs": [],
   "metadata": {}
  },
  {
   "cell_type": "code",
   "execution_count": 24,
   "source": [
    "lista_da_acuracia = []\n",
    "\n",
    "for i in range(100):\n",
    "    \n",
    "    datas = separa_dataframe(df_tudo)\n",
    "    train = datas[0]\n",
    "    test_new = datas[1]\n",
    "    df = classificador(test_new, test_new[\"Tudo\"])\n",
    "    tabela_nova = pd.crosstab(df.Classificado, df.Classificação, normalize= True)\n",
    "    acuracia = tabela_nova.iloc[1,1]*100 + tabela_nova.iloc[0,0]*100\n",
    "    lista_da_acuracia.append(acuracia)\n",
    "    "
   ],
   "outputs": [
    {
     "output_type": "stream",
     "name": "stdout",
     "text": [
      "[54.5, 56.5, 61.5, 53.0, 51.5, 59.5, 58.5, 52.5, 58.0, 55.5, 57.0, 58.0, 57.0, 59.5, 56.5, 62.5, 57.5, 51.0, 56.0, 59.5, 57.5, 61.0, 58.5, 57.0, 55.5, 58.0, 60.0, 53.5, 55.0, 59.0, 53.5, 60.5, 60.0, 59.5, 56.5, 56.0, 59.0, 60.0, 55.5, 54.0, 54.5, 55.0, 57.0, 53.5, 55.5, 57.0, 57.5, 57.0, 54.5, 57.0, 60.5, 55.5, 62.0, 56.0, 59.5, 56.0, 60.0, 65.0, 56.5, 57.0, 56.0, 57.5, 57.49999999999999, 57.0, 54.5, 59.5, 64.0, 62.0, 54.0, 58.0, 54.5, 57.5, 55.0, 59.5, 55.0, 56.0, 55.5, 54.5, 59.0, 57.5, 58.0, 59.0, 59.0, 52.0, 59.0, 59.5, 55.0, 53.0, 60.0, 56.5, 62.0, 54.5, 53.5, 60.5, 50.0, 54.5, 58.0, 58.0, 50.5, 57.5]\n"
     ]
    }
   ],
   "metadata": {}
  },
  {
   "cell_type": "code",
   "execution_count": 29,
   "source": [
    "serie_acuracia = pd.Series(lista_da_acuracia)\n",
    "minimo = serie_acuracia.min()\n",
    "maximo = serie_acuracia.max()\n",
    "media = serie_acuracia.mean()\n",
    "\n",
    "\n",
    "print('O mínimo de eficácia: {0:.2f} %'.format(minimo))\n",
    "print('O máximo de eficácia: {0:.2f} %'.format(maximo))\n",
    "print('A média de eficácia: {0:.2f} %'.format(media))"
   ],
   "outputs": [
    {
     "output_type": "stream",
     "name": "stdout",
     "text": [
      "O mínimo de eficácia: 50.00 %\n",
      "O máximo de eficácia: 65.00 %\n",
      "A média de eficácia: 57.05 %\n"
     ]
    }
   ],
   "metadata": {
    "scrolled": true
   }
  },
  {
   "cell_type": "markdown",
   "source": [
    "### Histograma com percentuais de acertos"
   ],
   "metadata": {}
  },
  {
   "cell_type": "code",
   "execution_count": null,
   "source": [
    "from numpy import arange\n",
    "import numpy as np\n",
    "faixa1 = arange(int(minimo),int(maximo),1)\n",
    "faixa1\n",
    "\n",
    "\n",
    "plt.subplot(121)\n",
    "plt.hist(serie_acuracia, bins=faixa1, edgecolor='white', density = True)\n",
    "plt.title('Eficácia')\n",
    "plt.ylabel('Faixas')\n",
    "plt.xlabel('Porcentagem de acertos(%)')\n"
   ],
   "outputs": [],
   "metadata": {}
  },
  {
   "cell_type": "markdown",
   "source": [
    "##### Vantagens ou desvantagens sobre construir um classificador considerando uma única vez a divisão da base de dados em treinamento e em teste:\n"
   ],
   "metadata": {}
  },
  {
   "cell_type": "markdown",
   "source": [
    "Percebemos que temos uma amplitude de 15% entre o máximo e mínimo de acurácia quando fizemos esses testes com várias bases de dados de treinamento e testes. E com essa variância no valor da acurácia se para construir o classificador fosse considerado essas novas bases de dados de treinamento os erros de uma acabaria por se manter, o que resultaria numa propagação de erros o que iria diminuir a confiabilidade desse modelo classificador"
   ],
   "metadata": {}
  },
  {
   "cell_type": "markdown",
   "source": [
    "___\n",
    "## Aperfeiçoamento:\n",
    "\n",
    "Trabalhos que conseguirem pelo menos conceito B vão evoluir em conceito dependendo da quantidade de itens avançados:\n",
    "\n",
    "* IMPLEMENTOU outras limpezas e transformações que não afetem a qualidade da informação contida nos tweets. Ex: stemming, lemmatization, stopwords\n",
    "* CORRIGIU separação de espaços entre palavras e emojis ou entre emojis e emojis\n",
    "* CRIOU categorias intermediárias de relevância baseadas na probabilidade: ex.: muito relevante, relevante, neutro, irrelevante, muito irrelevante. Pelo menos quatro categorias, com adição de mais tweets na base, conforme enunciado. (OBRIGATÓRIO PARA TRIOS, sem contar como item avançado)\n",
    "* EXPLICOU porquê não pode usar o próprio classificador para gerar mais amostras de treinamento\n",
    "* PROPÔS diferentes cenários para Naïve Bayes fora do contexto do projeto\n",
    "* SUGERIU e EXPLICOU melhorias reais com indicações concretas de como implementar (indicar como fazer e indicar material de pesquisa)\n",
    "* FEZ o item 6. Qualidade do Classificador a partir de novas separações dos tweets entre Treinamento e Teste descrito no enunciado do projeto (OBRIGATÓRIO para conceitos A ou A+)"
   ],
   "metadata": {}
  },
  {
   "cell_type": "markdown",
   "source": [
    "___\n",
    "## Referências"
   ],
   "metadata": {}
  },
  {
   "cell_type": "markdown",
   "source": [
    "[Naive Bayes and Text Classification](https://arxiv.org/pdf/1410.5329.pdf)  **Mais completo**\n",
    "\n",
    "[A practical explanation of a Naive Bayes Classifier](https://monkeylearn.com/blog/practical-explanation-naive-bayes-classifier/) **Mais simples**"
   ],
   "metadata": {}
  },
  {
   "cell_type": "code",
   "execution_count": null,
   "source": [],
   "outputs": [],
   "metadata": {}
  },
  {
   "cell_type": "code",
   "execution_count": null,
   "source": [],
   "outputs": [],
   "metadata": {}
  },
  {
   "cell_type": "code",
   "execution_count": null,
   "source": [],
   "outputs": [],
   "metadata": {}
  },
  {
   "cell_type": "code",
   "execution_count": null,
   "source": [],
   "outputs": [],
   "metadata": {}
  },
  {
   "cell_type": "code",
   "execution_count": null,
   "source": [],
   "outputs": [],
   "metadata": {}
  },
  {
   "cell_type": "code",
   "execution_count": null,
   "source": [],
   "outputs": [],
   "metadata": {}
  },
  {
   "cell_type": "code",
   "execution_count": null,
   "source": [],
   "outputs": [],
   "metadata": {}
  }
 ],
 "metadata": {
  "interpreter": {
   "hash": "56505bb563a3a8c3edae909efbbeba68d55f556b46955e58b7586a74f580b29e"
  },
  "kernelspec": {
   "name": "python3",
   "display_name": "Python 3.8.8 64-bit ('base': conda)"
  },
  "language_info": {
   "codemirror_mode": {
    "name": "ipython",
    "version": 3
   },
   "file_extension": ".py",
   "mimetype": "text/x-python",
   "name": "python",
   "nbconvert_exporter": "python",
   "pygments_lexer": "ipython3",
   "version": "3.8.8"
  }
 },
 "nbformat": 4,
 "nbformat_minor": 4
}