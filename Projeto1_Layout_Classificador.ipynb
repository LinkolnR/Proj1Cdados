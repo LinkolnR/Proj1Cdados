{
 "cells": [
  {
   "cell_type": "markdown",
   "source": [
    "# Projeto 1 - Ciência dos Dados"
   ],
   "metadata": {}
  },
  {
   "cell_type": "markdown",
   "source": [
    "Nome: Camila Soares Magni\n",
    "\n",
    "Nome: Lincoln Rodrigo Pereira Melo"
   ],
   "metadata": {}
  },
  {
   "cell_type": "markdown",
   "source": [
    "Atenção: Serão permitidos grupos de três pessoas, mas com uma rubrica mais exigente. Grupos deste tamanho precisarão fazer um questionário de avaliação de trabalho em equipe"
   ],
   "metadata": {}
  },
  {
   "cell_type": "markdown",
   "source": [
    "___\n",
    "Carregando algumas bibliotecas:"
   ],
   "metadata": {}
  },
  {
   "cell_type": "code",
   "execution_count": 3,
   "source": [
    "%matplotlib inline\r\n",
    "import pandas as pd\r\n",
    "import matplotlib.pyplot as plt\r\n",
    "import numpy as np\r\n",
    "import os"
   ],
   "outputs": [],
   "metadata": {}
  },
  {
   "cell_type": "code",
   "execution_count": 4,
   "source": [
    "print('Esperamos trabalhar no diretório')\r\n",
    "print(os.getcwd())"
   ],
   "outputs": [
    {
     "output_type": "stream",
     "name": "stdout",
     "text": [
      "Esperamos trabalhar no diretório\n",
      "c:\\Users\\Lincoln\\Desktop\\Matérias2021.2\\Cdados\\Proj1Repositoriofinal\\Proj1Cdados\n"
     ]
    }
   ],
   "metadata": {
    "scrolled": false
   }
  },
  {
   "cell_type": "markdown",
   "source": [
    "Carregando a base de dados com os tweets classificados como relevantes e não relevantes:"
   ],
   "metadata": {}
  },
  {
   "cell_type": "code",
   "execution_count": 5,
   "source": [
    "filename = 'airfryer.xlsx'"
   ],
   "outputs": [],
   "metadata": {}
  },
  {
   "cell_type": "code",
   "execution_count": 6,
   "source": [
    "train = pd.read_excel(filename)\r\n",
    "train.head(5)"
   ],
   "outputs": [
    {
     "output_type": "execute_result",
     "data": {
      "text/html": [
       "<div>\n",
       "<style scoped>\n",
       "    .dataframe tbody tr th:only-of-type {\n",
       "        vertical-align: middle;\n",
       "    }\n",
       "\n",
       "    .dataframe tbody tr th {\n",
       "        vertical-align: top;\n",
       "    }\n",
       "\n",
       "    .dataframe thead th {\n",
       "        text-align: right;\n",
       "    }\n",
       "</style>\n",
       "<table border=\"1\" class=\"dataframe\">\n",
       "  <thead>\n",
       "    <tr style=\"text-align: right;\">\n",
       "      <th></th>\n",
       "      <th>Treinamento</th>\n",
       "      <th>Classificação</th>\n",
       "      <th>Unnamed: 2</th>\n",
       "      <th>Unnamed: 3</th>\n",
       "      <th>Unnamed: 4</th>\n",
       "      <th>Unnamed: 5</th>\n",
       "      <th>Unnamed: 6</th>\n",
       "      <th>Unnamed: 7</th>\n",
       "      <th>Unnamed: 8</th>\n",
       "      <th>Unnamed: 9</th>\n",
       "    </tr>\n",
       "  </thead>\n",
       "  <tbody>\n",
       "    <tr>\n",
       "      <th>0</th>\n",
       "      <td>o twitter vai me fazer comprar uma airfryer</td>\n",
       "      <td>1</td>\n",
       "      <td>NaN</td>\n",
       "      <td>NaN</td>\n",
       "      <td>NaN</td>\n",
       "      <td>NaN</td>\n",
       "      <td>NaN</td>\n",
       "      <td>NaN</td>\n",
       "      <td>NaN</td>\n",
       "      <td>NaN</td>\n",
       "    </tr>\n",
       "    <tr>\n",
       "      <th>1</th>\n",
       "      <td>quero assar pão de queijo, mas o forno daqui d...</td>\n",
       "      <td>1</td>\n",
       "      <td>NaN</td>\n",
       "      <td>NaN</td>\n",
       "      <td>NaN</td>\n",
       "      <td>NaN</td>\n",
       "      <td>NaN</td>\n",
       "      <td>NaN</td>\n",
       "      <td>NaN</td>\n",
       "      <td>NaN</td>\n",
       "    </tr>\n",
       "    <tr>\n",
       "      <th>2</th>\n",
       "      <td>bom, aparentemente deu ruim e saiu toda a tint...</td>\n",
       "      <td>1</td>\n",
       "      <td>NaN</td>\n",
       "      <td>NaN</td>\n",
       "      <td>NaN</td>\n",
       "      <td>NaN</td>\n",
       "      <td>NaN</td>\n",
       "      <td>NaN</td>\n",
       "      <td>NaN</td>\n",
       "      <td>NaN</td>\n",
       "    </tr>\n",
       "    <tr>\n",
       "      <th>3</th>\n",
       "      <td>de airfryer a panelas: polishop celebra 22 ano...</td>\n",
       "      <td>0</td>\n",
       "      <td>NaN</td>\n",
       "      <td>NaN</td>\n",
       "      <td>NaN</td>\n",
       "      <td>NaN</td>\n",
       "      <td>NaN</td>\n",
       "      <td>NaN</td>\n",
       "      <td>NaN</td>\n",
       "      <td>NaN</td>\n",
       "    </tr>\n",
       "    <tr>\n",
       "      <th>4</th>\n",
       "      <td>@danielsmarconn mano eu tô louca nessa airfrye...</td>\n",
       "      <td>1</td>\n",
       "      <td>NaN</td>\n",
       "      <td>NaN</td>\n",
       "      <td>NaN</td>\n",
       "      <td>NaN</td>\n",
       "      <td>NaN</td>\n",
       "      <td>NaN</td>\n",
       "      <td>NaN</td>\n",
       "      <td>NaN</td>\n",
       "    </tr>\n",
       "  </tbody>\n",
       "</table>\n",
       "</div>"
      ],
      "text/plain": [
       "                                         Treinamento  Classificação  \\\n",
       "0        o twitter vai me fazer comprar uma airfryer              1   \n",
       "1  quero assar pão de queijo, mas o forno daqui d...              1   \n",
       "2  bom, aparentemente deu ruim e saiu toda a tint...              1   \n",
       "3  de airfryer a panelas: polishop celebra 22 ano...              0   \n",
       "4  @danielsmarconn mano eu tô louca nessa airfrye...              1   \n",
       "\n",
       "   Unnamed: 2  Unnamed: 3  Unnamed: 4  Unnamed: 5  Unnamed: 6  Unnamed: 7  \\\n",
       "0         NaN         NaN         NaN         NaN         NaN         NaN   \n",
       "1         NaN         NaN         NaN         NaN         NaN         NaN   \n",
       "2         NaN         NaN         NaN         NaN         NaN         NaN   \n",
       "3         NaN         NaN         NaN         NaN         NaN         NaN   \n",
       "4         NaN         NaN         NaN         NaN         NaN         NaN   \n",
       "\n",
       "   Unnamed: 8  Unnamed: 9  \n",
       "0         NaN         NaN  \n",
       "1         NaN         NaN  \n",
       "2         NaN         NaN  \n",
       "3         NaN         NaN  \n",
       "4         NaN         NaN  "
      ]
     },
     "metadata": {},
     "execution_count": 6
    }
   ],
   "metadata": {}
  },
  {
   "cell_type": "code",
   "execution_count": 7,
   "source": [
    "test = pd.read_excel(filename, sheet_name = 'Teste')\r\n",
    "test.head(5)"
   ],
   "outputs": [
    {
     "output_type": "execute_result",
     "data": {
      "text/html": [
       "<div>\n",
       "<style scoped>\n",
       "    .dataframe tbody tr th:only-of-type {\n",
       "        vertical-align: middle;\n",
       "    }\n",
       "\n",
       "    .dataframe tbody tr th {\n",
       "        vertical-align: top;\n",
       "    }\n",
       "\n",
       "    .dataframe thead th {\n",
       "        text-align: right;\n",
       "    }\n",
       "</style>\n",
       "<table border=\"1\" class=\"dataframe\">\n",
       "  <thead>\n",
       "    <tr style=\"text-align: right;\">\n",
       "      <th></th>\n",
       "      <th>Teste</th>\n",
       "      <th>Classificação</th>\n",
       "    </tr>\n",
       "  </thead>\n",
       "  <tbody>\n",
       "    <tr>\n",
       "      <th>0</th>\n",
       "      <td>o bom da airfryer fica tudo pronto rápido, não...</td>\n",
       "      <td>1</td>\n",
       "    </tr>\n",
       "    <tr>\n",
       "      <th>1</th>\n",
       "      <td>um app pra calcular se é mais barato fazer a c...</td>\n",
       "      <td>0</td>\n",
       "    </tr>\n",
       "    <tr>\n",
       "      <th>2</th>\n",
       "      <td>@raytotsukishiro aumentou o preço de tudo. aqu...</td>\n",
       "      <td>0</td>\n",
       "    </tr>\n",
       "    <tr>\n",
       "      <th>3</th>\n",
       "      <td>meti um pão de queijo na airfryer 😌</td>\n",
       "      <td>1</td>\n",
       "    </tr>\n",
       "    <tr>\n",
       "      <th>4</th>\n",
       "      <td>@alcysio @safbf pô alcysio, me adaptei total p...</td>\n",
       "      <td>1</td>\n",
       "    </tr>\n",
       "  </tbody>\n",
       "</table>\n",
       "</div>"
      ],
      "text/plain": [
       "                                               Teste  Classificação\n",
       "0  o bom da airfryer fica tudo pronto rápido, não...              1\n",
       "1  um app pra calcular se é mais barato fazer a c...              0\n",
       "2  @raytotsukishiro aumentou o preço de tudo. aqu...              0\n",
       "3                meti um pão de queijo na airfryer 😌              1\n",
       "4  @alcysio @safbf pô alcysio, me adaptei total p...              1"
      ]
     },
     "metadata": {},
     "execution_count": 7
    }
   ],
   "metadata": {}
  },
  {
   "cell_type": "markdown",
   "source": [
    "___\n",
    "## Classificador automático de sentimento\n"
   ],
   "metadata": {}
  },
  {
   "cell_type": "markdown",
   "source": [
    "Faça aqui uma descrição do seu produto e o que considerou como relevante ou não relevante na classificação dos tweets.\r\n",
    "\r\n",
    "Escolhemos a fritadeira sem óleo airfryer como nosso produto. Para a classificação dos tweets, consideramos todas as mensagens que expressam alguma opinião sobre o produto, sejam elogios , críticas e receitas como relevantes, assim como as que falam sobre um desejo de adquirir uma airfryer. O resto foi classificado como irrelevante, tp mensagens sobre outros assuntos que não fazem sentido para a análise do produto(\"parece que estou dentro de uma airfryer\"). "
   ],
   "metadata": {}
  },
  {
   "cell_type": "markdown",
   "source": [
    "___\n",
    "### Montando um Classificador Naive-Bayes\n",
    "\n",
    "Considerando apenas as mensagens da planilha Treinamento, ensine  seu classificador."
   ],
   "metadata": {}
  },
  {
   "cell_type": "code",
   "execution_count": 8,
   "source": [
    "import pandas as pd\r\n",
    "import numpy as np\r\n",
    "from IPython.display import display\r\n",
    "import re \r\n",
    "import nltk\r\n",
    "\r\n",
    "# Função de limpeza dos textos\r\n",
    "def cleanup(text):\r\n",
    "    \r\n",
    "    punctuation = '[\"\"''!-.:?;“”~1234567890]'                                      # sinais que queremos retirar do texto\r\n",
    "    pattern = re.compile(punctuation)\r\n",
    "    text_subbed = re.sub(pattern, '', text)                              # retira os sinais\r\n",
    "    text_subbed = re.sub(r\"http\\S+\", \"\", text_subbed)                    # retira os URL\r\n",
    "    text_subbed = re.sub('@[^\\s]+','',text_subbed,flags=re.MULTILINE)    # retira os nomes de usuário\r\n",
    "    text_subbed = re.sub(r\"kk\\S+\", \"kk\", text_subbed)                    # transformar as strings que começam com kk em 'kk'\r\n",
    "    text_subbed = re.sub(r\"compr\\S+\", \"compr\", text_subbed) \r\n",
    "    text_subbed = re.sub(r\"limp\\S+\", \"limp\", text_subbed) \r\n",
    "    text_subbed = re.sub(r\"aa\\S+\", \"\", text_subbed)\r\n",
    "    text_subbed = re.sub(r\"airfryer\\S+\", \"airfryer\", text_subbed)\r\n",
    "    text_subbed = re.sub(r\"queij\\S+\", \"queij\", text_subbed)\r\n",
    "    text_subbed = re.sub(r\"batat\\S+\", \"batata\", text_subbed) \r\n",
    "    aux = nltk.TweetTokenizer()\r\n",
    "    text_subbed = aux.tokenize(text_subbed)                              # separa os emojis\r\n",
    "    string_final = ' '.join(text_subbed)                                 # string limpa\r\n",
    "    return string_final"
   ],
   "outputs": [],
   "metadata": {}
  },
  {
   "cell_type": "code",
   "execution_count": 9,
   "source": [
    "# Função para tirar as 'Stopwords' em português:\r\n",
    "# nltk.download('stopwords') - INSTALAR, caso vc não tenha instalado\r\n",
    "def retirar_stopwords(lista):\r\n",
    "    lista_limpa = []\r\n",
    "    stopwords = nltk.corpus.stopwords.words('portuguese')\r\n",
    "    for palavra in lista:\r\n",
    "        if palavra not in stopwords:\r\n",
    "            lista_limpa.append(palavra)\r\n",
    "    return lista_limpa"
   ],
   "outputs": [],
   "metadata": {}
  },
  {
   "cell_type": "code",
   "execution_count": 10,
   "source": [
    "lista = []\r\n",
    "\r\n",
    "for linha in train['Treinamento']:\r\n",
    "    limpo = cleanup(linha.lower())             # Limpa a planilha Treinamento e tira as letras maiúsculas \r\n",
    "    a = limpo.split()\r\n",
    "    b = retirar_stopwords(a)\r\n",
    "    limpo = ' '.join(b)  \r\n",
    "    lista.append(limpo)\r\n",
    "    \r\n",
    "serie_train = pd.Series(lista)                 # Transforma a coluna da planilha Treinamento em Series\r\n",
    "serie_train.head()"
   ],
   "outputs": [
    {
     "output_type": "execute_result",
     "data": {
      "text/plain": [
       "0                     twitter vai fazer compr airfryer\n",
       "1    quero assar pão queij forno daqui casa bosta p...\n",
       "2    bom aparentemente deu ruim saiu toda tinta / t...\n",
       "3    airfryer panelas polishop celebra anos descont...\n",
       "4              mano tô louca nessa airfryer serase boa\n",
       "dtype: object"
      ]
     },
     "metadata": {},
     "execution_count": 10
    }
   ],
   "metadata": {}
  },
  {
   "cell_type": "code",
   "execution_count": 11,
   "source": [
    "train['Treinamento'] = serie_train        # substitui os tweets originais da planilha, pelos tweets limpos\r\n",
    "train.head()"
   ],
   "outputs": [
    {
     "output_type": "execute_result",
     "data": {
      "text/html": [
       "<div>\n",
       "<style scoped>\n",
       "    .dataframe tbody tr th:only-of-type {\n",
       "        vertical-align: middle;\n",
       "    }\n",
       "\n",
       "    .dataframe tbody tr th {\n",
       "        vertical-align: top;\n",
       "    }\n",
       "\n",
       "    .dataframe thead th {\n",
       "        text-align: right;\n",
       "    }\n",
       "</style>\n",
       "<table border=\"1\" class=\"dataframe\">\n",
       "  <thead>\n",
       "    <tr style=\"text-align: right;\">\n",
       "      <th></th>\n",
       "      <th>Treinamento</th>\n",
       "      <th>Classificação</th>\n",
       "      <th>Unnamed: 2</th>\n",
       "      <th>Unnamed: 3</th>\n",
       "      <th>Unnamed: 4</th>\n",
       "      <th>Unnamed: 5</th>\n",
       "      <th>Unnamed: 6</th>\n",
       "      <th>Unnamed: 7</th>\n",
       "      <th>Unnamed: 8</th>\n",
       "      <th>Unnamed: 9</th>\n",
       "    </tr>\n",
       "  </thead>\n",
       "  <tbody>\n",
       "    <tr>\n",
       "      <th>0</th>\n",
       "      <td>twitter vai fazer compr airfryer</td>\n",
       "      <td>1</td>\n",
       "      <td>NaN</td>\n",
       "      <td>NaN</td>\n",
       "      <td>NaN</td>\n",
       "      <td>NaN</td>\n",
       "      <td>NaN</td>\n",
       "      <td>NaN</td>\n",
       "      <td>NaN</td>\n",
       "      <td>NaN</td>\n",
       "    </tr>\n",
       "    <tr>\n",
       "      <th>1</th>\n",
       "      <td>quero assar pão queij forno daqui casa bosta p...</td>\n",
       "      <td>1</td>\n",
       "      <td>NaN</td>\n",
       "      <td>NaN</td>\n",
       "      <td>NaN</td>\n",
       "      <td>NaN</td>\n",
       "      <td>NaN</td>\n",
       "      <td>NaN</td>\n",
       "      <td>NaN</td>\n",
       "      <td>NaN</td>\n",
       "    </tr>\n",
       "    <tr>\n",
       "      <th>2</th>\n",
       "      <td>bom aparentemente deu ruim saiu toda tinta / t...</td>\n",
       "      <td>1</td>\n",
       "      <td>NaN</td>\n",
       "      <td>NaN</td>\n",
       "      <td>NaN</td>\n",
       "      <td>NaN</td>\n",
       "      <td>NaN</td>\n",
       "      <td>NaN</td>\n",
       "      <td>NaN</td>\n",
       "      <td>NaN</td>\n",
       "    </tr>\n",
       "    <tr>\n",
       "      <th>3</th>\n",
       "      <td>airfryer panelas polishop celebra anos descont...</td>\n",
       "      <td>0</td>\n",
       "      <td>NaN</td>\n",
       "      <td>NaN</td>\n",
       "      <td>NaN</td>\n",
       "      <td>NaN</td>\n",
       "      <td>NaN</td>\n",
       "      <td>NaN</td>\n",
       "      <td>NaN</td>\n",
       "      <td>NaN</td>\n",
       "    </tr>\n",
       "    <tr>\n",
       "      <th>4</th>\n",
       "      <td>mano tô louca nessa airfryer serase boa</td>\n",
       "      <td>1</td>\n",
       "      <td>NaN</td>\n",
       "      <td>NaN</td>\n",
       "      <td>NaN</td>\n",
       "      <td>NaN</td>\n",
       "      <td>NaN</td>\n",
       "      <td>NaN</td>\n",
       "      <td>NaN</td>\n",
       "      <td>NaN</td>\n",
       "    </tr>\n",
       "  </tbody>\n",
       "</table>\n",
       "</div>"
      ],
      "text/plain": [
       "                                         Treinamento  Classificação  \\\n",
       "0                   twitter vai fazer compr airfryer              1   \n",
       "1  quero assar pão queij forno daqui casa bosta p...              1   \n",
       "2  bom aparentemente deu ruim saiu toda tinta / t...              1   \n",
       "3  airfryer panelas polishop celebra anos descont...              0   \n",
       "4            mano tô louca nessa airfryer serase boa              1   \n",
       "\n",
       "   Unnamed: 2  Unnamed: 3  Unnamed: 4  Unnamed: 5  Unnamed: 6  Unnamed: 7  \\\n",
       "0         NaN         NaN         NaN         NaN         NaN         NaN   \n",
       "1         NaN         NaN         NaN         NaN         NaN         NaN   \n",
       "2         NaN         NaN         NaN         NaN         NaN         NaN   \n",
       "3         NaN         NaN         NaN         NaN         NaN         NaN   \n",
       "4         NaN         NaN         NaN         NaN         NaN         NaN   \n",
       "\n",
       "   Unnamed: 8  Unnamed: 9  \n",
       "0         NaN         NaN  \n",
       "1         NaN         NaN  \n",
       "2         NaN         NaN  \n",
       "3         NaN         NaN  \n",
       "4         NaN         NaN  "
      ]
     },
     "metadata": {},
     "execution_count": 11
    }
   ],
   "metadata": {}
  },
  {
   "cell_type": "code",
   "execution_count": 12,
   "source": [
    "filtro = train.Classificação==1          # filtra os tweets classificados como relevantes\r\n",
    "relevantes = train.loc[filtro, :]        # dataframe com tweets relevantes\r\n",
    "\r\n",
    "filtro2 = train.Classificação==0        # filtra os tweets classificados como irrelevantes\r\n",
    "irrelevantes = train.loc[filtro2, :]    # dataframe com tweets irrelevantes"
   ],
   "outputs": [],
   "metadata": {}
  },
  {
   "cell_type": "code",
   "execution_count": 13,
   "source": [
    "# Transforma o dataframe relevantes em um único texto\r\n",
    "string_relevante = ''\r\n",
    "for linha in relevantes.Treinamento:\r\n",
    "    string_relevante+= ' '+ linha"
   ],
   "outputs": [],
   "metadata": {}
  },
  {
   "cell_type": "code",
   "execution_count": 14,
   "source": [
    "# Transforma o dataframe irrelevantes em um único texto\r\n",
    "string_irrelevante = ''\r\n",
    "for linha in irrelevantes.Treinamento:\r\n",
    "    string_irrelevante+= ' '+ linha"
   ],
   "outputs": [],
   "metadata": {}
  },
  {
   "cell_type": "code",
   "execution_count": 15,
   "source": [
    "todas_relevantes = string_relevante.split()        #Lista com todas as palavras que aparece na string relevante\r\n",
    "todas_irrelevantes = string_irrelevante.split()    #Lista com todas as palavras que aparece na string irrelevante\r\n",
    "\r\n",
    "serie_relevante = pd.Series(todas_relevantes)      #Transforma a lista de strings relevantes em um series\r\n",
    "serie_irrelevante = pd.Series(todas_irrelevantes)  #Transforma a lista de strings irrelevantes em um series"
   ],
   "outputs": [],
   "metadata": {}
  },
  {
   "cell_type": "code",
   "execution_count": 16,
   "source": [
    "tabela_relevante_relativa = serie_relevante.value_counts(True)\r\n",
    "tabela_relevante_relativa.head()            # percentual de cada palavra da series relevante"
   ],
   "outputs": [
    {
     "output_type": "execute_result",
     "data": {
      "text/plain": [
       "airfryer    0.094178\n",
       "batata      0.015982\n",
       "pra         0.014840\n",
       "compr       0.014840\n",
       "q           0.012557\n",
       "dtype: float64"
      ]
     },
     "metadata": {},
     "execution_count": 16
    }
   ],
   "metadata": {
    "scrolled": true
   }
  },
  {
   "cell_type": "code",
   "execution_count": 17,
   "source": [
    "tabela_irrelevante_relativa = serie_irrelevante.value_counts(True)\r\n",
    "tabela_irrelevante_relativa.head()     # percentual de cada palavra da series irrelevante"
   ],
   "outputs": [
    {
     "output_type": "execute_result",
     "data": {
      "text/plain": [
       "airfryer    0.099794\n",
       "pra         0.009635\n",
       "q           0.008947\n",
       "casa        0.006882\n",
       "óleo        0.006194\n",
       "dtype: float64"
      ]
     },
     "metadata": {},
     "execution_count": 17
    }
   ],
   "metadata": {}
  },
  {
   "cell_type": "code",
   "execution_count": 18,
   "source": [
    "todas = string_irrelevante + string_relevante          # juntando todas as palavras que aparecem na base de dados Treinamento\r\n",
    "todas_as_palavras = todas.split()                      # lista com todas as palavras\r\n",
    "serie_total = pd.Series(todas_as_palavras) \r\n",
    "serie_total\r\n",
    "# tranforma a lista em Series\r\n",
    "# tabela_total_relativa = serie_total.value_counts(True)\r\n",
    "# tabela_total_relativa                                   # percentual de cada palavra em relação a todas as palavras"
   ],
   "outputs": [
    {
     "output_type": "execute_result",
     "data": {
      "text/plain": [
       "0       airfryer\n",
       "1        panelas\n",
       "2       polishop\n",
       "3        celebra\n",
       "4           anos\n",
       "          ...   \n",
       "3200       ranço\n",
       "3201      batata\n",
       "3202      palito\n",
       "3203       feita\n",
       "3204    airfryer\n",
       "Length: 3205, dtype: object"
      ]
     },
     "metadata": {},
     "execution_count": 18
    }
   ],
   "metadata": {}
  },
  {
   "cell_type": "code",
   "execution_count": 19,
   "source": [
    "P_R = len(todas_relevantes)/len(todas_as_palavras)        # probabilidade de uma palavra ser relevante\r\n",
    "P_I = len(todas_irrelevantes)/len(todas_as_palavras)      # probabilidade de uma palavra ser irrelevante\r\n",
    "P_I + P_R                                                 # soma das probabilidade para verificar se está correto"
   ],
   "outputs": [
    {
     "output_type": "execute_result",
     "data": {
      "text/plain": [
       "1.0"
      ]
     },
     "metadata": {},
     "execution_count": 19
    }
   ],
   "metadata": {}
  },
  {
   "cell_type": "code",
   "execution_count": 20,
   "source": [
    "freq_rel_absoluta = serie_relevante.value_counts()           # quantidade de cada palavra na serie relevante\r\n",
    "freq_irrel_absoluta = serie_irrelevante.value_counts()       # quantidade de cada palavra na serie irrelevante\r\n",
    "freq_tot_absoluta = serie_total.value_counts()               # quantidade de cada palavra na serie total"
   ],
   "outputs": [],
   "metadata": {}
  },
  {
   "cell_type": "markdown",
   "source": [
    "# Função Classificadora Naive-Bayes"
   ],
   "metadata": {}
  },
  {
   "cell_type": "code",
   "execution_count": 21,
   "source": [
    "def classificador(dataframe, series):                         #recebe o dataframe e a serie de tweets que será classificada\r\n",
    "    \r\n",
    "    classificados = []\r\n",
    "    for frase in series:\r\n",
    "        lista_palavras = frase.split()\r\n",
    "        lista_palavras = retirar_stopwords(lista_palavras)    #implementa função que tira as stopwords\r\n",
    "        k,i = 0,0                                             #contador de palavras NÃO presentes em relevantes (k) e em irrevelantes (i)\r\n",
    "        for palavra in lista_palavras:\r\n",
    "            if palavra not in todas_relevantes: \r\n",
    "                k += 1\r\n",
    "            if palavra not in todas_irrelevantes:\r\n",
    "                i += 1\r\n",
    "\r\n",
    "        prob_frase_dado_relevante = 1\r\n",
    "        prob_frase_dado_irrelevante = 1\r\n",
    "\r\n",
    "        if k > 0:                                   #se tiver palavras no series que não estao na nossa base de dados relevantes\r\n",
    "            for palavra in lista_palavras:\r\n",
    "                if palavra in freq_rel_absoluta:\r\n",
    "                    prob = (freq_rel_absoluta[palavra]+ 1 ) / (freq_rel_absoluta.sum()+ len(freq_tot_absoluta)) # SUAVIZAÇÃO DE LAPLACE\"\r\n",
    "                else: \r\n",
    "                    prob = (0 + 1 ) / (freq_rel_absoluta.sum()+ len(freq_tot_absoluta))\r\n",
    "                prob_frase_dado_relevante *= prob           #multiplica a probabilidade de cada palavra dado frase\r\n",
    "        else:\r\n",
    "            for palavra in lista_palavras:\r\n",
    "                prob = freq_rel_absoluta[palavra] / freq_rel_absoluta.sum()\r\n",
    "                prob_frase_dado_relevante *= prob           #multiplica a probabilidade de cada palavra dado frase\r\n",
    "\r\n",
    "        if i > 0:\r\n",
    "            for palavra in lista_palavras:\r\n",
    "                if palavra in freq_irrel_absoluta:\r\n",
    "                    prob = ( freq_irrel_absoluta[palavra]+ 1 ) / (freq_irrel_absoluta.sum() +len(freq_tot_absoluta))\r\n",
    "                else:\r\n",
    "                    prob = ( 0 + 1 ) / (freq_irrel_absoluta.sum() +len(freq_tot_absoluta))\r\n",
    "                prob_frase_dado_irrelevante *= prob         #multiplica a probabilidade de cada palavra dado frase\r\n",
    "        else:\r\n",
    "            for palavra in lista_palavras:\r\n",
    "                prob = ( freq_irrel_absoluta[palavra] ) / (freq_irrel_absoluta.sum())\r\n",
    "                prob_frase_dado_irrelevante *= prob         #multiplica a probabilidade de cada palavra dado frase\r\n",
    "                \r\n",
    "        probRdadoFrase = prob_frase_dado_relevante* P_R\r\n",
    "        probIdadoFrase = prob_frase_dado_irrelevante* P_I\r\n",
    "        \r\n",
    "        if probRdadoFrase > probIdadoFrase:\r\n",
    "            classificados.append(1)                         #classifica como relevante\r\n",
    "        else:  \r\n",
    "            classificados.append(0)                         #classifica como irrelevante\r\n",
    "            \r\n",
    "    dataframe['Classificado'] = pd.Series(classificados)    #adiciona uma nova coluna ao dataframe com a classificação\r\n",
    "    return dataframe\r\n",
    "                "
   ],
   "outputs": [],
   "metadata": {}
  },
  {
   "cell_type": "markdown",
   "source": [
    "___\n",
    "### Verificando a performance do Classificador\n",
    "\n",
    "Agora você deve testar o seu classificador com a base de Testes."
   ],
   "metadata": {}
  },
  {
   "cell_type": "code",
   "execution_count": 22,
   "source": [
    "test"
   ],
   "outputs": [
    {
     "output_type": "execute_result",
     "data": {
      "text/html": [
       "<div>\n",
       "<style scoped>\n",
       "    .dataframe tbody tr th:only-of-type {\n",
       "        vertical-align: middle;\n",
       "    }\n",
       "\n",
       "    .dataframe tbody tr th {\n",
       "        vertical-align: top;\n",
       "    }\n",
       "\n",
       "    .dataframe thead th {\n",
       "        text-align: right;\n",
       "    }\n",
       "</style>\n",
       "<table border=\"1\" class=\"dataframe\">\n",
       "  <thead>\n",
       "    <tr style=\"text-align: right;\">\n",
       "      <th></th>\n",
       "      <th>Teste</th>\n",
       "      <th>Classificação</th>\n",
       "    </tr>\n",
       "  </thead>\n",
       "  <tbody>\n",
       "    <tr>\n",
       "      <th>0</th>\n",
       "      <td>o bom da airfryer fica tudo pronto rápido, não...</td>\n",
       "      <td>1</td>\n",
       "    </tr>\n",
       "    <tr>\n",
       "      <th>1</th>\n",
       "      <td>um app pra calcular se é mais barato fazer a c...</td>\n",
       "      <td>0</td>\n",
       "    </tr>\n",
       "    <tr>\n",
       "      <th>2</th>\n",
       "      <td>@raytotsukishiro aumentou o preço de tudo. aqu...</td>\n",
       "      <td>0</td>\n",
       "    </tr>\n",
       "    <tr>\n",
       "      <th>3</th>\n",
       "      <td>meti um pão de queijo na airfryer 😌</td>\n",
       "      <td>1</td>\n",
       "    </tr>\n",
       "    <tr>\n",
       "      <th>4</th>\n",
       "      <td>@alcysio @safbf pô alcysio, me adaptei total p...</td>\n",
       "      <td>1</td>\n",
       "    </tr>\n",
       "    <tr>\n",
       "      <th>...</th>\n",
       "      <td>...</td>\n",
       "      <td>...</td>\n",
       "    </tr>\n",
       "    <tr>\n",
       "      <th>195</th>\n",
       "      <td>tutorial bolinha de queijo✨\\n\\n200g de queijo ...</td>\n",
       "      <td>1</td>\n",
       "    </tr>\n",
       "    <tr>\n",
       "      <th>196</th>\n",
       "      <td>pessoal daqui de casa inventou de querer fazer...</td>\n",
       "      <td>1</td>\n",
       "    </tr>\n",
       "    <tr>\n",
       "      <th>197</th>\n",
       "      <td>eu nao sei voces, mas eu ganhei uma airfryer g...</td>\n",
       "      <td>1</td>\n",
       "    </tr>\n",
       "    <tr>\n",
       "      <th>198</th>\n",
       "      <td>@ibebelly amanhã eu vou fazer um pão de alho d...</td>\n",
       "      <td>1</td>\n",
       "    </tr>\n",
       "    <tr>\n",
       "      <th>199</th>\n",
       "      <td>disse pra vovó que tô estagiando e a mulher já...</td>\n",
       "      <td>1</td>\n",
       "    </tr>\n",
       "  </tbody>\n",
       "</table>\n",
       "<p>200 rows × 2 columns</p>\n",
       "</div>"
      ],
      "text/plain": [
       "                                                 Teste  Classificação\n",
       "0    o bom da airfryer fica tudo pronto rápido, não...              1\n",
       "1    um app pra calcular se é mais barato fazer a c...              0\n",
       "2    @raytotsukishiro aumentou o preço de tudo. aqu...              0\n",
       "3                  meti um pão de queijo na airfryer 😌              1\n",
       "4    @alcysio @safbf pô alcysio, me adaptei total p...              1\n",
       "..                                                 ...            ...\n",
       "195  tutorial bolinha de queijo✨\\n\\n200g de queijo ...              1\n",
       "196  pessoal daqui de casa inventou de querer fazer...              1\n",
       "197  eu nao sei voces, mas eu ganhei uma airfryer g...              1\n",
       "198  @ibebelly amanhã eu vou fazer um pão de alho d...              1\n",
       "199  disse pra vovó que tô estagiando e a mulher já...              1\n",
       "\n",
       "[200 rows x 2 columns]"
      ]
     },
     "metadata": {},
     "execution_count": 22
    }
   ],
   "metadata": {}
  },
  {
   "cell_type": "code",
   "execution_count": 23,
   "source": [
    "lista = []\r\n",
    "\r\n",
    "for linha in test['Teste']:\r\n",
    "    limpo = cleanup(linha.lower())             # Limpa a planilha Teste e tira as letras maiúsculas\r\n",
    "    a = limpo.split()\r\n",
    "    b = retirar_stopwords(a)\r\n",
    "    limpo = ' '.join(b)  \r\n",
    "    lista.append(limpo)\r\n",
    "\r\n",
    "test['Teste'] = pd.Series(lista)             # Substitui os tweets originais da planilha, pelos tweets limpos\r\n",
    "test"
   ],
   "outputs": [
    {
     "output_type": "execute_result",
     "data": {
      "text/html": [
       "<div>\n",
       "<style scoped>\n",
       "    .dataframe tbody tr th:only-of-type {\n",
       "        vertical-align: middle;\n",
       "    }\n",
       "\n",
       "    .dataframe tbody tr th {\n",
       "        vertical-align: top;\n",
       "    }\n",
       "\n",
       "    .dataframe thead th {\n",
       "        text-align: right;\n",
       "    }\n",
       "</style>\n",
       "<table border=\"1\" class=\"dataframe\">\n",
       "  <thead>\n",
       "    <tr style=\"text-align: right;\">\n",
       "      <th></th>\n",
       "      <th>Teste</th>\n",
       "      <th>Classificação</th>\n",
       "    </tr>\n",
       "  </thead>\n",
       "  <tbody>\n",
       "    <tr>\n",
       "      <th>0</th>\n",
       "      <td>bom airfryer fica tudo pronto rápido quero out...</td>\n",
       "      <td>1</td>\n",
       "    </tr>\n",
       "    <tr>\n",
       "      <th>1</th>\n",
       "      <td>app pra calcular barato fazer comida airfryer ...</td>\n",
       "      <td>0</td>\n",
       "    </tr>\n",
       "    <tr>\n",
       "      <th>2</th>\n",
       "      <td>aumentou preço tudo aqui gente compr airfryer ...</td>\n",
       "      <td>0</td>\n",
       "    </tr>\n",
       "    <tr>\n",
       "      <th>3</th>\n",
       "      <td>meti pão queij airfryer 😌</td>\n",
       "      <td>1</td>\n",
       "    </tr>\n",
       "    <tr>\n",
       "      <th>4</th>\n",
       "      <td>pô alcysio adaptei total pra usar mínimo gás a...</td>\n",
       "      <td>1</td>\n",
       "    </tr>\n",
       "    <tr>\n",
       "      <th>...</th>\n",
       "      <td>...</td>\n",
       "      <td>...</td>\n",
       "    </tr>\n",
       "    <tr>\n",
       "      <th>195</th>\n",
       "      <td>tutorial bolinha queij g queij muçarela ralado...</td>\n",
       "      <td>1</td>\n",
       "    </tr>\n",
       "    <tr>\n",
       "      <th>196</th>\n",
       "      <td>pessoal daqui casa inventou querer fazer tudo ...</td>\n",
       "      <td>1</td>\n",
       "    </tr>\n",
       "    <tr>\n",
       "      <th>197</th>\n",
       "      <td>nao sei voces ganhei airfryer gigante</td>\n",
       "      <td>1</td>\n",
       "    </tr>\n",
       "    <tr>\n",
       "      <th>198</th>\n",
       "      <td>amanhã vou fazer pão alho airfryer mandar foto...</td>\n",
       "      <td>1</td>\n",
       "    </tr>\n",
       "    <tr>\n",
       "      <th>199</th>\n",
       "      <td>disse pra vovó tô estagiando mulher mandou com...</td>\n",
       "      <td>1</td>\n",
       "    </tr>\n",
       "  </tbody>\n",
       "</table>\n",
       "<p>200 rows × 2 columns</p>\n",
       "</div>"
      ],
      "text/plain": [
       "                                                 Teste  Classificação\n",
       "0    bom airfryer fica tudo pronto rápido quero out...              1\n",
       "1    app pra calcular barato fazer comida airfryer ...              0\n",
       "2    aumentou preço tudo aqui gente compr airfryer ...              0\n",
       "3                            meti pão queij airfryer 😌              1\n",
       "4    pô alcysio adaptei total pra usar mínimo gás a...              1\n",
       "..                                                 ...            ...\n",
       "195  tutorial bolinha queij g queij muçarela ralado...              1\n",
       "196  pessoal daqui casa inventou querer fazer tudo ...              1\n",
       "197              nao sei voces ganhei airfryer gigante              1\n",
       "198  amanhã vou fazer pão alho airfryer mandar foto...              1\n",
       "199  disse pra vovó tô estagiando mulher mandou com...              1\n",
       "\n",
       "[200 rows x 2 columns]"
      ]
     },
     "metadata": {},
     "execution_count": 23
    }
   ],
   "metadata": {}
  },
  {
   "cell_type": "markdown",
   "source": [
    "# Implementando a função..."
   ],
   "metadata": {}
  },
  {
   "cell_type": "code",
   "execution_count": 24,
   "source": [
    "df = test               # dataframe que será argumento da função classificadora\r\n",
    "series= test['Teste']   # series que será argumento da função classificadora"
   ],
   "outputs": [],
   "metadata": {}
  },
  {
   "cell_type": "code",
   "execution_count": 25,
   "source": [
    "# Implementa função\r\n",
    "df_classificado = classificador(df, series) #dataframe que passou pelo função para classificar os tweets\r\n",
    "df_classificado"
   ],
   "outputs": [
    {
     "output_type": "execute_result",
     "data": {
      "text/html": [
       "<div>\n",
       "<style scoped>\n",
       "    .dataframe tbody tr th:only-of-type {\n",
       "        vertical-align: middle;\n",
       "    }\n",
       "\n",
       "    .dataframe tbody tr th {\n",
       "        vertical-align: top;\n",
       "    }\n",
       "\n",
       "    .dataframe thead th {\n",
       "        text-align: right;\n",
       "    }\n",
       "</style>\n",
       "<table border=\"1\" class=\"dataframe\">\n",
       "  <thead>\n",
       "    <tr style=\"text-align: right;\">\n",
       "      <th></th>\n",
       "      <th>Teste</th>\n",
       "      <th>Classificação</th>\n",
       "      <th>Classificado</th>\n",
       "    </tr>\n",
       "  </thead>\n",
       "  <tbody>\n",
       "    <tr>\n",
       "      <th>0</th>\n",
       "      <td>bom airfryer fica tudo pronto rápido quero out...</td>\n",
       "      <td>1</td>\n",
       "      <td>1</td>\n",
       "    </tr>\n",
       "    <tr>\n",
       "      <th>1</th>\n",
       "      <td>app pra calcular barato fazer comida airfryer ...</td>\n",
       "      <td>0</td>\n",
       "      <td>1</td>\n",
       "    </tr>\n",
       "    <tr>\n",
       "      <th>2</th>\n",
       "      <td>aumentou preço tudo aqui gente compr airfryer ...</td>\n",
       "      <td>0</td>\n",
       "      <td>0</td>\n",
       "    </tr>\n",
       "    <tr>\n",
       "      <th>3</th>\n",
       "      <td>meti pão queij airfryer 😌</td>\n",
       "      <td>1</td>\n",
       "      <td>1</td>\n",
       "    </tr>\n",
       "    <tr>\n",
       "      <th>4</th>\n",
       "      <td>pô alcysio adaptei total pra usar mínimo gás a...</td>\n",
       "      <td>1</td>\n",
       "      <td>1</td>\n",
       "    </tr>\n",
       "    <tr>\n",
       "      <th>...</th>\n",
       "      <td>...</td>\n",
       "      <td>...</td>\n",
       "      <td>...</td>\n",
       "    </tr>\n",
       "    <tr>\n",
       "      <th>195</th>\n",
       "      <td>tutorial bolinha queij g queij muçarela ralado...</td>\n",
       "      <td>1</td>\n",
       "      <td>0</td>\n",
       "    </tr>\n",
       "    <tr>\n",
       "      <th>196</th>\n",
       "      <td>pessoal daqui casa inventou querer fazer tudo ...</td>\n",
       "      <td>1</td>\n",
       "      <td>1</td>\n",
       "    </tr>\n",
       "    <tr>\n",
       "      <th>197</th>\n",
       "      <td>nao sei voces ganhei airfryer gigante</td>\n",
       "      <td>1</td>\n",
       "      <td>1</td>\n",
       "    </tr>\n",
       "    <tr>\n",
       "      <th>198</th>\n",
       "      <td>amanhã vou fazer pão alho airfryer mandar foto...</td>\n",
       "      <td>1</td>\n",
       "      <td>1</td>\n",
       "    </tr>\n",
       "    <tr>\n",
       "      <th>199</th>\n",
       "      <td>disse pra vovó tô estagiando mulher mandou com...</td>\n",
       "      <td>1</td>\n",
       "      <td>1</td>\n",
       "    </tr>\n",
       "  </tbody>\n",
       "</table>\n",
       "<p>200 rows × 3 columns</p>\n",
       "</div>"
      ],
      "text/plain": [
       "                                                 Teste  Classificação  \\\n",
       "0    bom airfryer fica tudo pronto rápido quero out...              1   \n",
       "1    app pra calcular barato fazer comida airfryer ...              0   \n",
       "2    aumentou preço tudo aqui gente compr airfryer ...              0   \n",
       "3                            meti pão queij airfryer 😌              1   \n",
       "4    pô alcysio adaptei total pra usar mínimo gás a...              1   \n",
       "..                                                 ...            ...   \n",
       "195  tutorial bolinha queij g queij muçarela ralado...              1   \n",
       "196  pessoal daqui casa inventou querer fazer tudo ...              1   \n",
       "197              nao sei voces ganhei airfryer gigante              1   \n",
       "198  amanhã vou fazer pão alho airfryer mandar foto...              1   \n",
       "199  disse pra vovó tô estagiando mulher mandou com...              1   \n",
       "\n",
       "     Classificado  \n",
       "0               1  \n",
       "1               1  \n",
       "2               0  \n",
       "3               1  \n",
       "4               1  \n",
       "..            ...  \n",
       "195             0  \n",
       "196             1  \n",
       "197             1  \n",
       "198             1  \n",
       "199             1  \n",
       "\n",
       "[200 rows x 3 columns]"
      ]
     },
     "metadata": {},
     "execution_count": 25
    }
   ],
   "metadata": {}
  },
  {
   "cell_type": "code",
   "execution_count": 26,
   "source": [
    "filtro_1 = df_classificado.Classificação == 1\r\n",
    "nova = df_classificado.loc[filtro_1]\r\n",
    "#planilha que classificamos como relevante"
   ],
   "outputs": [],
   "metadata": {}
  },
  {
   "cell_type": "code",
   "execution_count": 27,
   "source": [
    "filtro1_new = df_classificado.Classificado == 1\r\n",
    "new = df_classificado.loc[filtro1_new]\r\n",
    "#planilha que foi classificada pela função como relevante"
   ],
   "outputs": [],
   "metadata": {}
  },
  {
   "cell_type": "markdown",
   "source": [
    "## Extraindo as contagens para verificação de performance"
   ],
   "metadata": {}
  },
  {
   "cell_type": "code",
   "execution_count": 35,
   "source": [
    "tabela = pd.crosstab(df_classificado.Classificado, df_classificado.Classificação, normalize= True)  # tabela de porcentagens\r\n",
    "tabela"
   ],
   "outputs": [
    {
     "output_type": "execute_result",
     "data": {
      "text/html": [
       "<div>\n",
       "<style scoped>\n",
       "    .dataframe tbody tr th:only-of-type {\n",
       "        vertical-align: middle;\n",
       "    }\n",
       "\n",
       "    .dataframe tbody tr th {\n",
       "        vertical-align: top;\n",
       "    }\n",
       "\n",
       "    .dataframe thead th {\n",
       "        text-align: right;\n",
       "    }\n",
       "</style>\n",
       "<table border=\"1\" class=\"dataframe\">\n",
       "  <thead>\n",
       "    <tr style=\"text-align: right;\">\n",
       "      <th>Classificação</th>\n",
       "      <th>0</th>\n",
       "      <th>1</th>\n",
       "    </tr>\n",
       "    <tr>\n",
       "      <th>Classificado</th>\n",
       "      <th></th>\n",
       "      <th></th>\n",
       "    </tr>\n",
       "  </thead>\n",
       "  <tbody>\n",
       "    <tr>\n",
       "      <th>0</th>\n",
       "      <td>0.28</td>\n",
       "      <td>0.095</td>\n",
       "    </tr>\n",
       "    <tr>\n",
       "      <th>1</th>\n",
       "      <td>0.17</td>\n",
       "      <td>0.455</td>\n",
       "    </tr>\n",
       "  </tbody>\n",
       "</table>\n",
       "</div>"
      ],
      "text/plain": [
       "Classificação     0      1\n",
       "Classificado              \n",
       "0              0.28  0.095\n",
       "1              0.17  0.455"
      ]
     },
     "metadata": {},
     "execution_count": 35
    }
   ],
   "metadata": {}
  },
  {
   "cell_type": "markdown",
   "source": [
    "Porcentagem de verdadeiros positivos (mensagens relevantes e que são\n",
    "classificadas como relevantes)"
   ],
   "metadata": {}
  },
  {
   "cell_type": "code",
   "execution_count": 29,
   "source": [
    "verdadeiros_positivos = tabela.iloc[1,1]*100\r\n",
    "verdadeiros_positivos"
   ],
   "outputs": [
    {
     "output_type": "execute_result",
     "data": {
      "text/plain": [
       "45.5"
      ]
     },
     "metadata": {},
     "execution_count": 29
    }
   ],
   "metadata": {}
  },
  {
   "cell_type": "markdown",
   "source": [
    "Porcentagem de falsos positivos (mensagens irrelevantes e que são classificadas\n",
    "como relevantes)"
   ],
   "metadata": {}
  },
  {
   "cell_type": "code",
   "execution_count": 30,
   "source": [
    "falsos_positivos = tabela.iloc[1,0]*100\r\n",
    "falsos_positivos"
   ],
   "outputs": [
    {
     "output_type": "execute_result",
     "data": {
      "text/plain": [
       "17.0"
      ]
     },
     "metadata": {},
     "execution_count": 30
    }
   ],
   "metadata": {}
  },
  {
   "cell_type": "markdown",
   "source": [
    "Porcentagem de verdadeiros negativos (mensagens irrelevantes e que são\n",
    "classificadas como irrelevantes)"
   ],
   "metadata": {}
  },
  {
   "cell_type": "code",
   "execution_count": 31,
   "source": [
    "verdadeiros_negativos = tabela.iloc[0,0]*100\r\n",
    "verdadeiros_negativos"
   ],
   "outputs": [
    {
     "output_type": "execute_result",
     "data": {
      "text/plain": [
       "28.000000000000004"
      ]
     },
     "metadata": {},
     "execution_count": 31
    }
   ],
   "metadata": {}
  },
  {
   "cell_type": "markdown",
   "source": [
    "Porcentagem de falsos negativos (mensagens relevantes e que são classificadas\n",
    "como irrelevantes)"
   ],
   "metadata": {}
  },
  {
   "cell_type": "code",
   "execution_count": 32,
   "source": [
    "falsos_negativos = tabela.iloc[0,1]*100\r\n",
    "falsos_negativos"
   ],
   "outputs": [
    {
     "output_type": "execute_result",
     "data": {
      "text/plain": [
       "9.5"
      ]
     },
     "metadata": {},
     "execution_count": 32
    }
   ],
   "metadata": {}
  },
  {
   "cell_type": "markdown",
   "source": [
    "Acurácia (mensagens corretamente classificadas, independente da categoria)"
   ],
   "metadata": {}
  },
  {
   "cell_type": "code",
   "execution_count": 33,
   "source": [
    "acuracia = verdadeiros_positivos + verdadeiros_negativos\r\n",
    "acuracia"
   ],
   "outputs": [
    {
     "output_type": "execute_result",
     "data": {
      "text/plain": [
       "73.5"
      ]
     },
     "metadata": {},
     "execution_count": 33
    }
   ],
   "metadata": {}
  },
  {
   "cell_type": "code",
   "execution_count": null,
   "source": [],
   "outputs": [],
   "metadata": {
    "scrolled": true
   }
  },
  {
   "cell_type": "code",
   "execution_count": null,
   "source": [],
   "outputs": [],
   "metadata": {
    "scrolled": true
   }
  },
  {
   "cell_type": "markdown",
   "source": [
    "___\n",
    "### Concluindo"
   ],
   "metadata": {}
  },
  {
   "cell_type": "markdown",
   "source": [
    "Observando as porcentagens de verdadeiros positivos e negativos, temos que o nosso classificador teve uma acurácia de 73.5%, o que é significa que dado 100% dos tweets, teríamos 26.5% de falhas(falsos positivos e negativos).\r\n",
    "Olhando de maneira mais aprofundada, pegando somente os que foram classificados como positivos, que foi 62.5% dos tweets totais. Temos que a porcentagem de verdadeiros positivos(relevantes) é mais que o dobro que a de falsos positivos. fazendo os acertos/erros em porcentagem : 45/62.5 = 72.8%! \r\n",
    "Da mesma forma, olhando para os tweets que foram classificados como negativos(irrelevantes), temos que eles foram 37.5% dos tweets totais dentro desses 37.5% temos que os acertos foram de 28% ou seja, fazendo acertos/erros: 28/37.5 = 74,6% !\r\n"
   ],
   "metadata": {}
  },
  {
   "cell_type": "code",
   "execution_count": null,
   "source": [],
   "outputs": [],
   "metadata": {}
  },
  {
   "cell_type": "markdown",
   "source": [
    "___\n",
    "### Qualidade do Classificador a partir de novas separações dos tweets entre Treinamento e Teste\n",
    "\n",
    "Caso for fazer esse item do Projeto"
   ],
   "metadata": {}
  },
  {
   "cell_type": "code",
   "execution_count": null,
   "source": [],
   "outputs": [],
   "metadata": {}
  },
  {
   "cell_type": "code",
   "execution_count": null,
   "source": [],
   "outputs": [],
   "metadata": {}
  },
  {
   "cell_type": "code",
   "execution_count": null,
   "source": [],
   "outputs": [],
   "metadata": {}
  },
  {
   "cell_type": "markdown",
   "source": [
    "___\n",
    "## Aperfeiçoamento:\n",
    "\n",
    "Trabalhos que conseguirem pelo menos conceito B vão evoluir em conceito dependendo da quantidade de itens avançados:\n",
    "\n",
    "* IMPLEMENTOU outras limpezas e transformações que não afetem a qualidade da informação contida nos tweets. Ex: stemming, lemmatization, stopwords\n",
    "* CORRIGIU separação de espaços entre palavras e emojis ou entre emojis e emojis\n",
    "* CRIOU categorias intermediárias de relevância baseadas na probabilidade: ex.: muito relevante, relevante, neutro, irrelevante, muito irrelevante. Pelo menos quatro categorias, com adição de mais tweets na base, conforme enunciado. (OBRIGATÓRIO PARA TRIOS, sem contar como item avançado)\n",
    "* EXPLICOU porquê não pode usar o próprio classificador para gerar mais amostras de treinamento\n",
    "* PROPÔS diferentes cenários para Naïve Bayes fora do contexto do projeto\n",
    "* SUGERIU e EXPLICOU melhorias reais com indicações concretas de como implementar (indicar como fazer e indicar material de pesquisa)\n",
    "* FEZ o item 6. Qualidade do Classificador a partir de novas separações dos tweets entre Treinamento e Teste descrito no enunciado do projeto (OBRIGATÓRIO para conceitos A ou A+)"
   ],
   "metadata": {}
  },
  {
   "cell_type": "markdown",
   "source": [
    "___\n",
    "## Referências"
   ],
   "metadata": {}
  },
  {
   "cell_type": "markdown",
   "source": [
    "[Naive Bayes and Text Classification](https://arxiv.org/pdf/1410.5329.pdf)  **Mais completo**\n",
    "\n",
    "[A practical explanation of a Naive Bayes Classifier](https://monkeylearn.com/blog/practical-explanation-naive-bayes-classifier/) **Mais simples**"
   ],
   "metadata": {}
  },
  {
   "cell_type": "code",
   "execution_count": null,
   "source": [],
   "outputs": [],
   "metadata": {}
  }
 ],
 "metadata": {
  "interpreter": {
   "hash": "56505bb563a3a8c3edae909efbbeba68d55f556b46955e58b7586a74f580b29e"
  },
  "kernelspec": {
   "name": "python3",
   "display_name": "Python 3.8.8 64-bit ('base': conda)"
  },
  "language_info": {
   "codemirror_mode": {
    "name": "ipython",
    "version": 3
   },
   "file_extension": ".py",
   "mimetype": "text/x-python",
   "name": "python",
   "nbconvert_exporter": "python",
   "pygments_lexer": "ipython3",
   "version": "3.8.8"
  }
 },
 "nbformat": 4,
 "nbformat_minor": 4
}