{
 "cells": [
  {
   "cell_type": "markdown",
   "source": [
    "# Projeto 1 - Ciência dos Dados"
   ],
   "metadata": {}
  },
  {
   "cell_type": "markdown",
   "source": [
    "Nome: Camila Soares Magni\n",
    "\n",
    "Nome: Lincoln Rodrigo Pereira Melo"
   ],
   "metadata": {}
  },
  {
   "cell_type": "markdown",
   "source": [
    "Atenção: Serão permitidos grupos de três pessoas, mas com uma rubrica mais exigente. Grupos deste tamanho precisarão fazer um questionário de avaliação de trabalho em equipe"
   ],
   "metadata": {}
  },
  {
   "cell_type": "markdown",
   "source": [
    "___\n",
    "Carregando algumas bibliotecas:"
   ],
   "metadata": {}
  },
  {
   "cell_type": "code",
   "execution_count": 26,
   "source": [
    "%matplotlib inline\r\n",
    "import pandas as pd\r\n",
    "import matplotlib.pyplot as plt\r\n",
    "import numpy as np\r\n",
    "import os"
   ],
   "outputs": [],
   "metadata": {}
  },
  {
   "cell_type": "code",
   "execution_count": 27,
   "source": [
    "print('Esperamos trabalhar no diretório')\r\n",
    "print(os.getcwd())"
   ],
   "outputs": [
    {
     "output_type": "stream",
     "name": "stdout",
     "text": [
      "Esperamos trabalhar no diretório\n",
      "c:\\Users\\Lincoln\\Desktop\\Matérias2021.2\\Cdados\\LAST\\Proj1Cdados\n"
     ]
    }
   ],
   "metadata": {
    "scrolled": false
   }
  },
  {
   "cell_type": "markdown",
   "source": [
    "Carregando a base de dados com os tweets classificados como relevantes e não relevantes:"
   ],
   "metadata": {}
  },
  {
   "cell_type": "code",
   "execution_count": 28,
   "source": [
    "filename = 'airfryer.xlsx'"
   ],
   "outputs": [],
   "metadata": {}
  },
  {
   "cell_type": "code",
   "execution_count": 29,
   "source": [
    "train = pd.read_excel(filename)\r\n",
    "train = train.dropna(axis=1)\r\n",
    "train.head(5)"
   ],
   "outputs": [
    {
     "output_type": "execute_result",
     "data": {
      "text/html": [
       "<div>\n",
       "<style scoped>\n",
       "    .dataframe tbody tr th:only-of-type {\n",
       "        vertical-align: middle;\n",
       "    }\n",
       "\n",
       "    .dataframe tbody tr th {\n",
       "        vertical-align: top;\n",
       "    }\n",
       "\n",
       "    .dataframe thead th {\n",
       "        text-align: right;\n",
       "    }\n",
       "</style>\n",
       "<table border=\"1\" class=\"dataframe\">\n",
       "  <thead>\n",
       "    <tr style=\"text-align: right;\">\n",
       "      <th></th>\n",
       "      <th>Treinamento</th>\n",
       "      <th>Classificação</th>\n",
       "    </tr>\n",
       "  </thead>\n",
       "  <tbody>\n",
       "    <tr>\n",
       "      <th>0</th>\n",
       "      <td>o twitter vai me fazer comprar uma airfryer</td>\n",
       "      <td>1</td>\n",
       "    </tr>\n",
       "    <tr>\n",
       "      <th>1</th>\n",
       "      <td>quero assar pão de queijo, mas o forno daqui d...</td>\n",
       "      <td>1</td>\n",
       "    </tr>\n",
       "    <tr>\n",
       "      <th>2</th>\n",
       "      <td>bom, aparentemente deu ruim e saiu toda a tint...</td>\n",
       "      <td>1</td>\n",
       "    </tr>\n",
       "    <tr>\n",
       "      <th>3</th>\n",
       "      <td>de airfryer a panelas: polishop celebra 22 ano...</td>\n",
       "      <td>0</td>\n",
       "    </tr>\n",
       "    <tr>\n",
       "      <th>4</th>\n",
       "      <td>@danielsmarconn mano eu tô louca nessa airfrye...</td>\n",
       "      <td>1</td>\n",
       "    </tr>\n",
       "  </tbody>\n",
       "</table>\n",
       "</div>"
      ],
      "text/plain": [
       "                                         Treinamento  Classificação\n",
       "0        o twitter vai me fazer comprar uma airfryer              1\n",
       "1  quero assar pão de queijo, mas o forno daqui d...              1\n",
       "2  bom, aparentemente deu ruim e saiu toda a tint...              1\n",
       "3  de airfryer a panelas: polishop celebra 22 ano...              0\n",
       "4  @danielsmarconn mano eu tô louca nessa airfrye...              1"
      ]
     },
     "metadata": {},
     "execution_count": 29
    }
   ],
   "metadata": {}
  },
  {
   "cell_type": "code",
   "execution_count": 30,
   "source": [
    "test = pd.read_excel(filename, sheet_name = 'Teste')\r\n",
    "test.head(5)"
   ],
   "outputs": [
    {
     "output_type": "execute_result",
     "data": {
      "text/html": [
       "<div>\n",
       "<style scoped>\n",
       "    .dataframe tbody tr th:only-of-type {\n",
       "        vertical-align: middle;\n",
       "    }\n",
       "\n",
       "    .dataframe tbody tr th {\n",
       "        vertical-align: top;\n",
       "    }\n",
       "\n",
       "    .dataframe thead th {\n",
       "        text-align: right;\n",
       "    }\n",
       "</style>\n",
       "<table border=\"1\" class=\"dataframe\">\n",
       "  <thead>\n",
       "    <tr style=\"text-align: right;\">\n",
       "      <th></th>\n",
       "      <th>Teste</th>\n",
       "      <th>Classificação</th>\n",
       "    </tr>\n",
       "  </thead>\n",
       "  <tbody>\n",
       "    <tr>\n",
       "      <th>0</th>\n",
       "      <td>o bom da airfryer fica tudo pronto rápido, não...</td>\n",
       "      <td>1</td>\n",
       "    </tr>\n",
       "    <tr>\n",
       "      <th>1</th>\n",
       "      <td>um app pra calcular se é mais barato fazer a c...</td>\n",
       "      <td>0</td>\n",
       "    </tr>\n",
       "    <tr>\n",
       "      <th>2</th>\n",
       "      <td>@raytotsukishiro aumentou o preço de tudo. aqu...</td>\n",
       "      <td>0</td>\n",
       "    </tr>\n",
       "    <tr>\n",
       "      <th>3</th>\n",
       "      <td>meti um pão de queijo na airfryer 😌</td>\n",
       "      <td>1</td>\n",
       "    </tr>\n",
       "    <tr>\n",
       "      <th>4</th>\n",
       "      <td>@alcysio @safbf pô alcysio, me adaptei total p...</td>\n",
       "      <td>1</td>\n",
       "    </tr>\n",
       "  </tbody>\n",
       "</table>\n",
       "</div>"
      ],
      "text/plain": [
       "                                               Teste  Classificação\n",
       "0  o bom da airfryer fica tudo pronto rápido, não...              1\n",
       "1  um app pra calcular se é mais barato fazer a c...              0\n",
       "2  @raytotsukishiro aumentou o preço de tudo. aqu...              0\n",
       "3                meti um pão de queijo na airfryer 😌              1\n",
       "4  @alcysio @safbf pô alcysio, me adaptei total p...              1"
      ]
     },
     "metadata": {},
     "execution_count": 30
    }
   ],
   "metadata": {}
  },
  {
   "cell_type": "markdown",
   "source": [
    "___\n",
    "## Classificador automático de sentimento\n"
   ],
   "metadata": {}
  },
  {
   "cell_type": "markdown",
   "source": [
    "## SOBRE O PRODUTO\n",
    "\n",
    "O produto escolhido foi a AirFryer : \"AirFryer ou air fryer é um eletrodoméstico usado para fritar alimentos. É tão eficaz quanto uma fritadeira tradicional que usa óleo, mas não utiliza a imersão em gorduras para a cocção/para o cozimento dos alimentos.\"\n",
    "\n",
    "fonte : https://pt.wikipedia.org/wiki/Fritadeira_sem_%C3%B3leo"
   ],
   "metadata": {}
  },
  {
   "cell_type": "markdown",
   "source": [
    "Faça aqui uma descrição do seu produto e o que considerou como relevante ou não relevante na classificação dos tweets.\r\n",
    "\r\n",
    "A partir da escolha do produto, foram considerados relevantes os tweets que expressam algum sentimento, seja positivo ou negativo, além de mensagens que demonstram vontade de adquirir o produto ou receitas que os usuários compartilham.\r\n",
    "O restante dos tweets foi considerado irrelevante, incluindo aqueles que utilizam o termo \"airfryer\" em outros contextos não relacionados diretamente ao produto (Por exemplo, \"Parece que estou dentro de uma airfryer\").\r\n"
   ],
   "metadata": {}
  },
  {
   "cell_type": "markdown",
   "source": [
    "___\n",
    "### Montando um Classificador Naive-Bayes\n",
    "\n",
    "Considerando apenas as mensagens da planilha Treinamento, ensine  seu classificador."
   ],
   "metadata": {}
  },
  {
   "cell_type": "markdown",
   "source": [
    "O classificador multinomial Naïve Bayes é um dos modelos mais populares no aprendizado de máquina. Tomando como premissa a suposição de independência entre as variáveis do problema, o modelo de Naïve Bayes realiza uma classificação probabilística de observações, caracterizando-as em classes pré-definidas. \r\n",
    "\r\n",
    "\r\n",
    "O algoritmo Naïve Bayes é uma aplicação direta do teorema homônimo. O termo naïve, (do inglês, ingênuo) se refere à premissa central do algoritmo de que os atributos considerados são não correlacionados entre si. \r\n",
    "\r\n",
    "fonte : https://www.digitalhouse.com/br/blog/naive-bayes\r\n",
    "\r\n",
    "\r\n",
    "Por exemplo, no classificador aqui montado, não são levada em contas expressões e apenas as palavras isoladas.\r\n",
    "\r\n",
    "\r\n",
    "Explicando um pouco da construção do classificador:\r\n",
    "\r\n",
    "#### Eventos:\r\n",
    "$R$:   tweets relevantes\r\n",
    "\r\n",
    "$R^C$: tweets irrelevantes\r\n",
    "\r\n",
    "$U$ :  todos os tweets relacionados com airfryer coletados\r\n",
    "\r\n",
    "$P(R)$ -> Probabilidade de um tweet ser relevante\r\n",
    "\r\n",
    "$P(R^C)$ -> Probabilidade de um tweet ser irrelevante\r\n",
    "\r\n",
    "$P(R/Tweet)$ -> Probabilidade de ser relevante dado que é um tweet relacionado com airfryer\r\n",
    "\r\n",
    "$P(R^C/Tweet)$ -> Probabilidade de ser irrelevante dado que é um tweet relacionado com airfryer\r\n",
    "\r\n",
    "Lembre-se que $P(A/B) = P(B/A) * P(A) / P(B)$\r\n",
    "\r\n",
    "Note que ao utilizar Naive-Bayes, queremos apenas classificar como relevante ou irrelevante, ou seja \r\n",
    "saber se P(R/Tweet) > P(R^C/Tweet) ou P(R^C/Tweet) > P(R/Tweet):\r\n",
    "Se calcularmos :\r\n",
    "$P(R/Tweet) = P(Tweet/R) * P(R) / P(Tweet)$   (i)\r\n",
    "\r\n",
    "e\r\n",
    "\r\n",
    "$P(R^C/Tweet) = P(Tweet/R^c) * P(R^c) / P(Tweet)$ (ii)\r\n",
    "\r\n",
    "Como queremos apenas a comparação entre (i) e (ii), podemos desconsiderar os denominadores na conta\r\n",
    "Portanto, para esse caso usaremos:\r\n",
    "\r\n",
    "$P(R/Tweet) = P(Tweet/R) * P(R)$\r\n",
    "\r\n",
    "$P(R^C/Tweet) = P(Tweet/R^c) * P(R^c)$\r\n",
    "\r\n",
    "Com isso, olhando para a $P(Tweet/R) e P(Tweet/R^c).$\r\n",
    "\r\n",
    "Considerando Tweet = palavra1 palavra2 palavra3\r\n",
    "\r\n",
    "A nossa $P(Tweet/R) = P(palavra1/R) * P(palavra2/R) * P(palavra3/R)$\r\n",
    "\r\n",
    "e \r\n",
    "$P(Tweet/R^C) = P(palavra1/R^C) * P(palavra2/R^C) * P(palavra3/R^C)$"
   ],
   "metadata": {}
  },
  {
   "cell_type": "markdown",
   "source": [
    "### Suavização de LaPlace:"
   ],
   "metadata": {}
  },
  {
   "cell_type": "markdown",
   "source": [
    "Seguindo a linha de raciocínio de Naive-Bayes, caso uma palavra não esteja presente no conjunto de palavras analisados, então teríamos:\n",
    "\n",
    "$P(palavra/R)$ = 0\n",
    "\n",
    "e\n",
    "\n",
    "$P(palavra/R^C)$ = 0.\n",
    "\n",
    "Portanto se essa palavra estivesse em qualquer frase, a probabilidade dessa frase ser classificada seria zero.\n",
    "\n",
    "Para resolver essa situação surgiu a Suavização de Laplace. Essa ideia se baseia em adicionar um em cada contagem para que o resultado do numerador nunca seja igual a zero. Além disso, adicionar o número de palavras possíveis no denominador para balancear e garantir que a divisão nunca vai ser maior do que 1.\n",
    "\n",
    "Note que essa ideia será aplicada na implementação da função."
   ],
   "metadata": {}
  },
  {
   "cell_type": "markdown",
   "source": [
    "### Funções para a limpeza da base de dados:"
   ],
   "metadata": {}
  },
  {
   "cell_type": "code",
   "execution_count": 31,
   "source": [
    "import pandas as pd\r\n",
    "import numpy as np\r\n",
    "from IPython.display import display\r\n",
    "import re \r\n",
    "import nltk\r\n",
    "\r\n",
    "# Função de limpeza dos textos\r\n",
    "def cleanup(text):\r\n",
    "    punctuation = '[\"\"''!-.:?;“”~1234567890]'                            # sinais que queremos retirar do texto\r\n",
    "    pattern = re.compile(punctuation)\r\n",
    "    text_subbed = re.sub(pattern, '', text)                              # retira os sinais\r\n",
    "    text_subbed = re.sub(r\"http\\S+\", \"\", text_subbed)                    # retira os URL\r\n",
    "    text_subbed = re.sub('@[^\\s]+','',text_subbed,flags=re.MULTILINE)    # retira os nomes de usuário\r\n",
    "    text_subbed = re.sub(r\"kk\\S+\", \"kk\", text_subbed)                    # transforma as strings que começam com kk em 'kk'\r\n",
    "    text_subbed = re.sub(r\"compr\\S+\", \"compr\", text_subbed)              # transforma as strings que começam com compr (radical do verbo comprar) em \"compr\"\r\n",
    "    text_subbed = re.sub(r\"limp\\S+\", \"limp\", text_subbed)                # transforma as strings que começam com limp (radical do verbo limpar) em \"limp\"\r\n",
    "    text_subbed = re.sub(r\"aa\\S+\", \"\", text_subbed)                      # retira as strings que começam com aa (normalmente alguma expressão ou sequência de letras sem sentido)\r\n",
    "    text_subbed = re.sub(r\"airfryer\\S+\", \"airfryer\", text_subbed)        # usado evitar que erros de escrita de palavras coladas com airfryer não acontecam\r\n",
    "    text_subbed = re.sub(r\"queij\\S+\", \"queij\", text_subbed)              # para corrigir alguns erros de português comuns dos usuários dos tweets (receita recorrente)\r\n",
    "    text_subbed = re.sub(r\"batat\\S+\", \"batata\", text_subbed)             # transforma as strings que começam com batat (radical da palavra batata) para evitar variações como \"Batatinhas\"\r\n",
    "    aux = nltk.TweetTokenizer()\r\n",
    "    text_subbed = aux.tokenize(text_subbed)                              # separa os emojis\r\n",
    "    string_final = ' '.join(text_subbed)                                 # string limpa\r\n",
    "    return string_final"
   ],
   "outputs": [],
   "metadata": {}
  },
  {
   "cell_type": "code",
   "execution_count": 32,
   "source": [
    "# Função para tirar as 'Stopwords' em português:\r\n",
    "# nltk.download('stopwords') - INSTALAR, caso vc não tenha instalado\r\n",
    "def retirar_stopwords(lista):\r\n",
    "    lista_limpa = []\r\n",
    "    stopwords = nltk.corpus.stopwords.words('portuguese')\r\n",
    "    for palavra in lista:\r\n",
    "        if palavra not in stopwords:\r\n",
    "            lista_limpa.append(palavra)\r\n",
    "    return lista_limpa"
   ],
   "outputs": [],
   "metadata": {}
  },
  {
   "cell_type": "markdown",
   "source": [
    "### Realizando a limpeza da base de treinamento"
   ],
   "metadata": {}
  },
  {
   "cell_type": "code",
   "execution_count": 33,
   "source": [
    "lista = []\r\n",
    "for linha in train['Treinamento']:\r\n",
    "    limpo = cleanup(linha.lower())             # Limpa a planilha Treinamento e tira as letras maiúsculas \r\n",
    "    a = limpo.split()\r\n",
    "    b = retirar_stopwords(a)\r\n",
    "    limpo = ' '.join(b)  \r\n",
    "    lista.append(limpo)\r\n",
    "    \r\n",
    "serie_train = pd.Series(lista)                 # Transforma a coluna da planilha Treinamento em Series\r\n",
    "train['Treinamento'] = serie_train        # substitui os tweets originais da planilha, pelos tweets limpos\r\n"
   ],
   "outputs": [],
   "metadata": {}
  },
  {
   "cell_type": "markdown",
   "source": [
    "# Função Classificadora Naive-Bayes"
   ],
   "metadata": {}
  },
  {
   "cell_type": "markdown",
   "source": [
    "Na Célula abaixo está implementada a função classificadora Naive-Bayes"
   ],
   "metadata": {}
  },
  {
   "cell_type": "code",
   "execution_count": 34,
   "source": [
    "def classificador(dataframe, series):                         #recebe o dataframe e a serie de tweets que será classificada\r\n",
    "    \r\n",
    "    filtro = train.Classificação==1          # filtra os tweets classificados como relevantes\r\n",
    "    relevantes = train.loc[filtro, :]        # dataframe com tweets relevantes\r\n",
    "\r\n",
    "    filtro2 = train.Classificação==0        # filtra os tweets classificados como irrelevantes\r\n",
    "    irrelevantes = train.loc[filtro2, :]    # dataframe com tweets irrelevantes\r\n",
    "\r\n",
    "    # Transforma o dataframe relevantes em um único texto\r\n",
    "    string_relevante = ''\r\n",
    "    for linha in relevantes.iloc[:,0]:\r\n",
    "        string_relevante+= ' '+ linha\r\n",
    "\r\n",
    "    # Transforma o dataframe irrelevantes em um único texto\r\n",
    "    string_irrelevante = ''\r\n",
    "    for linha in irrelevantes.iloc[:,0]:\r\n",
    "        string_irrelevante+= ' '+ linha\r\n",
    "\r\n",
    "    todas_relevantes = string_relevante.split()        #Lista com todas as palavras que aparece na string relevante\r\n",
    "    todas_irrelevantes = string_irrelevante.split()    #Lista com todas as palavras que aparece na string irrelevante\r\n",
    "\r\n",
    "    serie_relevante = pd.Series(todas_relevantes)      #Transforma a lista de strings relevantes em um series\r\n",
    "    serie_irrelevante = pd.Series(todas_irrelevantes)  #Transforma a lista de strings irrelevantes em um series\r\n",
    "\r\n",
    "    todas = string_irrelevante + string_relevante          # juntando todas as palavras que aparecem na base de dados Treinamento\r\n",
    "    todas_as_palavras = todas.split()                      # lista com todas as palavras\r\n",
    "    serie_total = pd.Series(todas_as_palavras) \r\n",
    "    serie_total\r\n",
    "\r\n",
    "    P_R = len(todas_relevantes)/len(todas_as_palavras)        # probabilidade de uma palavra ser relevante\r\n",
    "    P_I = len(todas_irrelevantes)/len(todas_as_palavras)      # probabilidade de uma palavra ser irrelevante\r\n",
    "\r\n",
    "    freq_rel_absoluta = serie_relevante.value_counts()           # quantidade de cada palavra na serie relevante\r\n",
    "    freq_irrel_absoluta = serie_irrelevante.value_counts()       # quantidade de cada palavra na serie irrelevante\r\n",
    "    freq_tot_absoluta = serie_total.value_counts()               # quantidade de cada palavra na serie total\r\n",
    "\r\n",
    "\r\n",
    "    \r\n",
    "    classificados = []\r\n",
    "    for frase in series:\r\n",
    "        lista_palavras = frase.split()\r\n",
    "        lista_palavras = retirar_stopwords(lista_palavras)    #implementa função que tira as stopwords\r\n",
    "        k,i = 0,0                                             #contador de palavras NÃO presentes em relevantes (k) e em irrevelantes (i)\r\n",
    "        for palavra in lista_palavras:\r\n",
    "            if palavra not in todas_relevantes: \r\n",
    "                k += 1\r\n",
    "            if palavra not in todas_irrelevantes:\r\n",
    "                i += 1\r\n",
    "\r\n",
    "        prob_frase_dado_relevante = 1\r\n",
    "        prob_frase_dado_irrelevante = 1\r\n",
    "\r\n",
    "        if k == 0:                                   #se tiver palavras no series que não estao na nossa base de dados relevantes\r\n",
    "            for palavra in lista_palavras:\r\n",
    "                prob = freq_rel_absoluta[palavra] / freq_rel_absoluta.sum()\r\n",
    "                prob_frase_dado_relevante *= prob           #multiplica a probabilidade de cada palavra dado frase\r\n",
    "\r\n",
    "        else:\r\n",
    "            for palavra in lista_palavras:\r\n",
    "                if palavra in freq_rel_absoluta:\r\n",
    "                    prob = (freq_rel_absoluta[palavra]+ 1 ) / (freq_rel_absoluta.sum()+ len(freq_tot_absoluta)) # SUAVIZAÇÃO DE LAPLACE\"\r\n",
    "                else: \r\n",
    "                    prob = (0 + 1 ) / (freq_rel_absoluta.sum()+ len(freq_tot_absoluta))\r\n",
    "                prob_frase_dado_relevante *= prob           #multiplica a probabilidade de cada palavra dado frase\r\n",
    "        \r\n",
    "        if i == 0:\r\n",
    "            for palavra in lista_palavras:\r\n",
    "                prob = ( freq_irrel_absoluta[palavra] ) / (freq_irrel_absoluta.sum())\r\n",
    "                prob_frase_dado_irrelevante *= prob     \r\n",
    "\r\n",
    "        else:\r\n",
    "            for palavra in lista_palavras:\r\n",
    "                if palavra in freq_irrel_absoluta:\r\n",
    "                    prob = ( freq_irrel_absoluta[palavra]+ 1 ) / (freq_irrel_absoluta.sum() +len(freq_tot_absoluta))\r\n",
    "                else:\r\n",
    "                    prob = ( 0 + 1 ) / (freq_irrel_absoluta.sum() +len(freq_tot_absoluta))\r\n",
    "                prob_frase_dado_irrelevante *= prob         #multiplica a probabilidade de cada palavra dado frase\r\n",
    "                #multiplica a probabilidade de cada palavra dado frase\r\n",
    "                \r\n",
    "        probRdadoFrase = prob_frase_dado_relevante* P_R\r\n",
    "        probIdadoFrase = prob_frase_dado_irrelevante* P_I\r\n",
    "        \r\n",
    "        if probRdadoFrase > probIdadoFrase:\r\n",
    "            classificados.append(1)                         #classifica como relevante\r\n",
    "        else:  \r\n",
    "            classificados.append(0)                         #classifica como irrelevante\r\n",
    "    \r\n",
    "    serie_classificado = pd.Series(classificados)\r\n",
    "    novo_df = dataframe.iloc[:, [0,1]]\r\n",
    "    novo_df = novo_df.reset_index(drop=True)\r\n",
    "    novo_df['Classificado'] = serie_classificado\r\n",
    "    return novo_df\r\n",
    "                "
   ],
   "outputs": [],
   "metadata": {}
  },
  {
   "cell_type": "markdown",
   "source": [
    "___\n",
    "### Verificando a performance do Classificador\n",
    "\n",
    "Agora você deve testar o seu classificador com a base de Testes."
   ],
   "metadata": {}
  },
  {
   "cell_type": "markdown",
   "source": [
    "### Fazendo a limpeza na base de teste"
   ],
   "metadata": {}
  },
  {
   "cell_type": "code",
   "execution_count": 35,
   "source": [
    "lista = []\r\n",
    "\r\n",
    "for linha in test['Teste']:\r\n",
    "    limpo = cleanup(linha.lower())             # Limpa a planilha Teste e tira as letras maiúsculas\r\n",
    "    a = limpo.split()\r\n",
    "    b = retirar_stopwords(a)\r\n",
    "    limpo = ' '.join(b)  \r\n",
    "    lista.append(limpo)\r\n",
    "\r\n",
    "test['Teste'] = pd.Series(lista)             # Substitui os tweets originais da planilha, pelos tweets limpos"
   ],
   "outputs": [],
   "metadata": {}
  },
  {
   "cell_type": "markdown",
   "source": [
    "# Implementando a função..."
   ],
   "metadata": {}
  },
  {
   "cell_type": "code",
   "execution_count": 36,
   "source": [
    "df = test               # dataframe que será argumento da função classificadora\r\n",
    "series= test['Teste']   # series que será argumento da função classificadora"
   ],
   "outputs": [],
   "metadata": {}
  },
  {
   "cell_type": "code",
   "execution_count": 37,
   "source": [
    "# Implementa função\r\n",
    "df = classificador(df, series) #dataframe que passou pelo função para classificar os tweets\r\n",
    "df.head()"
   ],
   "outputs": [
    {
     "output_type": "execute_result",
     "data": {
      "text/html": [
       "<div>\n",
       "<style scoped>\n",
       "    .dataframe tbody tr th:only-of-type {\n",
       "        vertical-align: middle;\n",
       "    }\n",
       "\n",
       "    .dataframe tbody tr th {\n",
       "        vertical-align: top;\n",
       "    }\n",
       "\n",
       "    .dataframe thead th {\n",
       "        text-align: right;\n",
       "    }\n",
       "</style>\n",
       "<table border=\"1\" class=\"dataframe\">\n",
       "  <thead>\n",
       "    <tr style=\"text-align: right;\">\n",
       "      <th></th>\n",
       "      <th>Teste</th>\n",
       "      <th>Classificação</th>\n",
       "      <th>Classificado</th>\n",
       "    </tr>\n",
       "  </thead>\n",
       "  <tbody>\n",
       "    <tr>\n",
       "      <th>0</th>\n",
       "      <td>bom airfryer fica tudo pronto rápido quero out...</td>\n",
       "      <td>1</td>\n",
       "      <td>1</td>\n",
       "    </tr>\n",
       "    <tr>\n",
       "      <th>1</th>\n",
       "      <td>app pra calcular barato fazer comida airfryer ...</td>\n",
       "      <td>0</td>\n",
       "      <td>1</td>\n",
       "    </tr>\n",
       "    <tr>\n",
       "      <th>2</th>\n",
       "      <td>aumentou preço tudo aqui gente compr airfryer ...</td>\n",
       "      <td>0</td>\n",
       "      <td>0</td>\n",
       "    </tr>\n",
       "    <tr>\n",
       "      <th>3</th>\n",
       "      <td>meti pão queij airfryer 😌</td>\n",
       "      <td>1</td>\n",
       "      <td>1</td>\n",
       "    </tr>\n",
       "    <tr>\n",
       "      <th>4</th>\n",
       "      <td>pô alcysio adaptei total pra usar mínimo gás a...</td>\n",
       "      <td>1</td>\n",
       "      <td>1</td>\n",
       "    </tr>\n",
       "  </tbody>\n",
       "</table>\n",
       "</div>"
      ],
      "text/plain": [
       "                                               Teste  Classificação  \\\n",
       "0  bom airfryer fica tudo pronto rápido quero out...              1   \n",
       "1  app pra calcular barato fazer comida airfryer ...              0   \n",
       "2  aumentou preço tudo aqui gente compr airfryer ...              0   \n",
       "3                          meti pão queij airfryer 😌              1   \n",
       "4  pô alcysio adaptei total pra usar mínimo gás a...              1   \n",
       "\n",
       "   Classificado  \n",
       "0             1  \n",
       "1             1  \n",
       "2             0  \n",
       "3             1  \n",
       "4             1  "
      ]
     },
     "metadata": {},
     "execution_count": 37
    }
   ],
   "metadata": {}
  },
  {
   "cell_type": "markdown",
   "source": [
    "## Extraindo as contagens para verificação de performance"
   ],
   "metadata": {}
  },
  {
   "cell_type": "code",
   "execution_count": 38,
   "source": [
    "tabela = pd.crosstab(df.Classificado, df.Classificação, normalize= True)  # tabela de porcentagens\r\n",
    "tabela"
   ],
   "outputs": [
    {
     "output_type": "execute_result",
     "data": {
      "text/html": [
       "<div>\n",
       "<style scoped>\n",
       "    .dataframe tbody tr th:only-of-type {\n",
       "        vertical-align: middle;\n",
       "    }\n",
       "\n",
       "    .dataframe tbody tr th {\n",
       "        vertical-align: top;\n",
       "    }\n",
       "\n",
       "    .dataframe thead th {\n",
       "        text-align: right;\n",
       "    }\n",
       "</style>\n",
       "<table border=\"1\" class=\"dataframe\">\n",
       "  <thead>\n",
       "    <tr style=\"text-align: right;\">\n",
       "      <th>Classificação</th>\n",
       "      <th>0</th>\n",
       "      <th>1</th>\n",
       "    </tr>\n",
       "    <tr>\n",
       "      <th>Classificado</th>\n",
       "      <th></th>\n",
       "      <th></th>\n",
       "    </tr>\n",
       "  </thead>\n",
       "  <tbody>\n",
       "    <tr>\n",
       "      <th>0</th>\n",
       "      <td>0.28</td>\n",
       "      <td>0.095</td>\n",
       "    </tr>\n",
       "    <tr>\n",
       "      <th>1</th>\n",
       "      <td>0.17</td>\n",
       "      <td>0.455</td>\n",
       "    </tr>\n",
       "  </tbody>\n",
       "</table>\n",
       "</div>"
      ],
      "text/plain": [
       "Classificação     0      1\n",
       "Classificado              \n",
       "0              0.28  0.095\n",
       "1              0.17  0.455"
      ]
     },
     "metadata": {},
     "execution_count": 38
    }
   ],
   "metadata": {}
  },
  {
   "cell_type": "markdown",
   "source": [
    "Porcentagem de verdadeiros positivos (mensagens relevantes e que são\n",
    "classificadas como relevantes)"
   ],
   "metadata": {}
  },
  {
   "cell_type": "code",
   "execution_count": 39,
   "source": [
    "verdadeiros_positivos = tabela.iloc[1,1]*100\r\n",
    "verdadeiros_positivos"
   ],
   "outputs": [
    {
     "output_type": "execute_result",
     "data": {
      "text/plain": [
       "45.5"
      ]
     },
     "metadata": {},
     "execution_count": 39
    }
   ],
   "metadata": {}
  },
  {
   "cell_type": "markdown",
   "source": [
    "Porcentagem de falsos positivos (mensagens irrelevantes e que são classificadas\n",
    "como relevantes)"
   ],
   "metadata": {}
  },
  {
   "cell_type": "code",
   "execution_count": 40,
   "source": [
    "falsos_positivos = tabela.iloc[1,0]*100\r\n",
    "falsos_positivos"
   ],
   "outputs": [
    {
     "output_type": "execute_result",
     "data": {
      "text/plain": [
       "17.0"
      ]
     },
     "metadata": {},
     "execution_count": 40
    }
   ],
   "metadata": {}
  },
  {
   "cell_type": "markdown",
   "source": [
    "Porcentagem de verdadeiros negativos (mensagens irrelevantes e que são\n",
    "classificadas como irrelevantes)"
   ],
   "metadata": {}
  },
  {
   "cell_type": "code",
   "execution_count": 41,
   "source": [
    "verdadeiros_negativos = tabela.iloc[0,0]*100\r\n",
    "verdadeiros_negativos"
   ],
   "outputs": [
    {
     "output_type": "execute_result",
     "data": {
      "text/plain": [
       "28.000000000000004"
      ]
     },
     "metadata": {},
     "execution_count": 41
    }
   ],
   "metadata": {}
  },
  {
   "cell_type": "markdown",
   "source": [
    "Porcentagem de falsos negativos (mensagens relevantes e que são classificadas\n",
    "como irrelevantes)"
   ],
   "metadata": {}
  },
  {
   "cell_type": "code",
   "execution_count": 42,
   "source": [
    "falsos_negativos = tabela.iloc[0,1]*100\r\n",
    "falsos_negativos"
   ],
   "outputs": [
    {
     "output_type": "execute_result",
     "data": {
      "text/plain": [
       "9.5"
      ]
     },
     "metadata": {},
     "execution_count": 42
    }
   ],
   "metadata": {}
  },
  {
   "cell_type": "markdown",
   "source": [
    "Acurácia (mensagens corretamente classificadas, independente da categoria)"
   ],
   "metadata": {}
  },
  {
   "cell_type": "code",
   "execution_count": 43,
   "source": [
    "acuracia = verdadeiros_positivos + verdadeiros_negativos\r\n",
    "acuracia"
   ],
   "outputs": [
    {
     "output_type": "execute_result",
     "data": {
      "text/plain": [
       "73.5"
      ]
     },
     "metadata": {},
     "execution_count": 43
    }
   ],
   "metadata": {}
  },
  {
   "cell_type": "markdown",
   "source": [
    "___\n",
    "### Concluindo"
   ],
   "metadata": {}
  },
  {
   "cell_type": "markdown",
   "source": [
    "#### Performance do classificador e possíveis melhorias  "
   ],
   "metadata": {}
  },
  {
   "cell_type": "markdown",
   "source": [
    "Comparativo qualitativo sobre os percentuais obtidos:\r\n",
    "\r\n",
    "A partir dos percentuais de verdadeiros positivos e negativos obtidos, observa-se que o nosso classificador possui acurácia de 73.5%, o que significa que dos 100% dos tweets, teríamos 26.5% de falhas (falsos positivos e negativos).\r\n",
    "\r\n",
    "Analisando de maneira mais aprofundada todos os tweets classificados como relevantes (62.5% do total), temos que a porcentagem de verdadeiros positivos (45.5%) é mais que o dobro do que a de falsos positivos (17%). Em outras palavras, 72.8% dos tweets classificados como relevantes, foram classificados corretamente. \r\n",
    "\r\n",
    "Da mesma forma, olhando para os tweets classificados como irrelevantes (37.5% do total, temos 28% de acertos, ou seja, 74,6% dos tweets classificados como irrelevantes.\r\n",
    "\r\n",
    "As mensagens com sarcasmo ou dupla negação são tratadas pelo classificador da mesma forma que qualquer outra mensagem, isto é, pela análise das probabilidades de cada palavra do tweet. Então, algumas são classificadas corretamente e outras, não, já que muitas palavras aparecem na Base de Treinamento como relevantes. \r\n",
    "\r\n",
    "Dessa forma, levando em consideração os percentuais obtidos, consideramos que a performance do nosso classificador está aceitável, porém há algumas melhorias que poderiam ser implementadas, como a ideia trazida no artigo \"Melhorando a Performance do Algoritmo Naive Bayes para Regressão Através da Combinação de Atributos \" de Aloísio Carlos de Pina e de Gerson Zaverucha. Eles trazem uma ideia de  testar combinações de atributos dentro do clássico Naive Bayes, onde transformariam os atributos A1 e A2 em um único atributo C' e caso houvesse melhora utilizando esse novo atributo C' ele seria mantido. Trazendo para a situação do projeto, seria a ideia de testar todas as possíveis combinações de duas palavras e aquelas que melhorassem o desempenho do nosso classificador seria mantida.\r\n",
    "\r\n",
    "\r\n",
    "\r\n",
    "\r\n",
    "\r\n",
    "fonte : https://www.cos.ufrj.br/~ines/enia07_html/pdf/28095.pdf\r\n",
    "\r\n",
    "\r\n"
   ],
   "metadata": {}
  },
  {
   "cell_type": "markdown",
   "source": [
    "#### Por que continuar financiando o projeto? "
   ],
   "metadata": {}
  },
  {
   "cell_type": "markdown",
   "source": [
    "O projeto deve continuar sendo financiado, porque a partir dele, é possível entender os interesses e as opiniões do público alvo da empresa, assim como elogios e críticas ao produto, para que seja possível implementar melhorias em pontos com maiores reclamações."
   ],
   "metadata": {}
  },
  {
   "cell_type": "markdown",
   "source": [
    "#### Por que não posso alimentar minha base de Treinamento automaticamente usando o próprio classificador, aplicado a novos tweets?"
   ],
   "metadata": {}
  },
  {
   "cell_type": "markdown",
   "source": [
    "Se nós alimentarmos a base de Treinamento utilizando o próprio classificador, o percentual de erros aumentaria significativamente. Isso porque, os erros do classificador se propagariam para a classificação da base Treinamento, que por sua vez, alimentaria a classificação de novas bases, propagando cada vez mais os erros, o que tornaria o modelo cada vez mais impreciso"
   ],
   "metadata": {}
  },
  {
   "cell_type": "markdown",
   "source": [
    "#### Diferentes cenários de uso para o classificador Naive-Bayes "
   ],
   "metadata": {}
  },
  {
   "cell_type": "markdown",
   "source": [
    "O classificador Naive-Bayes pode ser aplicado em diversas situações diferentes, como no diagnóstico de doenças ( Considerando os verdadeiros (positivos e negativos) e falsos (positivos e negativos) , na identificação de mensagens de spam nos emails, protegendo os usuários de um possível golpe e otimizando o tempo passado no email e  numa alimentação de um algoritmo para sugerir conteúdo baseado nas palavras buscadas pelo usuário."
   ],
   "metadata": {}
  },
  {
   "cell_type": "markdown",
   "source": [
    "___\n",
    "### Qualidade do Classificador a partir de novas separações dos tweets entre Treinamento e Teste\n",
    "\n",
    "Caso for fazer esse item do Projeto"
   ],
   "metadata": {}
  },
  {
   "cell_type": "code",
   "execution_count": 44,
   "source": [
    "test = pd.read_excel(filename, sheet_name = \"Teste\" )\r\n",
    "test_novo_tudo = test.rename(columns={ \"Teste\" : \"Tudo\"})\r\n",
    "\r\n",
    "train = pd.read_excel(filename,sheet_name = \"Treinamento\")\r\n",
    "train_novo_tudo = train.rename(columns={ \"Treinamento\" : \"Tudo\" })\r\n",
    "\r\n",
    "df_tudo = pd.concat([train_novo_tudo,test_novo_tudo])\r\n",
    "df_tudo = df_tudo.dropna(axis=1)\r\n",
    "df_tudo"
   ],
   "outputs": [
    {
     "output_type": "execute_result",
     "data": {
      "text/html": [
       "<div>\n",
       "<style scoped>\n",
       "    .dataframe tbody tr th:only-of-type {\n",
       "        vertical-align: middle;\n",
       "    }\n",
       "\n",
       "    .dataframe tbody tr th {\n",
       "        vertical-align: top;\n",
       "    }\n",
       "\n",
       "    .dataframe thead th {\n",
       "        text-align: right;\n",
       "    }\n",
       "</style>\n",
       "<table border=\"1\" class=\"dataframe\">\n",
       "  <thead>\n",
       "    <tr style=\"text-align: right;\">\n",
       "      <th></th>\n",
       "      <th>Tudo</th>\n",
       "      <th>Classificação</th>\n",
       "    </tr>\n",
       "  </thead>\n",
       "  <tbody>\n",
       "    <tr>\n",
       "      <th>0</th>\n",
       "      <td>o twitter vai me fazer comprar uma airfryer</td>\n",
       "      <td>1</td>\n",
       "    </tr>\n",
       "    <tr>\n",
       "      <th>1</th>\n",
       "      <td>quero assar pão de queijo, mas o forno daqui d...</td>\n",
       "      <td>1</td>\n",
       "    </tr>\n",
       "    <tr>\n",
       "      <th>2</th>\n",
       "      <td>bom, aparentemente deu ruim e saiu toda a tint...</td>\n",
       "      <td>1</td>\n",
       "    </tr>\n",
       "    <tr>\n",
       "      <th>3</th>\n",
       "      <td>de airfryer a panelas: polishop celebra 22 ano...</td>\n",
       "      <td>0</td>\n",
       "    </tr>\n",
       "    <tr>\n",
       "      <th>4</th>\n",
       "      <td>@danielsmarconn mano eu tô louca nessa airfrye...</td>\n",
       "      <td>1</td>\n",
       "    </tr>\n",
       "    <tr>\n",
       "      <th>...</th>\n",
       "      <td>...</td>\n",
       "      <td>...</td>\n",
       "    </tr>\n",
       "    <tr>\n",
       "      <th>195</th>\n",
       "      <td>tutorial bolinha de queijo✨\\n\\n200g de queijo ...</td>\n",
       "      <td>1</td>\n",
       "    </tr>\n",
       "    <tr>\n",
       "      <th>196</th>\n",
       "      <td>pessoal daqui de casa inventou de querer fazer...</td>\n",
       "      <td>1</td>\n",
       "    </tr>\n",
       "    <tr>\n",
       "      <th>197</th>\n",
       "      <td>eu nao sei voces, mas eu ganhei uma airfryer g...</td>\n",
       "      <td>1</td>\n",
       "    </tr>\n",
       "    <tr>\n",
       "      <th>198</th>\n",
       "      <td>@ibebelly amanhã eu vou fazer um pão de alho d...</td>\n",
       "      <td>1</td>\n",
       "    </tr>\n",
       "    <tr>\n",
       "      <th>199</th>\n",
       "      <td>disse pra vovó que tô estagiando e a mulher já...</td>\n",
       "      <td>1</td>\n",
       "    </tr>\n",
       "  </tbody>\n",
       "</table>\n",
       "<p>500 rows × 2 columns</p>\n",
       "</div>"
      ],
      "text/plain": [
       "                                                  Tudo  Classificação\n",
       "0          o twitter vai me fazer comprar uma airfryer              1\n",
       "1    quero assar pão de queijo, mas o forno daqui d...              1\n",
       "2    bom, aparentemente deu ruim e saiu toda a tint...              1\n",
       "3    de airfryer a panelas: polishop celebra 22 ano...              0\n",
       "4    @danielsmarconn mano eu tô louca nessa airfrye...              1\n",
       "..                                                 ...            ...\n",
       "195  tutorial bolinha de queijo✨\\n\\n200g de queijo ...              1\n",
       "196  pessoal daqui de casa inventou de querer fazer...              1\n",
       "197  eu nao sei voces, mas eu ganhei uma airfryer g...              1\n",
       "198  @ibebelly amanhã eu vou fazer um pão de alho d...              1\n",
       "199  disse pra vovó que tô estagiando e a mulher já...              1\n",
       "\n",
       "[500 rows x 2 columns]"
      ]
     },
     "metadata": {},
     "execution_count": 44
    }
   ],
   "metadata": {}
  },
  {
   "cell_type": "code",
   "execution_count": 45,
   "source": [
    "lista = []\r\n",
    "\r\n",
    "for linha in df_tudo['Tudo']:\r\n",
    "    limpo = cleanup(linha.lower())             # Limpa a planilha Treinamento e tira as letras maiúsculas \r\n",
    "    a = limpo.split()\r\n",
    "    b = retirar_stopwords(a)\r\n",
    "    limpo = ' '.join(b) \r\n",
    "    lista.append(limpo)\r\n",
    "    \r\n",
    "serie = pd.Series(lista)                 # Transforma a coluna da planilha Treinamento em Series\r\n",
    "df_tudo['Tudo'] = serie\r\n",
    "\r\n",
    "df_tudo.head()"
   ],
   "outputs": [
    {
     "output_type": "execute_result",
     "data": {
      "text/html": [
       "<div>\n",
       "<style scoped>\n",
       "    .dataframe tbody tr th:only-of-type {\n",
       "        vertical-align: middle;\n",
       "    }\n",
       "\n",
       "    .dataframe tbody tr th {\n",
       "        vertical-align: top;\n",
       "    }\n",
       "\n",
       "    .dataframe thead th {\n",
       "        text-align: right;\n",
       "    }\n",
       "</style>\n",
       "<table border=\"1\" class=\"dataframe\">\n",
       "  <thead>\n",
       "    <tr style=\"text-align: right;\">\n",
       "      <th></th>\n",
       "      <th>Tudo</th>\n",
       "      <th>Classificação</th>\n",
       "    </tr>\n",
       "  </thead>\n",
       "  <tbody>\n",
       "    <tr>\n",
       "      <th>0</th>\n",
       "      <td>twitter vai fazer compr airfryer</td>\n",
       "      <td>1</td>\n",
       "    </tr>\n",
       "    <tr>\n",
       "      <th>1</th>\n",
       "      <td>quero assar pão queij forno daqui casa bosta p...</td>\n",
       "      <td>1</td>\n",
       "    </tr>\n",
       "    <tr>\n",
       "      <th>2</th>\n",
       "      <td>bom aparentemente deu ruim saiu toda tinta / t...</td>\n",
       "      <td>1</td>\n",
       "    </tr>\n",
       "    <tr>\n",
       "      <th>3</th>\n",
       "      <td>airfryer panelas polishop celebra anos descont...</td>\n",
       "      <td>0</td>\n",
       "    </tr>\n",
       "    <tr>\n",
       "      <th>4</th>\n",
       "      <td>mano tô louca nessa airfryer serase boa</td>\n",
       "      <td>1</td>\n",
       "    </tr>\n",
       "  </tbody>\n",
       "</table>\n",
       "</div>"
      ],
      "text/plain": [
       "                                                Tudo  Classificação\n",
       "0                   twitter vai fazer compr airfryer              1\n",
       "1  quero assar pão queij forno daqui casa bosta p...              1\n",
       "2  bom aparentemente deu ruim saiu toda tinta / t...              1\n",
       "3  airfryer panelas polishop celebra anos descont...              0\n",
       "4            mano tô louca nessa airfryer serase boa              1"
      ]
     },
     "metadata": {},
     "execution_count": 45
    }
   ],
   "metadata": {}
  },
  {
   "cell_type": "code",
   "execution_count": 46,
   "source": [
    "from sklearn.model_selection import train_test_split\r\n",
    "def separa_dataframe(df):\r\n",
    "    train, test_new = train_test_split(df_tudo, test_size=200)\r\n",
    "    return train, test_new"
   ],
   "outputs": [],
   "metadata": {}
  },
  {
   "cell_type": "code",
   "execution_count": 47,
   "source": [
    "lista_da_acuracia = []\r\n",
    "\r\n",
    "for i in range(100):\r\n",
    "    \r\n",
    "    datas = separa_dataframe(df_tudo)\r\n",
    "    train = datas[0]\r\n",
    "    test_new = datas[1]\r\n",
    "    df = classificador(test_new, test_new[\"Tudo\"])\r\n",
    "    tabela_nova = pd.crosstab(df.Classificado, df.Classificação, normalize= True)\r\n",
    "    acuracia = tabela_nova.iloc[1,1]*100 + tabela_nova.iloc[0,0]*100\r\n",
    "    lista_da_acuracia.append(acuracia)\r\n",
    "    "
   ],
   "outputs": [],
   "metadata": {}
  },
  {
   "cell_type": "code",
   "execution_count": 48,
   "source": [
    "serie_acuracia = pd.Series(lista_da_acuracia)\r\n",
    "minimo = serie_acuracia.min()\r\n",
    "maximo = serie_acuracia.max()\r\n",
    "media = serie_acuracia.mean()\r\n",
    "\r\n",
    "\r\n",
    "print('O mínimo de eficácia: {0:.2f} %'.format(minimo))\r\n",
    "print('O máximo de eficácia: {0:.2f} %'.format(maximo))\r\n",
    "print('A média de eficácia: {0:.2f} %'.format(media))"
   ],
   "outputs": [
    {
     "output_type": "stream",
     "name": "stdout",
     "text": [
      "O mínimo de eficácia: 50.50 %\n",
      "O máximo de eficácia: 64.50 %\n",
      "A média de eficácia: 57.34 %\n"
     ]
    }
   ],
   "metadata": {
    "scrolled": true
   }
  },
  {
   "cell_type": "markdown",
   "source": [
    "### Histograma com percentuais de acertos"
   ],
   "metadata": {}
  },
  {
   "cell_type": "code",
   "execution_count": 50,
   "source": [
    "from numpy import arange\r\n",
    "import numpy as np\r\n",
    "faixa1 = arange(int(minimo)-5,int(maximo)+5,2.5)\r\n",
    "faixa1\r\n",
    "\r\n",
    "\r\n",
    "plt.hist(serie_acuracia, bins=faixa1, edgecolor='white', density = True)\r\n",
    "plt.title('Eficácia')\r\n",
    "plt.ylabel('Faixas')\r\n",
    "plt.xlabel('Porcentagem de acertos(%)')\r\n"
   ],
   "outputs": [
    {
     "output_type": "execute_result",
     "data": {
      "text/plain": [
       "Text(0.5, 0, 'Porcentagem de acertos(%)')"
      ]
     },
     "metadata": {},
     "execution_count": 50
    },
    {
     "output_type": "display_data",
     "data": {
      "image/png": "[encoded data removed]",
      "text/plain": [
       "<Figure size 432x288 with 1 Axes>"
      ]
     },
     "metadata": {
      "needs_background": "light"
     }
    }
   ],
   "metadata": {}
  },
  {
   "cell_type": "markdown",
   "source": [
    "##### Vantagens ou desvantagens sobre construir um classificador considerando uma única vez a divisão da base de dados em treinamento e em teste:\n"
   ],
   "metadata": {}
  },
  {
   "cell_type": "markdown",
   "source": [
    "Analisando o histograma das acurárias obtidas a partir de várias bases de dados, percebe-se que há uma amplitude de 15% entre os valores máximo e mínimo de acurácia. Se tivéssemos considerado essas novas bases de dados na construção do classificador, haveria uma propagação de erros e assim, a confiabilidade do modelo seria prejudicada. Além disso, trabalhar com apenas uma base de dados de treinamento pode ser vantajoso por ser mais fácil encontrar os erros mais frequentes do classificador."
   ],
   "metadata": {}
  },
  {
   "cell_type": "markdown",
   "source": [
    "___\n",
    "## Aperfeiçoamento:\n",
    "\n",
    "Trabalhos que conseguirem pelo menos conceito B vão evoluir em conceito dependendo da quantidade de itens avançados:\n",
    "\n",
    "* IMPLEMENTOU outras limpezas e transformações que não afetem a qualidade da informação contida nos tweets. Ex: stemming, lemmatization, stopwords\n",
    "* CORRIGIU separação de espaços entre palavras e emojis ou entre emojis e emojis\n",
    "* CRIOU categorias intermediárias de relevância baseadas na probabilidade: ex.: muito relevante, relevante, neutro, irrelevante, muito irrelevante. Pelo menos quatro categorias, com adição de mais tweets na base, conforme enunciado. (OBRIGATÓRIO PARA TRIOS, sem contar como item avançado)\n",
    "* EXPLICOU porquê não pode usar o próprio classificador para gerar mais amostras de treinamento\n",
    "* PROPÔS diferentes cenários para Naïve Bayes fora do contexto do projeto\n",
    "* SUGERIU e EXPLICOU melhorias reais com indicações concretas de como implementar (indicar como fazer e indicar material de pesquisa)\n",
    "* FEZ o item 6. Qualidade do Classificador a partir de novas separações dos tweets entre Treinamento e Teste descrito no enunciado do projeto (OBRIGATÓRIO para conceitos A ou A+)"
   ],
   "metadata": {}
  },
  {
   "cell_type": "markdown",
   "source": [
    "___\n",
    "## Referências"
   ],
   "metadata": {}
  },
  {
   "cell_type": "markdown",
   "source": [
    "[Naive Bayes and Text Classification](https://arxiv.org/pdf/1410.5329.pdf)  **Mais completo**\n",
    "\n",
    "[A practical explanation of a Naive Bayes Classifier](https://monkeylearn.com/blog/practical-explanation-naive-bayes-classifier/) **Mais simples**"
   ],
   "metadata": {}
  },
  {
   "cell_type": "code",
   "execution_count": null,
   "source": [],
   "outputs": [],
   "metadata": {}
  },
  {
   "cell_type": "code",
   "execution_count": null,
   "source": [],
   "outputs": [],
   "metadata": {}
  },
  {
   "cell_type": "code",
   "execution_count": null,
   "source": [],
   "outputs": [],
   "metadata": {}
  },
  {
   "cell_type": "code",
   "execution_count": null,
   "source": [],
   "outputs": [],
   "metadata": {}
  },
  {
   "cell_type": "code",
   "execution_count": null,
   "source": [],
   "outputs": [],
   "metadata": {}
  },
  {
   "cell_type": "code",
   "execution_count": null,
   "source": [],
   "outputs": [],
   "metadata": {}
  },
  {
   "cell_type": "code",
   "execution_count": null,
   "source": [],
   "outputs": [],
   "metadata": {}
  }
 ],
 "metadata": {
  "interpreter": {
   "hash": "56505bb563a3a8c3edae909efbbeba68d55f556b46955e58b7586a74f580b29e"
  },
  "kernelspec": {
   "name": "python3",
   "display_name": "Python 3.8.8 64-bit ('base': conda)"
  },
  "language_info": {
   "codemirror_mode": {
    "name": "ipython",
    "version": 3
   },
   "file_extension": ".py",
   "mimetype": "text/x-python",
   "name": "python",
   "nbconvert_exporter": "python",
   "pygments_lexer": "ipython3",
   "version": "3.8.8"
  }
 },
 "nbformat": 4,
 "nbformat_minor": 4
}