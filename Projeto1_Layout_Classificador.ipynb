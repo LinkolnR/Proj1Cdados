{
 "cells": [
  {
   "cell_type": "markdown",
   "source": [
    "# Projeto 1 - Ciência dos Dados"
   ],
   "metadata": {}
  },
  {
   "cell_type": "markdown",
   "source": [
    "Nome: Camila Soares Magni\r\n",
    "\r\n",
    "Nome: Lincoln Rodrigo Pereira Melo"
   ],
   "metadata": {}
  },
  {
   "cell_type": "markdown",
   "source": [
    "Atenção: Serão permitidos grupos de três pessoas, mas com uma rubrica mais exigente. Grupos deste tamanho precisarão fazer um questionário de avaliação de trabalho em equipe"
   ],
   "metadata": {}
  },
  {
   "cell_type": "markdown",
   "source": [
    "___\n",
    "Carregando algumas bibliotecas:"
   ],
   "metadata": {}
  },
  {
   "cell_type": "code",
   "execution_count": 39,
   "source": [
    "%matplotlib inline\r\n",
    "import pandas as pd\r\n",
    "import matplotlib.pyplot as plt\r\n",
    "import numpy as np\r\n",
    "import os"
   ],
   "outputs": [],
   "metadata": {}
  },
  {
   "cell_type": "code",
   "execution_count": 40,
   "source": [
    "print('Esperamos trabalhar no diretório')\r\n",
    "print(os.getcwd())"
   ],
   "outputs": [
    {
     "output_type": "stream",
     "name": "stdout",
     "text": [
      "Esperamos trabalhar no diretório\n",
      "c:\\Users\\camil\\OneDrive\\Área de Trabalho\\INSPER\\2° sem\\C dados\\Projeto1- Cdados\\Proj1Cdados\n"
     ]
    }
   ],
   "metadata": {
    "scrolled": false
   }
  },
  {
   "cell_type": "markdown",
   "source": [
    "Carregando a base de dados com os tweets classificados como relevantes e não relevantes:"
   ],
   "metadata": {}
  },
  {
   "cell_type": "code",
   "execution_count": 41,
   "source": [
    "filename = 'airfryer.xlsx'"
   ],
   "outputs": [],
   "metadata": {}
  },
  {
   "cell_type": "code",
   "execution_count": 42,
   "source": [
    "train = pd.read_excel(filename)\r\n",
    "train.head(5)"
   ],
   "outputs": [
    {
     "output_type": "execute_result",
     "data": {
      "text/html": [
       "<div>\n",
       "<style scoped>\n",
       "    .dataframe tbody tr th:only-of-type {\n",
       "        vertical-align: middle;\n",
       "    }\n",
       "\n",
       "    .dataframe tbody tr th {\n",
       "        vertical-align: top;\n",
       "    }\n",
       "\n",
       "    .dataframe thead th {\n",
       "        text-align: right;\n",
       "    }\n",
       "</style>\n",
       "<table border=\"1\" class=\"dataframe\">\n",
       "  <thead>\n",
       "    <tr style=\"text-align: right;\">\n",
       "      <th></th>\n",
       "      <th>Treinamento</th>\n",
       "      <th>Classificação</th>\n",
       "    </tr>\n",
       "  </thead>\n",
       "  <tbody>\n",
       "    <tr>\n",
       "      <th>0</th>\n",
       "      <td>o twitter vai me fazer comprar uma airfryer</td>\n",
       "      <td>1</td>\n",
       "    </tr>\n",
       "    <tr>\n",
       "      <th>1</th>\n",
       "      <td>quero assar pão de queijo, mas o forno daqui d...</td>\n",
       "      <td>1</td>\n",
       "    </tr>\n",
       "    <tr>\n",
       "      <th>2</th>\n",
       "      <td>bom, aparentemente deu ruim e saiu toda a tint...</td>\n",
       "      <td>1</td>\n",
       "    </tr>\n",
       "    <tr>\n",
       "      <th>3</th>\n",
       "      <td>de airfryer a panelas: polishop celebra 22 ano...</td>\n",
       "      <td>0</td>\n",
       "    </tr>\n",
       "    <tr>\n",
       "      <th>4</th>\n",
       "      <td>@danielsmarconn mano eu tô louca nessa airfrye...</td>\n",
       "      <td>1</td>\n",
       "    </tr>\n",
       "  </tbody>\n",
       "</table>\n",
       "</div>"
      ],
      "text/plain": [
       "                                         Treinamento  Classificação\n",
       "0        o twitter vai me fazer comprar uma airfryer              1\n",
       "1  quero assar pão de queijo, mas o forno daqui d...              1\n",
       "2  bom, aparentemente deu ruim e saiu toda a tint...              1\n",
       "3  de airfryer a panelas: polishop celebra 22 ano...              0\n",
       "4  @danielsmarconn mano eu tô louca nessa airfrye...              1"
      ]
     },
     "metadata": {},
     "execution_count": 42
    }
   ],
   "metadata": {}
  },
  {
   "cell_type": "code",
   "execution_count": 43,
   "source": [
    "test = pd.read_excel(filename, sheet_name = 'Teste')\r\n",
    "test.head(5)"
   ],
   "outputs": [
    {
     "output_type": "execute_result",
     "data": {
      "text/html": [
       "<div>\n",
       "<style scoped>\n",
       "    .dataframe tbody tr th:only-of-type {\n",
       "        vertical-align: middle;\n",
       "    }\n",
       "\n",
       "    .dataframe tbody tr th {\n",
       "        vertical-align: top;\n",
       "    }\n",
       "\n",
       "    .dataframe thead th {\n",
       "        text-align: right;\n",
       "    }\n",
       "</style>\n",
       "<table border=\"1\" class=\"dataframe\">\n",
       "  <thead>\n",
       "    <tr style=\"text-align: right;\">\n",
       "      <th></th>\n",
       "      <th>Teste</th>\n",
       "      <th>Classificação</th>\n",
       "    </tr>\n",
       "  </thead>\n",
       "  <tbody>\n",
       "    <tr>\n",
       "      <th>0</th>\n",
       "      <td>o bom da airfryer fica tudo pronto rápido, não...</td>\n",
       "      <td>1</td>\n",
       "    </tr>\n",
       "    <tr>\n",
       "      <th>1</th>\n",
       "      <td>um app pra calcular se é mais barato fazer a c...</td>\n",
       "      <td>0</td>\n",
       "    </tr>\n",
       "    <tr>\n",
       "      <th>2</th>\n",
       "      <td>@raytotsukishiro aumentou o preço de tudo. aqu...</td>\n",
       "      <td>0</td>\n",
       "    </tr>\n",
       "    <tr>\n",
       "      <th>3</th>\n",
       "      <td>meti um pão de queijo na airfryer 😌</td>\n",
       "      <td>1</td>\n",
       "    </tr>\n",
       "    <tr>\n",
       "      <th>4</th>\n",
       "      <td>@alcysio @safbf pô alcysio, me adaptei total p...</td>\n",
       "      <td>0</td>\n",
       "    </tr>\n",
       "  </tbody>\n",
       "</table>\n",
       "</div>"
      ],
      "text/plain": [
       "                                               Teste  Classificação\n",
       "0  o bom da airfryer fica tudo pronto rápido, não...              1\n",
       "1  um app pra calcular se é mais barato fazer a c...              0\n",
       "2  @raytotsukishiro aumentou o preço de tudo. aqu...              0\n",
       "3                meti um pão de queijo na airfryer 😌              1\n",
       "4  @alcysio @safbf pô alcysio, me adaptei total p...              0"
      ]
     },
     "metadata": {},
     "execution_count": 43
    }
   ],
   "metadata": {}
  },
  {
   "cell_type": "markdown",
   "source": [
    "___\n",
    "## Classificador automático de sentimento\n"
   ],
   "metadata": {}
  },
  {
   "cell_type": "markdown",
   "source": [
    "Faça aqui uma descrição do seu produto e o que considerou como relevante ou não relevante na classificação dos tweets.\n",
    "\n",
    "Escolhemos a fritadeira sem óleo airfryer como nosso produto. Para a classificação dos tweets, consideramos todas as mensagens que expressam alguma opinião sobre o produto, sejam elogios ou críticas, como relevantes, assim como as que falam sobre um desejo de adquirir uma airfryer. O resto foi classificado como irrelevante, incluindo receitas e mensagens sobre outros assuntos que não fazem sentido para a análise do produto. "
   ],
   "metadata": {}
  },
  {
   "cell_type": "markdown",
   "source": [
    "___\n",
    "### Montando um Classificador Naive-Bayes\n",
    "\n",
    "Considerando apenas as mensagens da planilha Treinamento, ensine  seu classificador."
   ],
   "metadata": {}
  },
  {
   "cell_type": "code",
   "execution_count": 44,
   "source": [
    "import pandas as pd\r\n",
    "import numpy as np\r\n",
    "from IPython.display import display\r\n",
    "import re \r\n",
    "import nltk\r\n",
    "\r\n",
    "# Função de limpeza dos textos\r\n",
    "def cleanup(text):\r\n",
    "    \r\n",
    "    punctuation = '[\"\"''!-.:?;“”~1234567890]'                                      # sinais que queremos retirar do texto\r\n",
    "    pattern = re.compile(punctuation)\r\n",
    "    text_subbed = re.sub(pattern, '', text)                              # retira os sinais\r\n",
    "    text_subbed = re.sub(r\"http\\S+\", \"\", text_subbed)                    # retira os URL\r\n",
    "    text_subbed = re.sub('@[^\\s]+','',text_subbed,flags=re.MULTILINE)    # retira os nomes de usuário\r\n",
    "    text_subbed = re.sub(r\"kk\\S+\", \"kk\", text_subbed)                    # transformar as strings que começam com kk em 'kk'\r\n",
    "    text_subbed = re.sub(r\"compr\\S+\", \"compr\", text_subbed) \r\n",
    "    text_subbed = re.sub(r\"limp\\S+\", \"limp\", text_subbed) \r\n",
    "    text_subbed = re.sub(r\"batat\\S+\", \"batata\", text_subbed) \r\n",
    "    aux = nltk.TweetTokenizer()\r\n",
    "    text_subbed = aux.tokenize(text_subbed)                              # separa os emojis\r\n",
    "    string_final = ' '.join(text_subbed)                                 # string limpa\r\n",
    "    return string_final"
   ],
   "outputs": [],
   "metadata": {}
  },
  {
   "cell_type": "code",
   "execution_count": 45,
   "source": [
    "# Função para tirar as 'Stopwords' em português:\r\n",
    "# nltk.download('stopwords') - INSTALAR, caso vc não tenha instalado\r\n",
    "def retirar_stopwords(lista):\r\n",
    "    lista_limpa = []\r\n",
    "    stopwords = nltk.corpus.stopwords.words('portuguese')\r\n",
    "    for palavra in lista:\r\n",
    "        if palavra not in stopwords:\r\n",
    "            lista_limpa.append(palavra)\r\n",
    "    return lista_limpa"
   ],
   "outputs": [],
   "metadata": {}
  },
  {
   "cell_type": "code",
   "execution_count": 46,
   "source": [
    "lista = []\r\n",
    "\r\n",
    "for linha in train['Treinamento']:\r\n",
    "    limpo = cleanup(linha.lower())             # Limpa a planilha Treinamento e tira as letras maiúsculas \r\n",
    "    a = limpo.split()\r\n",
    "    b = retirar_stopwords(a)\r\n",
    "    limpo = ' '.join(b)  \r\n",
    "    lista.append(limpo)\r\n",
    "    \r\n",
    "serie_train = pd.Series(lista)                 # Transforma a coluna da planilha Treinamento em Series\r\n",
    "serie_train"
   ],
   "outputs": [
    {
     "output_type": "execute_result",
     "data": {
      "text/plain": [
       "0                       twitter vai fazer compr airfryer\n",
       "1      quero assar pão queijo forno daqui casa bosta ...\n",
       "2      bom aparentemente deu ruim saiu toda tinta / t...\n",
       "3      airfryer panelas polishop celebra anos descont...\n",
       "4                mano tô louca nessa airfryer serase boa\n",
       "                             ...                        \n",
       "295                        toma chifre michelle airfryer\n",
       "296             impedimento airfryer viva philips walita\n",
       "297     kk literalmente airfryer carga v potência máxima\n",
       "298                                  airfryer tudo serio\n",
       "299                   ranço batata palito feita airfryer\n",
       "Length: 300, dtype: object"
      ]
     },
     "metadata": {},
     "execution_count": 46
    }
   ],
   "metadata": {}
  },
  {
   "cell_type": "code",
   "execution_count": 47,
   "source": [
    "train['Treinamento'] = serie_train        # substitui os tweets originais da planilha, pelos tweets limpos\r\n",
    "train"
   ],
   "outputs": [
    {
     "output_type": "execute_result",
     "data": {
      "text/html": [
       "<div>\n",
       "<style scoped>\n",
       "    .dataframe tbody tr th:only-of-type {\n",
       "        vertical-align: middle;\n",
       "    }\n",
       "\n",
       "    .dataframe tbody tr th {\n",
       "        vertical-align: top;\n",
       "    }\n",
       "\n",
       "    .dataframe thead th {\n",
       "        text-align: right;\n",
       "    }\n",
       "</style>\n",
       "<table border=\"1\" class=\"dataframe\">\n",
       "  <thead>\n",
       "    <tr style=\"text-align: right;\">\n",
       "      <th></th>\n",
       "      <th>Treinamento</th>\n",
       "      <th>Classificação</th>\n",
       "    </tr>\n",
       "  </thead>\n",
       "  <tbody>\n",
       "    <tr>\n",
       "      <th>0</th>\n",
       "      <td>twitter vai fazer compr airfryer</td>\n",
       "      <td>1</td>\n",
       "    </tr>\n",
       "    <tr>\n",
       "      <th>1</th>\n",
       "      <td>quero assar pão queijo forno daqui casa bosta ...</td>\n",
       "      <td>1</td>\n",
       "    </tr>\n",
       "    <tr>\n",
       "      <th>2</th>\n",
       "      <td>bom aparentemente deu ruim saiu toda tinta / t...</td>\n",
       "      <td>1</td>\n",
       "    </tr>\n",
       "    <tr>\n",
       "      <th>3</th>\n",
       "      <td>airfryer panelas polishop celebra anos descont...</td>\n",
       "      <td>0</td>\n",
       "    </tr>\n",
       "    <tr>\n",
       "      <th>4</th>\n",
       "      <td>mano tô louca nessa airfryer serase boa</td>\n",
       "      <td>1</td>\n",
       "    </tr>\n",
       "    <tr>\n",
       "      <th>...</th>\n",
       "      <td>...</td>\n",
       "      <td>...</td>\n",
       "    </tr>\n",
       "    <tr>\n",
       "      <th>295</th>\n",
       "      <td>toma chifre michelle airfryer</td>\n",
       "      <td>0</td>\n",
       "    </tr>\n",
       "    <tr>\n",
       "      <th>296</th>\n",
       "      <td>impedimento airfryer viva philips walita</td>\n",
       "      <td>0</td>\n",
       "    </tr>\n",
       "    <tr>\n",
       "      <th>297</th>\n",
       "      <td>kk literalmente airfryer carga v potência máxima</td>\n",
       "      <td>0</td>\n",
       "    </tr>\n",
       "    <tr>\n",
       "      <th>298</th>\n",
       "      <td>airfryer tudo serio</td>\n",
       "      <td>1</td>\n",
       "    </tr>\n",
       "    <tr>\n",
       "      <th>299</th>\n",
       "      <td>ranço batata palito feita airfryer</td>\n",
       "      <td>1</td>\n",
       "    </tr>\n",
       "  </tbody>\n",
       "</table>\n",
       "<p>300 rows × 2 columns</p>\n",
       "</div>"
      ],
      "text/plain": [
       "                                           Treinamento  Classificação\n",
       "0                     twitter vai fazer compr airfryer              1\n",
       "1    quero assar pão queijo forno daqui casa bosta ...              1\n",
       "2    bom aparentemente deu ruim saiu toda tinta / t...              1\n",
       "3    airfryer panelas polishop celebra anos descont...              0\n",
       "4              mano tô louca nessa airfryer serase boa              1\n",
       "..                                                 ...            ...\n",
       "295                      toma chifre michelle airfryer              0\n",
       "296           impedimento airfryer viva philips walita              0\n",
       "297   kk literalmente airfryer carga v potência máxima              0\n",
       "298                                airfryer tudo serio              1\n",
       "299                 ranço batata palito feita airfryer              1\n",
       "\n",
       "[300 rows x 2 columns]"
      ]
     },
     "metadata": {},
     "execution_count": 47
    }
   ],
   "metadata": {}
  },
  {
   "cell_type": "code",
   "execution_count": 48,
   "source": [
    "filtro = train.Classificação==1          # filtra os tweets classificados como relevantes\r\n",
    "relevantes = train.loc[filtro, :]        # dataframe com tweets relevantes\r\n",
    "\r\n",
    "filtro2 = train.Classificação==0        # filtra os tweets classificados como irrelevantes\r\n",
    "irrelevantes = train.loc[filtro2, :]    # dataframe com tweets irrelevantes"
   ],
   "outputs": [],
   "metadata": {}
  },
  {
   "cell_type": "code",
   "execution_count": 49,
   "source": [
    "# Transforma o dataframe relevantes em um único texto\r\n",
    "string_relevante = ''\r\n",
    "for linha in relevantes.Treinamento:\r\n",
    "    string_relevante+= ' '+ linha\r\n",
    "string_relevante"
   ],
   "outputs": [
    {
     "output_type": "execute_result",
     "data": {
      "text/plain": [
       "' twitter vai fazer compr airfryer quero assar pão queijo forno daqui casa bosta posso fazer airfryer limp antes enfim vou passar fome preguiça bom aparentemente deu ruim saiu toda tinta / teflon airfryer mano tô louca nessa airfryer serase boa frango cubos batata doce cenoura picados aquecidos airfryer selados frigideira molho cebola queijos cebola dourada mantega creme leite queijo minas padrão cream cheese philadelphia coisas superestimadas batata frita airfryer 🤡 realidade sei viver airfryer aniversário tá chegando alguém quiser dar presente tô aceitando airfryer manha compr airfryer polishop c cartao salnorabo ninguém quer dar presente airfryer tapete dadinho q vc compr mercado aí faço airfryer fica divino recomendo vamos conseguir estragar batata frita airfryer milésima vez 😛 lembrei airfryer agora todos problemas vida sumiram cama sofá novo chegaram aqui apto final semana chega aspirador pó ✅ próxima aquisição airfryer abençoa senhor abençoa filha fatura cartão crédito próximos meses 🙏 🏻 rapaz vejo muita gente falando airfryer to pensando arriscar compr polishop falta airfryer tá fazendo aqui falafel airfryer rendi sucesso molho improvisado iogurte alho viva comida verdade viva ❤ mt feliz airfryer nova frango airfryer deus delícia ganhei airfryer agr fudeu n saio kit pra nada fritar hambúrguer airfryer melhor coisa q fiz vida gente serio airfryer compr aneis cebolas mt bom alô tuiteiros tudo sabem ajudem dúvida melhor airfryer marca / modelo quê mãe fez toucinho barriga airfryer 🤦 🏽 \\u200d ♂ ️ airfryer deveria ser considerada crime internacional puis cabeça preciso airfryer pipoqueira elétrica agora quero kk airfryer maluco chique fogão daqui casa cúmulo absurdo ter descoberto prazeres airfryer pós governo bolsonaro pudesse colocar tudo colocava favor volta lula ja q ja completei horas jejum acho q vou comer batata airfryer irma deu airfryer 🥺 🥺 🥺 🥰 🥰 🥰 😄 😄 😄 bom gosto 🎂 bolo moca / brownie 🍬 doce doce mocotó 🍨 sorvete chocomenta 🍫 chocolate amargo 🧃 suco laranja acerola 🥤 refri hoh variantes 🍉 fruta uva 🥔 batata frita airfryer 🌊 água gás 🍕 pizza strogonoff 🍾 drink green martini sugestões p evitar desperdício sobrou arroz / feijão bate tudo caldo feijão faz bolinho dá p fritar meter forno airfryer amo requentar tq q frita air fryer pqp sobrou polenta alpim frito tavam murchos moles geladeira coloquei airfryer melhor q novos luiz carlos bresserpereira resistir compr airfryer troço bom crianças limp airfryer após uso deixar pra sofrência dobro \\U0001f972 batata páprica defumada alecrim sal orégano açafrão azeite mistura tudo min airfryer máximo ✨ milhões ✨ inventou airfryer coração todin compr airfryer mt massa receita petisco prepare delicioso frango passarinho airfryer todo respeito filé tilapia airfryer fica coisa bem temperada mundo séloco sei vivia airfryer fiz bela lasanha airfryer aqui casa 🙏 min tô desacreditada fala marko mello blz to querendo compr airfryer alguma marca modelo indica gente realmente fez arroz airfryer kk acredito batata frita sal airfryer supremacy nada airfryer microondas resolva fazendo pimentao airfryer 😔 💅 🏻 💕 vou temperar asinhas frango pra amanhã fazer airfryer falta airfryer super ligue pra presentes ano galera puxou tudo ganhei cara airfryer ganhei mandei pra foto barriga porco literalmente botei airfryer [ / / ] rosamaria salles morena cozinheira dá cara dá quero airfryer geladeira inox água porta inclusive dica carne aperitivo pega carne vem cortada pequena pra strogonoff tempera sal alho molho inglês minutos airfryer joga uns anéis cebola cortados finos cima pronto fica bom farofa grata deus ter conseguido compr airfryer ♥ ️ 🙏 🏽 fiz panceta airfryer ficou delícia demais ficou bonita kk acho vou fazer mandioquinha airfryer pro almoço compr airfryer p tchuca \\U0001f90c 🏼 🙌 🏻 fazer pao requeijão nao airfryer requeijão inhame sobrou receita ontem janta hoje basicamente batata frita airfryer pq saudável brócolis fazendo umas linguiça airfryer vai prestar basília herdei airfryer fazendo experiências fiz batata rústica ficou bem gostosa vejo muita vantagem prefiro forninho velho guerra hj fiz arroz panela eletrica franguinho airfryer sinto chique adoravel compr airfryer lá mano tava barato internet comidas feias gostosas apresento bolinho preguiça amasso aipim cozido sobra alguma refeição misturo temperinhos frango calabresa picadinha jogo min airfryer tá pronto caraio airfryer ta bonita adoro eletrônicos vidrinho pra vc ver dentro eh possivel fazer frango batata airfryer forno matei vontade bistequinha porco airfryer molho barbecue 😋 flertando vc limp parte cima airfryer airfryer pior aquisição vida antigamente comia batata frita vez mo mês bagaça todo dia anonymous precisa vaza quero airfryer gente manda ai melhor receita airfryer vejo hora ser usuário airfryer pra ficar falando tempo todo airfryer coisas faço airfryer anonymous vaza aí quero airfryer barato fogão gás x airfryer elétrico 🤬 🤬 🤬 olhando preço airfryer microondas tornando falam airfryer ouviram falar panela elétrica feijão bagulho bom serio próximo investimento vai ser airfryer pqp acabei dar jeito fazer nuggets microondas sonhei ganhava airfryer \\U0001f972 encher saco mãe dar airfryer acredito airfryer menos silence olha fala limp airfryer né desvia olhar esquece volta lembrar olha novo existem dois hacks mudam vida solteiro reaquecer pizza 👉 🏻 microondas coloque copo meio cheio aquecer junto 👉 🏻 forno airfryer borrife água cima redor borda dois jeitos vai voltar ser crocante muda vidas pra mim n nada útil mundo airfryer raquete elétrica pra pernilongo atual fetiche vida adulta airfryer sonhos serem realizados futuro tão distante ironicamente quero mto ter airfryer compr airfryer pro homem agora imparáveis pão queijo feito casa cafézim toda manhã milho airfryer cerveja sabadou mi casa fritando coxinhas airfryer q vai ficar bom parei meio capítulo pra ver receita cará airfryer mano ce coloca carne pressão min liga modo airfryer fica tostada suculenta dentro lt novo amor pão alho airfryer bom q vc mora sozinha precisava ser airfryer grande cheia coisas apoio compr coisas pra ficarem boas airfryer serem pré fritas corta frita pro menos uns / minutos congela sim assim kk fiz cabotiá batata doce airfryer amigo airfryer melhor coisa universo existe nada melhor q véi sério 😍 😍 😍 cebola crispy airfryer tudo pra mim 🥰 pensar q gostava cebola hein ponto chegamos rsrs vo ter ir buscar airfryer avo compr calanga veia eh mole amando airfryer ok almoço hj arroz feijão parmegiana queijo batata frita airfryer menos pior coisa q existe lavar airfryer mds bagulho difícil tava aqui trabalhando vi limão siciliano sozinho fruteira pensei bolinho limão siciliano cairia bem agora tarde parei tava fazendo minutos fiz mini massa coloquei airfryer vai dar certo daqui alguns minutos descubro fiquei fome novo resultando colocar saco batata frita mccain melhor airfryer 😍 sei voces sao big fas airfryer vcs ja slow cooker \\U0001f972 sujei vou lavar airfryer próximo vier lavar louça lave alguém q limp urgentemente airfryer daqui casa alguém vai ser existe coisa bonita airfryer aniversário dia ganhei melhor primeiro presente antecipado airfryer amigas perfeitas vejo hora chegar 🥺 quero butá nome bichinha dicas economizar gás cozinha compr airfryer cozinha polenta antes espera esfriar corta retângulos congela aí coloca airfryer congelada porções quer comer amo thiago ta aventurando mundo encantado comidas airfryer 🥵 versão forno / airfryer vale pra pão francês tbm hmmm ontem compr airfryer aí vendedora tava lá falando pra mim melhor pra cozinhar aí disse q casa cozinha marido linda airfryer modelo tão feliz airfryer precisamos desesperadamente compr airfryer nova ainda chegou tão aguardada airfryer dia ser perfeito joelhos puro suco dor estreei airfryer sábado nuggets juro q nunca comi nuggets gostosos vidaaa hahahah agora tô fazendo batata frita vou esquentar q sobrou churrasco línguica pedaço grande carne espero q fique bom pq q pra janta fiz mistoquente airfryer hj deus acima tudo airfryer acima todos gente faz meses mãe faz carne airfryer fica gostoso literalmente igual churrasqueira kk dar cambau funcionou abre massa joga direto frigideira ferro orando quente fundo assadinho questão min leva grade airfryer coloca molho tomate recheio daí leva pra air fryer lindo q airfryer agora descobri poder carne hambúrguer feita airfryer vida outra óleo sopicado fogão sabe alegria queria compr airfryer irmão convenceu pais nao compr 😪 airfryer eh facil top invenções modernidade tia compr airfryer p p mãe aaaaaaaaaaaaaaaaaaa pensando compr airfryer aspirador pó salário realidade vou pagar conta luz vai aumentar sei inventou airfryer pessoa mora coração peito frango airfryer pra mim dá sobrecoxa aprovei achei idêntica feita forno fazer pizza rap airfryer caminho volta façam galera mto bom seriao airfryer razão pq troço bom demais arrependo mtas coisas vida ter compr airfryer dessas coisas gente airfyer gente quer fazer tudo airfryer gente cozinhar feijão airfryer todo mundo quer hyunjin frito airfryer top melhores coisas vida adulta ar condicionado maquina lavar roupa airfryer amantes airfryer perdoem batata frita óleo pisa demais kk acabei entrar pro mundinho airfryer 🥰 🥰 🥰 preciso receitas conseguiu fazer polenta airfryer fica bem ruim puta pariu bife feito airfryer simplesmente sensacional fiz ontem airfryer delícia 😋 😋 😋 hoje mãe fez torta airfryer hora desmontar destruiu tudo kk menos tava bom gilmar mendes resistir compr airfryer troço bom luis pão queijo desses feitos mercado colocar airfryer esperar quinze minutos erra bom frango airfryer 😍 lado bom ser pessoa boazinha empresta cartão pra todo mundo acabei compr airfryer pontos gastei metade q rolê oq tô eh feliz c airfryer 🥰 🤧 😭 🤧 batata airfryer bom dms batata recheada tbm mt bom vc doido matheys fica gosot nada airfryer fiz receita airfryer pegou fogo dá outra americanas 😠 parabéns pra mim peguei mão pão queijo assim airfryer desligou 🤡 hahah fácil juro refoga cebola cogumelos batata cenouras cortadas pedaços grandes água cozinhar tudo espera ficar ponto bom coloca tabletes golden curry ajusta caldo steak airfryer arroz arroz 😅 vou fazer hambúrguer macaxeira assada airfryer puro conforto caralho n compr airfryer comrpou fogão fryer milhoes dollares q bagulho lindo ashiudqiwu airfryer tudo serio ranço batata palito feita airfryer'"
      ]
     },
     "metadata": {},
     "execution_count": 49
    }
   ],
   "metadata": {}
  },
  {
   "cell_type": "code",
   "execution_count": 50,
   "source": [
    "# Transforma o dataframe irrelevantes em um único texto\r\n",
    "string_irrelevante = ''\r\n",
    "for linha in irrelevantes.Treinamento:\r\n",
    "    string_irrelevante+= ' '+ linha\r\n",
    "string_irrelevante"
   ],
   "outputs": [
    {
     "output_type": "execute_result",
     "data": {
      "text/plain": [
       "' airfryer panelas polishop celebra anos descontos r ajudando país economizar energia assando torresmo airfryer caras sonhei airfryer donos airfryer seita toda certeza q aqui casa uso airfryer reina 😅 preocupada vídeo game pai cachorro mãe airfryer ser airfryer minutinhos airfryer tá croc croc novo dá secada óleo tbm pessoal vem hospedar hotel agora airfryer trazem pro rolê mano tá farofada sdds tempo tibau sul pipa destinos internacionais vivendo semana fogão explorando todas possibilidades culinárias airfryer coisas cujos admiradores / participantes organizam tal seita ciro gomes airfryer bolsonaro astrologia fone chinês culpa lula bdsm juliette kpop pirâmide financeira criptomoedas ciclismo apple xiaomi continuem replys jantarzinho especial q vou preparar hj = tacar pao alho airfryer arrependida ter concordado mãe q inútil trazer airfryer pra bt 😫 taynah assistido jogos fluminense roger airfryer uns insrantes fiquei pensando diabos alguém queimou airfryer haha pastel airfryer ficou projeto pq coragem pra fazer seis tão ligado desligando alegria adulto pode usar airfryer paraíso todo mundo passou prova vida adulta pagar primeiros boletos jeito tá conta luz boleto vem dando choque graças deus mt cheios assunto tipo sobre origem airfryer fiz pão alho meio live esqueci airfryer 👍 torresmo airfryer acaba resto água reservatórios kk cade devotos airfryer preciso parei usar secador microondas airfryer ar condicionado usando quarto filho tv n engomamos roupas fardas crianças marido assim limp airfryer gordura doada linguiça domingo coloca sabor frango grelhado segunda igual frango airfryer fritando debaixo desse ventilador teto qualquer airfryer lover porque fica sequinho bah q chinelagem roubar airfryer eduarda eh mundo vida lar casa amor pet ar luz estrela tv travesseiro comida cama família deus pastor mapa terra gostosa fonte minecraft airfryer doce salgado hmmmm 😋 aqui compr dessas tb jogo airfryer aqui casa n pode microondas airfryer acender luz dia posso ainda tomar banho quente pq elétrico gás bitcoin porra nenhuma melhor investimento fiz compr capsulas reutilizáveis pra dolce gusto termos custo beneficio ta mesma prateleira airfryer café indispensavel capsula reutilizavel melhor investimento seculo parecer vc tava usando airfryer potencial amigo esqueceu ontem cigarro chuva colocou airfryer velhoooo kk tô chorando tanto rir vídeo cigarros airfryer kskskskk auge fumante kk gosto sai airfryer vou gostar comida coco bambu 🤷 🏻 \\u200d ♂ ️ testemunha airfryer aqui fez porco ficou nata creme leite mto fala sobre funcionalidade airfryer pouco fala sobre queimaduras pessoas estabanadas corajoso suficiente ter fritado coisas ainda cima lembrei poderia ter feito tudo airfryer pouparia regata encharcada suor suja óleo obs limp cozinha novo hoje assim cheguei trabalho vcs pararam p pensar q talvez dilma tava falando estocar vento tava falando airfryer airfryer vida salva hahahah libido alta baixa ventilador ar condicionado caceres hoje = airfryer pra fazer fusca airfryer vai queimei dedão agora n sei isqueiro airfryer 🤝 🏻 relaxa vai ficar td cm gosto airfryer msm kk vc precisa batata congelada una airfryer dica airfryer fica bem feito existe algum tipo óleo materiais gordura natural fica bom ficam frango inserida industrialmente batata pré frita então caso melhor passar algo possibilitar manteiga azeite etc tacar batata airfryer pegar bom vinho puder fazer tudo airfryer faço puta negócio chato cozinhar quanto tempo q deixa pao alho airfryer airfryer mercado quente igual airfryer ninguém merece deve ficar delícia conseguiria resultado menos tempo airfryer pode acreditar puts aqui gente combo panela arroz airfryer basicamente temperar esperar almoço prático demaisss todo mundo airfryer mundo assim coloca meia hora temperatura máxima minutos abre pra dar mexida meia hora ainda n assou direito jeito q vc quer vai pondo pouco tempo nunca fiz pão queijo airfryer kk assim q trabalho batata frita ouviu falar palavra airfryer agradeça forçado airfryer tite melhor técnico país airfryer polishop airfryer airfryer né quero outra vida agora haha preciso airfryer questão segurança fritar hamburguêr quase queimo feio óleo novo q consigo queimar usando airfryer mano kk mãe compr carne churrasco quer airfryer ah bom dia chef querendo compr airfryer marca indica quiser falar tl favor enviar dm obrigado duas semanas amiga voltarei ser escravo airfryer devo tuitar pois ninguém pra conversar 😂 pts soja marinadas vão airfryer vida tomei banho quente chuveiro posição inverno botei pipoca pra fazer microondas coloquei batata pra fritar airfryer liguei ar condicionado liguei tv pra ver jogo brasil enquanto passo roupa pra trabalhar amanhã vamos economizar energia porra forno airfryer skaksjsjskzn vai rápido fazer airfryer porque microondas derrete tudo antes airfryer sempre corre risco ficar dura demais deixa pouco quentinha 😁 😁 tens airfryer pra vender ali dália ficam idênticos feitos airfryer tô morrendo pena deixar airfryer ninguém vai ter cuidado poucos meses vai danificar certeza saco pãozin di queijo airfryer agora 😥 bixo purê mandioquinha fica mt doce sla n curto nadinha ia fazer prato natal sempre provo coisas antes fazer combinação ficou esquisitissima batata doce n cheguei testar ainda filetada airfryer ia tentar n sei compr batata aparentemente noite dormindo airfryer maior tristeza ir fritar salsicha óleo fogão acabar gás ser obrigado pôr salsicha airfryer senso quero gosto óleo salsicha danilo alex sandro laterais airfryer airfryer pegando fogo auge noite airfryer caiu lixo viado belo horizonte virou airfryer toucinho barriga virando pururuca acabei descobrir tiktok q airfryer tô completamente mundinho airfryer brasil ideias felipe hoje quer fazer tudo airfryer fiozinho óleo veeeei vai pro mundinho fogão brasil cara airfryer kskskk queria fritar coxinha airfryer mãe guarda quarto dentro armário dentro caixa debaixo caixa artigos natal pensa bomba relógio mt ciúme acordei dentro airfryer n pode ser porteirinha tão quente bateu vento senti airfryer gás ficou caro muitas outras pessoas compr forninho elétrico airfryer aí luz ficou cara quê usar cozinhar ser classe média pobre dureza imagina pobre pobre elitista demais tweet perdão todos apenas dependente airfryer atenção tweet sério compr pizza creck sim ifood obriga sexta tava geladeira microondas daqui casa quebrou posso esquentar airfryer vontade absurda comer pão alho mercado compr errei tempo airfryer queimei pão alho 🤡 🤡 tô fazendo pão alho airfryer pq tô fome prêmio mao melissa pizza caseira feita airfryer morrendo seita airfryer kk bom dia gata ligou airfryer hoje nível desastre derrubei recipiente airfryer pé ganhei roxo 🤡 aqui casa ligo chuveiro airfryer juntos disjuntores dão chiada imagina ligar treco brega aí aqui pensando gastar óleo gás pra usar fogão gastar energia pra usar airfryer 🤔 questionamento brasileiro atual governo verdade nuggets h airfryer calorias diversão sido ver jovens idosinhas convivendo paz harmonia ✨ ✨ grupo airfryer ✨ ✨ mlk cidade tava ontem bateu ° vento terrivelmente quente parecia tava dentro airfryer nunca reclamo calor patos consigo entender necessidade incontrolável mãe acusar culpar qualquer tudo pano prato rasgou fica dizendo todo mundo lavou errado usou errado isenta airfryer quebrou sozinho acusa todo mundo usar violentamente espera chegar sine from above prepara airfryer gatinha pessoa energia tão carregada mês ficou aqui queimou máquina lavar queimou airfryer quebrou telefone mãe impressora simplesmente funciona direito hoje fechar chave ouro fogão vazando gás fechado deus céu caloooor q tamo vivendo airfryer airfryer forno sanduíche fica seco acho q tô airfryer aí outro nível airfryer hahaha passo mal garoto tiktok airfryer casa prefere fazer coisas l óleo ninguém reparando airfryer toda suja obg deus airfryer deus homem tão prendado lavou airfryer eh mundo vida lar casa amor pet ar luz estrela tv travesseiro comida cama família deus pastor mapa terra gostosa fonte minecraft airfryer doce vitória hahahahaha pode mexer airfryer tô usando airfryer ° minutos lembrei fazendo almoço airfryer pra n ficar comer fiz batata frita nao satisfeita aproveitei airfryer quente coloquei pão queijo bárbara sabe dizer dá pra secar calcinha airfryer — recomendo melhor usar ventilador pendurar atrás geladeira vento sopro airfryer compr uns dadinhos tapioca bom airfryer queimou kk segue dica rio preto ta clima agradável tipo airfryer hoje clb melhor q donda airfryer philips walita v acusando elis pai termos usado airfryer forma violenta ter quebrado cesta so detalhe usa airfryer proporção tipo quebrou culpa algum ser humano mutante vivo terra comseguir convence primeira semana casa nova vou ter fazer todas refeições utilizando airfryer odeio esquecer pao queijo airfryer lembrar pegar estar assim lá dentro primeiro caba vem aq casa pra comer brigadeiro agr vieram pra usar airfryer oiai boba xerath nao airfryer smp q boto paozin queijo airfryer mente canta musica doida sensação térmica coxa frango airfryer ja entrou comunidade receitas airfryer feice pior chega hora cara assa carne airfryer fundo poço nele anúncio candy crush episódio airfryer acabaram momento divertido to vivo 🟢 segundinha mano copypasta hoje pq to pensando direito causa desse calor ce ta maluco quarto ta parecendo airfryer ventilador ligado jogando bafo capeta cara dom queimar coisas airfryer sérgio malandro campanha racionamento energia entendi recado pode deixar ligando airfryer junto máquina lavar roupas gás residência encanado conta sempre ficava torno / conta energia uns tempos cá ambas têm vindo equiparadas estranho fazemos feijão arroz panelas elétricas fazíamos forno fazendo airfryer mina dizendo seita airfryer comenta sobre hora lavar cesto pois bem linda lavar opcional pode jogar compr outra toda vez usar desta vez população estará lado movimento apartidário votou peso genocida carro elétrico airfryer vindo aí chantageiem enquanto podem linguiça airfryer explode culpando dar batata frita congelada feita airfryer p lili x sema sempre rola hoje brasília experimentando sensação viver dentro airfryer nasci fevereiro f feio fudido falido fumante fascista fritadeira airfryer fa polishop copo sabia airfryer kk airfryer sempre dou to lascada pra preparar almoço jesus cade airfryer ventilador parecendo airfryer amizade caraio vcs q n apareça geladeira cooktop airfryer pra ver faxinei casa lavei roupa cabelo tô aqui corrigindo tcc fazendo pão queijo airfryer toma chifre michelle airfryer impedimento airfryer viva philips walita kk literalmente airfryer carga v potência máxima'"
      ]
     },
     "metadata": {},
     "execution_count": 50
    }
   ],
   "metadata": {}
  },
  {
   "cell_type": "code",
   "execution_count": 51,
   "source": [
    "todas_relevantes = string_relevante.split()        #Lista com todas as palavras que aparece na string relevante\r\n",
    "todas_irrelevantes = string_irrelevante.split()    #Lista com todas as palavras que aparece na string irrelevante\r\n",
    "\r\n",
    "serie_relevante = pd.Series(todas_relevantes)      #Transforma a lista de strings relevantes em um series\r\n",
    "serie_irrelevante = pd.Series(todas_irrelevantes)  #Transforma a lista de strings irrelevantes em um series"
   ],
   "outputs": [],
   "metadata": {}
  },
  {
   "cell_type": "code",
   "execution_count": 52,
   "source": [
    "tabela_relevante_relativa = serie_relevante.value_counts(True)\r\n",
    "tabela_relevante_relativa                                        # percentual de cada palavra da series relevante"
   ],
   "outputs": [
    {
     "output_type": "execute_result",
     "data": {
      "text/plain": [
       "airfryer     0.098015\n",
       "compr        0.015509\n",
       "pra          0.013027\n",
       "batata       0.012407\n",
       "q            0.012407\n",
       "               ...   \n",
       "crianças     0.000620\n",
       "assadinho    0.000620\n",
       "🍨            0.000620\n",
       "porções      0.000620\n",
       "tempera      0.000620\n",
       "Length: 826, dtype: float64"
      ]
     },
     "metadata": {},
     "execution_count": 52
    }
   ],
   "metadata": {
    "scrolled": true
   }
  },
  {
   "cell_type": "code",
   "execution_count": 53,
   "source": [
    "tabela_irrelevante_relativa = serie_irrelevante.value_counts(True)\r\n",
    "tabela_irrelevante_relativa.head(50)                                        # percentual de cada palavra da series irrelevante"
   ],
   "outputs": [
    {
     "output_type": "execute_result",
     "data": {
      "text/plain": [
       "airfryer      0.095358\n",
       "pra           0.011920\n",
       "q             0.009410\n",
       "compr         0.006274\n",
       "kk            0.006274\n",
       "fazer         0.006274\n",
       "n             0.006274\n",
       "casa          0.006274\n",
       "batata        0.005646\n",
       "aqui          0.005646\n",
       "usar          0.005646\n",
       "óleo          0.005646\n",
       "tô            0.005019\n",
       "hoje          0.005019\n",
       "vai           0.004391\n",
       "pode          0.004391\n",
       "pão           0.004391\n",
       "mundo         0.004391\n",
       "energia       0.003764\n",
       "dentro        0.003764\n",
       "ser           0.003764\n",
       "quente        0.003764\n",
       "queijo        0.003764\n",
       "fica          0.003764\n",
       "alho          0.003764\n",
       "ficou         0.003764\n",
       "vida          0.003764\n",
       "tava          0.003764\n",
       "ter           0.003764\n",
       "mãe           0.003764\n",
       "deus          0.003764\n",
       "melhor        0.003764\n",
       "gás           0.003764\n",
       "fogão         0.003137\n",
       "luz           0.003137\n",
       "ventilador    0.003137\n",
       "assim         0.003137\n",
       "tudo          0.003137\n",
       "sempre        0.003137\n",
       "microondas    0.003137\n",
       "ar            0.003137\n",
       "coisas        0.003137\n",
       "bom           0.003137\n",
       "tempo         0.003137\n",
       "fazendo       0.002509\n",
       "tipo          0.002509\n",
       "ta            0.002509\n",
       "ficar         0.002509\n",
       "cara          0.002509\n",
       "todo          0.002509\n",
       "dtype: float64"
      ]
     },
     "metadata": {},
     "execution_count": 53
    }
   ],
   "metadata": {}
  },
  {
   "cell_type": "code",
   "execution_count": 54,
   "source": [
    "todas = string_irrelevante + string_relevante          # juntando todas as palavras que aparecem na base de dados Treinamento\r\n",
    "todas_as_palavras = todas.split()                      # lista com todas as palavras\r\n",
    "serie_total = pd.Series(todas_as_palavras) \r\n",
    "serie_total\r\n",
    "# tranforma a lista em Series\r\n",
    "# tabela_total_relativa = serie_total.value_counts(True)\r\n",
    "# tabela_total_relativa                                   # percentual de cada palavra em relação a todas as palavras"
   ],
   "outputs": [
    {
     "output_type": "execute_result",
     "data": {
      "text/plain": [
       "0       airfryer\n",
       "1        panelas\n",
       "2       polishop\n",
       "3        celebra\n",
       "4           anos\n",
       "          ...   \n",
       "3201       ranço\n",
       "3202      batata\n",
       "3203      palito\n",
       "3204       feita\n",
       "3205    airfryer\n",
       "Length: 3206, dtype: object"
      ]
     },
     "metadata": {},
     "execution_count": 54
    }
   ],
   "metadata": {}
  },
  {
   "cell_type": "code",
   "execution_count": 55,
   "source": [
    "P_R = len(todas_relevantes)/len(todas_as_palavras)        # probabilidade de uma palavra ser relevante\r\n",
    "P_I = len(todas_irrelevantes)/len(todas_as_palavras)      # probabilidade de uma palavra ser irrelevante\r\n",
    "P_I + P_R                                                 # soma das probabilidade para verificar se está correto"
   ],
   "outputs": [
    {
     "output_type": "execute_result",
     "data": {
      "text/plain": [
       "1.0"
      ]
     },
     "metadata": {},
     "execution_count": 55
    }
   ],
   "metadata": {}
  },
  {
   "cell_type": "code",
   "execution_count": 56,
   "source": [
    "freq_rel_absoluta = serie_relevante.value_counts()           # quantidade de cada palavra na serie relevante\r\n",
    "freq_irrel_absoluta = serie_irrelevante.value_counts()       # quantidade de cada palavra na serie irrelevante\r\n",
    "freq_tot_absoluta = serie_total.value_counts()               # quantidade de cada palavra na serie total"
   ],
   "outputs": [],
   "metadata": {}
  },
  {
   "cell_type": "markdown",
   "source": [
    "# Função Classificadora Naive-Bayes"
   ],
   "metadata": {}
  },
  {
   "cell_type": "code",
   "execution_count": 57,
   "source": [
    "def classificador(dataframe, series):                         #recebe o dataframe e a serie de tweets que será classificada\r\n",
    "    \r\n",
    "    classificados = []\r\n",
    "    for frase in series:\r\n",
    "        lista_palavras = frase.split()\r\n",
    "        lista_palavras = retirar_stopwords(lista_palavras)    #implementa função que tira as stopwords\r\n",
    "        k,i = 0,0                                             #contador de palavras NÃO presentes em relevantes (k) e em irrevelantes (i)\r\n",
    "        for palavra in lista_palavras:\r\n",
    "            if palavra not in todas_relevantes: \r\n",
    "                k += 1\r\n",
    "            if palavra not in todas_irrelevantes:\r\n",
    "                i += 1\r\n",
    "\r\n",
    "        prob_frase_dado_relevante = 1\r\n",
    "        prob_frase_dado_irrelevante = 1\r\n",
    "\r\n",
    "        if k > 0:                                   #se tiver palavras no series que não estao na nossa base de dados relevantes\r\n",
    "            for palavra in lista_palavras:\r\n",
    "                if palavra in freq_rel_absoluta:\r\n",
    "                    prob = (freq_rel_absoluta[palavra]+ 1 ) / (freq_rel_absoluta.sum()+ len(freq_tot_absoluta)) # SUAVIZAÇÃO DE LAPLACE\"\r\n",
    "                else: \r\n",
    "                    prob = (0 + 1 ) / (freq_rel_absoluta.sum()+ len(freq_tot_absoluta))\r\n",
    "                prob_frase_dado_relevante *= prob           #multiplica a probabilidade de cada palavra dado frase\r\n",
    "        else:\r\n",
    "            for palavra in lista_palavras:\r\n",
    "                prob = freq_rel_absoluta[palavra] / freq_rel_absoluta.sum()\r\n",
    "                prob_frase_dado_relevante *= prob           #multiplica a probabilidade de cada palavra dado frase\r\n",
    "\r\n",
    "        if i > 0:\r\n",
    "            for palavra in lista_palavras:\r\n",
    "                if palavra in freq_irrel_absoluta:\r\n",
    "                    prob = ( freq_irrel_absoluta[palavra]+ 1 ) / (freq_irrel_absoluta.sum() +len(freq_tot_absoluta))\r\n",
    "                else:\r\n",
    "                    prob = ( 0 + 1 ) / (freq_irrel_absoluta.sum() +len(freq_tot_absoluta))\r\n",
    "                prob_frase_dado_irrelevante *= prob         #multiplica a probabilidade de cada palavra dado frase\r\n",
    "        else:\r\n",
    "            for palavra in lista_palavras:\r\n",
    "                prob = ( freq_irrel_absoluta[palavra] ) / (freq_irrel_absoluta.sum())\r\n",
    "                prob_frase_dado_irrelevante *= prob         #multiplica a probabilidade de cada palavra dado frase\r\n",
    "                \r\n",
    "        probRdadoFrase = prob_frase_dado_relevante* P_R\r\n",
    "        probIdadoFrase = prob_frase_dado_irrelevante* P_I\r\n",
    "        \r\n",
    "        if probRdadoFrase > probIdadoFrase:\r\n",
    "            classificados.append(1)                         #classifica como relevante\r\n",
    "        else:  \r\n",
    "            classificados.append(0)                         #classifica como irrelevante\r\n",
    "            \r\n",
    "    dataframe['Classificado'] = pd.Series(classificados)    #adiciona uma nova coluna ao dataframe com a classificação\r\n",
    "    return dataframe\r\n",
    "                "
   ],
   "outputs": [],
   "metadata": {}
  },
  {
   "cell_type": "markdown",
   "source": [
    "___\n",
    "### Verificando a performance do Classificador\n",
    "\n",
    "Agora você deve testar o seu classificador com a base de Testes."
   ],
   "metadata": {}
  },
  {
   "cell_type": "code",
   "execution_count": 58,
   "source": [
    "test"
   ],
   "outputs": [
    {
     "output_type": "execute_result",
     "data": {
      "text/html": [
       "<div>\n",
       "<style scoped>\n",
       "    .dataframe tbody tr th:only-of-type {\n",
       "        vertical-align: middle;\n",
       "    }\n",
       "\n",
       "    .dataframe tbody tr th {\n",
       "        vertical-align: top;\n",
       "    }\n",
       "\n",
       "    .dataframe thead th {\n",
       "        text-align: right;\n",
       "    }\n",
       "</style>\n",
       "<table border=\"1\" class=\"dataframe\">\n",
       "  <thead>\n",
       "    <tr style=\"text-align: right;\">\n",
       "      <th></th>\n",
       "      <th>Teste</th>\n",
       "      <th>Classificação</th>\n",
       "    </tr>\n",
       "  </thead>\n",
       "  <tbody>\n",
       "    <tr>\n",
       "      <th>0</th>\n",
       "      <td>o bom da airfryer fica tudo pronto rápido, não...</td>\n",
       "      <td>1</td>\n",
       "    </tr>\n",
       "    <tr>\n",
       "      <th>1</th>\n",
       "      <td>um app pra calcular se é mais barato fazer a c...</td>\n",
       "      <td>0</td>\n",
       "    </tr>\n",
       "    <tr>\n",
       "      <th>2</th>\n",
       "      <td>@raytotsukishiro aumentou o preço de tudo. aqu...</td>\n",
       "      <td>0</td>\n",
       "    </tr>\n",
       "    <tr>\n",
       "      <th>3</th>\n",
       "      <td>meti um pão de queijo na airfryer 😌</td>\n",
       "      <td>1</td>\n",
       "    </tr>\n",
       "    <tr>\n",
       "      <th>4</th>\n",
       "      <td>@alcysio @safbf pô alcysio, me adaptei total p...</td>\n",
       "      <td>0</td>\n",
       "    </tr>\n",
       "    <tr>\n",
       "      <th>...</th>\n",
       "      <td>...</td>\n",
       "      <td>...</td>\n",
       "    </tr>\n",
       "    <tr>\n",
       "      <th>195</th>\n",
       "      <td>tutorial bolinha de queijo✨\\n\\n200g de queijo ...</td>\n",
       "      <td>1</td>\n",
       "    </tr>\n",
       "    <tr>\n",
       "      <th>196</th>\n",
       "      <td>pessoal daqui de casa inventou de querer fazer...</td>\n",
       "      <td>1</td>\n",
       "    </tr>\n",
       "    <tr>\n",
       "      <th>197</th>\n",
       "      <td>eu nao sei voces, mas eu ganhei uma airfryer g...</td>\n",
       "      <td>1</td>\n",
       "    </tr>\n",
       "    <tr>\n",
       "      <th>198</th>\n",
       "      <td>@ibebelly amanhã eu vou fazer um pão de alho d...</td>\n",
       "      <td>1</td>\n",
       "    </tr>\n",
       "    <tr>\n",
       "      <th>199</th>\n",
       "      <td>disse pra vovó que tô estagiando e a mulher já...</td>\n",
       "      <td>1</td>\n",
       "    </tr>\n",
       "  </tbody>\n",
       "</table>\n",
       "<p>200 rows × 2 columns</p>\n",
       "</div>"
      ],
      "text/plain": [
       "                                                 Teste  Classificação\n",
       "0    o bom da airfryer fica tudo pronto rápido, não...              1\n",
       "1    um app pra calcular se é mais barato fazer a c...              0\n",
       "2    @raytotsukishiro aumentou o preço de tudo. aqu...              0\n",
       "3                  meti um pão de queijo na airfryer 😌              1\n",
       "4    @alcysio @safbf pô alcysio, me adaptei total p...              0\n",
       "..                                                 ...            ...\n",
       "195  tutorial bolinha de queijo✨\\n\\n200g de queijo ...              1\n",
       "196  pessoal daqui de casa inventou de querer fazer...              1\n",
       "197  eu nao sei voces, mas eu ganhei uma airfryer g...              1\n",
       "198  @ibebelly amanhã eu vou fazer um pão de alho d...              1\n",
       "199  disse pra vovó que tô estagiando e a mulher já...              1\n",
       "\n",
       "[200 rows x 2 columns]"
      ]
     },
     "metadata": {},
     "execution_count": 58
    }
   ],
   "metadata": {}
  },
  {
   "cell_type": "code",
   "execution_count": 59,
   "source": [
    "lista = []\r\n",
    "\r\n",
    "for linha in test['Teste']:\r\n",
    "    limpo = cleanup(linha.lower())             # Limpa a planilha Teste e tira as letras maiúsculas\r\n",
    "    lista.append(limpo)\r\n",
    "\r\n",
    "test['Teste'] = pd.Series(lista)             # Substitui os tweets originais da planilha, pelos tweets limpos\r\n",
    "test"
   ],
   "outputs": [
    {
     "output_type": "execute_result",
     "data": {
      "text/html": [
       "<div>\n",
       "<style scoped>\n",
       "    .dataframe tbody tr th:only-of-type {\n",
       "        vertical-align: middle;\n",
       "    }\n",
       "\n",
       "    .dataframe tbody tr th {\n",
       "        vertical-align: top;\n",
       "    }\n",
       "\n",
       "    .dataframe thead th {\n",
       "        text-align: right;\n",
       "    }\n",
       "</style>\n",
       "<table border=\"1\" class=\"dataframe\">\n",
       "  <thead>\n",
       "    <tr style=\"text-align: right;\">\n",
       "      <th></th>\n",
       "      <th>Teste</th>\n",
       "      <th>Classificação</th>\n",
       "    </tr>\n",
       "  </thead>\n",
       "  <tbody>\n",
       "    <tr>\n",
       "      <th>0</th>\n",
       "      <td>o bom da airfryer fica tudo pronto rápido não ...</td>\n",
       "      <td>1</td>\n",
       "    </tr>\n",
       "    <tr>\n",
       "      <th>1</th>\n",
       "      <td>um app pra calcular se é mais barato fazer a c...</td>\n",
       "      <td>0</td>\n",
       "    </tr>\n",
       "    <tr>\n",
       "      <th>2</th>\n",
       "      <td>aumentou o preço de tudo aqui a gente compr um...</td>\n",
       "      <td>0</td>\n",
       "    </tr>\n",
       "    <tr>\n",
       "      <th>3</th>\n",
       "      <td>meti um pão de queijo na airfryer 😌</td>\n",
       "      <td>1</td>\n",
       "    </tr>\n",
       "    <tr>\n",
       "      <th>4</th>\n",
       "      <td>pô alcysio me adaptei total pra usar o mínimo ...</td>\n",
       "      <td>0</td>\n",
       "    </tr>\n",
       "    <tr>\n",
       "      <th>...</th>\n",
       "      <td>...</td>\n",
       "      <td>...</td>\n",
       "    </tr>\n",
       "    <tr>\n",
       "      <th>195</th>\n",
       "      <td>tutorial bolinha de queijo ✨ g de queijo muçar...</td>\n",
       "      <td>1</td>\n",
       "    </tr>\n",
       "    <tr>\n",
       "      <th>196</th>\n",
       "      <td>pessoal daqui de casa inventou de querer fazer...</td>\n",
       "      <td>1</td>\n",
       "    </tr>\n",
       "    <tr>\n",
       "      <th>197</th>\n",
       "      <td>eu nao sei voces mas eu ganhei uma airfryer gi...</td>\n",
       "      <td>1</td>\n",
       "    </tr>\n",
       "    <tr>\n",
       "      <th>198</th>\n",
       "      <td>amanhã eu vou fazer um pão de alho de airfryer...</td>\n",
       "      <td>1</td>\n",
       "    </tr>\n",
       "    <tr>\n",
       "      <th>199</th>\n",
       "      <td>disse pra vovó que tô estagiando e a mulher já...</td>\n",
       "      <td>1</td>\n",
       "    </tr>\n",
       "  </tbody>\n",
       "</table>\n",
       "<p>200 rows × 2 columns</p>\n",
       "</div>"
      ],
      "text/plain": [
       "                                                 Teste  Classificação\n",
       "0    o bom da airfryer fica tudo pronto rápido não ...              1\n",
       "1    um app pra calcular se é mais barato fazer a c...              0\n",
       "2    aumentou o preço de tudo aqui a gente compr um...              0\n",
       "3                  meti um pão de queijo na airfryer 😌              1\n",
       "4    pô alcysio me adaptei total pra usar o mínimo ...              0\n",
       "..                                                 ...            ...\n",
       "195  tutorial bolinha de queijo ✨ g de queijo muçar...              1\n",
       "196  pessoal daqui de casa inventou de querer fazer...              1\n",
       "197  eu nao sei voces mas eu ganhei uma airfryer gi...              1\n",
       "198  amanhã eu vou fazer um pão de alho de airfryer...              1\n",
       "199  disse pra vovó que tô estagiando e a mulher já...              1\n",
       "\n",
       "[200 rows x 2 columns]"
      ]
     },
     "metadata": {},
     "execution_count": 59
    }
   ],
   "metadata": {}
  },
  {
   "cell_type": "markdown",
   "source": [
    "# Implementando a função..."
   ],
   "metadata": {}
  },
  {
   "cell_type": "code",
   "execution_count": 60,
   "source": [
    "df = test               # dataframe que será argumento da função classificadora\r\n",
    "series= test['Teste']   # series que será argumento da função classificadora"
   ],
   "outputs": [],
   "metadata": {}
  },
  {
   "cell_type": "code",
   "execution_count": 61,
   "source": [
    "# Implementa função\r\n",
    "df_classificado = classificador(df, series)\r\n",
    "df_classificado"
   ],
   "outputs": [
    {
     "output_type": "execute_result",
     "data": {
      "text/html": [
       "<div>\n",
       "<style scoped>\n",
       "    .dataframe tbody tr th:only-of-type {\n",
       "        vertical-align: middle;\n",
       "    }\n",
       "\n",
       "    .dataframe tbody tr th {\n",
       "        vertical-align: top;\n",
       "    }\n",
       "\n",
       "    .dataframe thead th {\n",
       "        text-align: right;\n",
       "    }\n",
       "</style>\n",
       "<table border=\"1\" class=\"dataframe\">\n",
       "  <thead>\n",
       "    <tr style=\"text-align: right;\">\n",
       "      <th></th>\n",
       "      <th>Teste</th>\n",
       "      <th>Classificação</th>\n",
       "      <th>Classificado</th>\n",
       "    </tr>\n",
       "  </thead>\n",
       "  <tbody>\n",
       "    <tr>\n",
       "      <th>0</th>\n",
       "      <td>o bom da airfryer fica tudo pronto rápido não ...</td>\n",
       "      <td>1</td>\n",
       "      <td>1</td>\n",
       "    </tr>\n",
       "    <tr>\n",
       "      <th>1</th>\n",
       "      <td>um app pra calcular se é mais barato fazer a c...</td>\n",
       "      <td>0</td>\n",
       "      <td>1</td>\n",
       "    </tr>\n",
       "    <tr>\n",
       "      <th>2</th>\n",
       "      <td>aumentou o preço de tudo aqui a gente compr um...</td>\n",
       "      <td>0</td>\n",
       "      <td>1</td>\n",
       "    </tr>\n",
       "    <tr>\n",
       "      <th>3</th>\n",
       "      <td>meti um pão de queijo na airfryer 😌</td>\n",
       "      <td>1</td>\n",
       "      <td>0</td>\n",
       "    </tr>\n",
       "    <tr>\n",
       "      <th>4</th>\n",
       "      <td>pô alcysio me adaptei total pra usar o mínimo ...</td>\n",
       "      <td>0</td>\n",
       "      <td>1</td>\n",
       "    </tr>\n",
       "    <tr>\n",
       "      <th>...</th>\n",
       "      <td>...</td>\n",
       "      <td>...</td>\n",
       "      <td>...</td>\n",
       "    </tr>\n",
       "    <tr>\n",
       "      <th>195</th>\n",
       "      <td>tutorial bolinha de queijo ✨ g de queijo muçar...</td>\n",
       "      <td>1</td>\n",
       "      <td>0</td>\n",
       "    </tr>\n",
       "    <tr>\n",
       "      <th>196</th>\n",
       "      <td>pessoal daqui de casa inventou de querer fazer...</td>\n",
       "      <td>1</td>\n",
       "      <td>1</td>\n",
       "    </tr>\n",
       "    <tr>\n",
       "      <th>197</th>\n",
       "      <td>eu nao sei voces mas eu ganhei uma airfryer gi...</td>\n",
       "      <td>1</td>\n",
       "      <td>1</td>\n",
       "    </tr>\n",
       "    <tr>\n",
       "      <th>198</th>\n",
       "      <td>amanhã eu vou fazer um pão de alho de airfryer...</td>\n",
       "      <td>1</td>\n",
       "      <td>1</td>\n",
       "    </tr>\n",
       "    <tr>\n",
       "      <th>199</th>\n",
       "      <td>disse pra vovó que tô estagiando e a mulher já...</td>\n",
       "      <td>1</td>\n",
       "      <td>1</td>\n",
       "    </tr>\n",
       "  </tbody>\n",
       "</table>\n",
       "<p>200 rows × 3 columns</p>\n",
       "</div>"
      ],
      "text/plain": [
       "                                                 Teste  Classificação  \\\n",
       "0    o bom da airfryer fica tudo pronto rápido não ...              1   \n",
       "1    um app pra calcular se é mais barato fazer a c...              0   \n",
       "2    aumentou o preço de tudo aqui a gente compr um...              0   \n",
       "3                  meti um pão de queijo na airfryer 😌              1   \n",
       "4    pô alcysio me adaptei total pra usar o mínimo ...              0   \n",
       "..                                                 ...            ...   \n",
       "195  tutorial bolinha de queijo ✨ g de queijo muçar...              1   \n",
       "196  pessoal daqui de casa inventou de querer fazer...              1   \n",
       "197  eu nao sei voces mas eu ganhei uma airfryer gi...              1   \n",
       "198  amanhã eu vou fazer um pão de alho de airfryer...              1   \n",
       "199  disse pra vovó que tô estagiando e a mulher já...              1   \n",
       "\n",
       "     Classificado  \n",
       "0               1  \n",
       "1               1  \n",
       "2               1  \n",
       "3               0  \n",
       "4               1  \n",
       "..            ...  \n",
       "195             0  \n",
       "196             1  \n",
       "197             1  \n",
       "198             1  \n",
       "199             1  \n",
       "\n",
       "[200 rows x 3 columns]"
      ]
     },
     "metadata": {},
     "execution_count": 61
    }
   ],
   "metadata": {}
  },
  {
   "cell_type": "code",
   "execution_count": 62,
   "source": [
    "filtro_1 = df_classificado.Classificação == 1\r\n",
    "nova = df_classificado.loc[filtro_1]\r\n",
    "nova    #planilha que classificamos como relevante"
   ],
   "outputs": [
    {
     "output_type": "execute_result",
     "data": {
      "text/html": [
       "<div>\n",
       "<style scoped>\n",
       "    .dataframe tbody tr th:only-of-type {\n",
       "        vertical-align: middle;\n",
       "    }\n",
       "\n",
       "    .dataframe tbody tr th {\n",
       "        vertical-align: top;\n",
       "    }\n",
       "\n",
       "    .dataframe thead th {\n",
       "        text-align: right;\n",
       "    }\n",
       "</style>\n",
       "<table border=\"1\" class=\"dataframe\">\n",
       "  <thead>\n",
       "    <tr style=\"text-align: right;\">\n",
       "      <th></th>\n",
       "      <th>Teste</th>\n",
       "      <th>Classificação</th>\n",
       "      <th>Classificado</th>\n",
       "    </tr>\n",
       "  </thead>\n",
       "  <tbody>\n",
       "    <tr>\n",
       "      <th>0</th>\n",
       "      <td>o bom da airfryer fica tudo pronto rápido não ...</td>\n",
       "      <td>1</td>\n",
       "      <td>1</td>\n",
       "    </tr>\n",
       "    <tr>\n",
       "      <th>3</th>\n",
       "      <td>meti um pão de queijo na airfryer 😌</td>\n",
       "      <td>1</td>\n",
       "      <td>0</td>\n",
       "    </tr>\n",
       "    <tr>\n",
       "      <th>5</th>\n",
       "      <td>e vamos de tentar fritar batata na airfryer</td>\n",
       "      <td>1</td>\n",
       "      <td>0</td>\n",
       "    </tr>\n",
       "    <tr>\n",
       "      <th>11</th>\n",
       "      <td>eu tal hora pesquisando se dar pra fazer paste...</td>\n",
       "      <td>1</td>\n",
       "      <td>1</td>\n",
       "    </tr>\n",
       "    <tr>\n",
       "      <th>12</th>\n",
       "      <td>aqui na casa da minha mãe geralmente se usa de...</td>\n",
       "      <td>1</td>\n",
       "      <td>0</td>\n",
       "    </tr>\n",
       "    <tr>\n",
       "      <th>...</th>\n",
       "      <td>...</td>\n",
       "      <td>...</td>\n",
       "      <td>...</td>\n",
       "    </tr>\n",
       "    <tr>\n",
       "      <th>195</th>\n",
       "      <td>tutorial bolinha de queijo ✨ g de queijo muçar...</td>\n",
       "      <td>1</td>\n",
       "      <td>0</td>\n",
       "    </tr>\n",
       "    <tr>\n",
       "      <th>196</th>\n",
       "      <td>pessoal daqui de casa inventou de querer fazer...</td>\n",
       "      <td>1</td>\n",
       "      <td>1</td>\n",
       "    </tr>\n",
       "    <tr>\n",
       "      <th>197</th>\n",
       "      <td>eu nao sei voces mas eu ganhei uma airfryer gi...</td>\n",
       "      <td>1</td>\n",
       "      <td>1</td>\n",
       "    </tr>\n",
       "    <tr>\n",
       "      <th>198</th>\n",
       "      <td>amanhã eu vou fazer um pão de alho de airfryer...</td>\n",
       "      <td>1</td>\n",
       "      <td>1</td>\n",
       "    </tr>\n",
       "    <tr>\n",
       "      <th>199</th>\n",
       "      <td>disse pra vovó que tô estagiando e a mulher já...</td>\n",
       "      <td>1</td>\n",
       "      <td>1</td>\n",
       "    </tr>\n",
       "  </tbody>\n",
       "</table>\n",
       "<p>110 rows × 3 columns</p>\n",
       "</div>"
      ],
      "text/plain": [
       "                                                 Teste  Classificação  \\\n",
       "0    o bom da airfryer fica tudo pronto rápido não ...              1   \n",
       "3                  meti um pão de queijo na airfryer 😌              1   \n",
       "5          e vamos de tentar fritar batata na airfryer              1   \n",
       "11   eu tal hora pesquisando se dar pra fazer paste...              1   \n",
       "12   aqui na casa da minha mãe geralmente se usa de...              1   \n",
       "..                                                 ...            ...   \n",
       "195  tutorial bolinha de queijo ✨ g de queijo muçar...              1   \n",
       "196  pessoal daqui de casa inventou de querer fazer...              1   \n",
       "197  eu nao sei voces mas eu ganhei uma airfryer gi...              1   \n",
       "198  amanhã eu vou fazer um pão de alho de airfryer...              1   \n",
       "199  disse pra vovó que tô estagiando e a mulher já...              1   \n",
       "\n",
       "     Classificado  \n",
       "0               1  \n",
       "3               0  \n",
       "5               0  \n",
       "11              1  \n",
       "12              0  \n",
       "..            ...  \n",
       "195             0  \n",
       "196             1  \n",
       "197             1  \n",
       "198             1  \n",
       "199             1  \n",
       "\n",
       "[110 rows x 3 columns]"
      ]
     },
     "metadata": {},
     "execution_count": 62
    }
   ],
   "metadata": {}
  },
  {
   "cell_type": "code",
   "execution_count": 63,
   "source": [
    "filtro1_new = df_classificado.Classificado == 1\r\n",
    "new = df_classificado.loc[filtro1_new]\r\n",
    "new    #planilha que foi classificada pela função como relevante"
   ],
   "outputs": [
    {
     "output_type": "execute_result",
     "data": {
      "text/html": [
       "<div>\n",
       "<style scoped>\n",
       "    .dataframe tbody tr th:only-of-type {\n",
       "        vertical-align: middle;\n",
       "    }\n",
       "\n",
       "    .dataframe tbody tr th {\n",
       "        vertical-align: top;\n",
       "    }\n",
       "\n",
       "    .dataframe thead th {\n",
       "        text-align: right;\n",
       "    }\n",
       "</style>\n",
       "<table border=\"1\" class=\"dataframe\">\n",
       "  <thead>\n",
       "    <tr style=\"text-align: right;\">\n",
       "      <th></th>\n",
       "      <th>Teste</th>\n",
       "      <th>Classificação</th>\n",
       "      <th>Classificado</th>\n",
       "    </tr>\n",
       "  </thead>\n",
       "  <tbody>\n",
       "    <tr>\n",
       "      <th>0</th>\n",
       "      <td>o bom da airfryer fica tudo pronto rápido não ...</td>\n",
       "      <td>1</td>\n",
       "      <td>1</td>\n",
       "    </tr>\n",
       "    <tr>\n",
       "      <th>1</th>\n",
       "      <td>um app pra calcular se é mais barato fazer a c...</td>\n",
       "      <td>0</td>\n",
       "      <td>1</td>\n",
       "    </tr>\n",
       "    <tr>\n",
       "      <th>2</th>\n",
       "      <td>aumentou o preço de tudo aqui a gente compr um...</td>\n",
       "      <td>0</td>\n",
       "      <td>1</td>\n",
       "    </tr>\n",
       "    <tr>\n",
       "      <th>4</th>\n",
       "      <td>pô alcysio me adaptei total pra usar o mínimo ...</td>\n",
       "      <td>0</td>\n",
       "      <td>1</td>\n",
       "    </tr>\n",
       "    <tr>\n",
       "      <th>8</th>\n",
       "      <td>e agora que não sei se uso mais a airfryer ou ...</td>\n",
       "      <td>0</td>\n",
       "      <td>1</td>\n",
       "    </tr>\n",
       "    <tr>\n",
       "      <th>...</th>\n",
       "      <td>...</td>\n",
       "      <td>...</td>\n",
       "      <td>...</td>\n",
       "    </tr>\n",
       "    <tr>\n",
       "      <th>194</th>\n",
       "      <td>quem não tem uma invista melhor coisa da vida ...</td>\n",
       "      <td>1</td>\n",
       "      <td>1</td>\n",
       "    </tr>\n",
       "    <tr>\n",
       "      <th>196</th>\n",
       "      <td>pessoal daqui de casa inventou de querer fazer...</td>\n",
       "      <td>1</td>\n",
       "      <td>1</td>\n",
       "    </tr>\n",
       "    <tr>\n",
       "      <th>197</th>\n",
       "      <td>eu nao sei voces mas eu ganhei uma airfryer gi...</td>\n",
       "      <td>1</td>\n",
       "      <td>1</td>\n",
       "    </tr>\n",
       "    <tr>\n",
       "      <th>198</th>\n",
       "      <td>amanhã eu vou fazer um pão de alho de airfryer...</td>\n",
       "      <td>1</td>\n",
       "      <td>1</td>\n",
       "    </tr>\n",
       "    <tr>\n",
       "      <th>199</th>\n",
       "      <td>disse pra vovó que tô estagiando e a mulher já...</td>\n",
       "      <td>1</td>\n",
       "      <td>1</td>\n",
       "    </tr>\n",
       "  </tbody>\n",
       "</table>\n",
       "<p>126 rows × 3 columns</p>\n",
       "</div>"
      ],
      "text/plain": [
       "                                                 Teste  Classificação  \\\n",
       "0    o bom da airfryer fica tudo pronto rápido não ...              1   \n",
       "1    um app pra calcular se é mais barato fazer a c...              0   \n",
       "2    aumentou o preço de tudo aqui a gente compr um...              0   \n",
       "4    pô alcysio me adaptei total pra usar o mínimo ...              0   \n",
       "8    e agora que não sei se uso mais a airfryer ou ...              0   \n",
       "..                                                 ...            ...   \n",
       "194  quem não tem uma invista melhor coisa da vida ...              1   \n",
       "196  pessoal daqui de casa inventou de querer fazer...              1   \n",
       "197  eu nao sei voces mas eu ganhei uma airfryer gi...              1   \n",
       "198  amanhã eu vou fazer um pão de alho de airfryer...              1   \n",
       "199  disse pra vovó que tô estagiando e a mulher já...              1   \n",
       "\n",
       "     Classificado  \n",
       "0               1  \n",
       "1               1  \n",
       "2               1  \n",
       "4               1  \n",
       "8               1  \n",
       "..            ...  \n",
       "194             1  \n",
       "196             1  \n",
       "197             1  \n",
       "198             1  \n",
       "199             1  \n",
       "\n",
       "[126 rows x 3 columns]"
      ]
     },
     "metadata": {},
     "execution_count": 63
    }
   ],
   "metadata": {}
  },
  {
   "cell_type": "markdown",
   "source": [
    "## Extraindo as contagens para verificação de performance"
   ],
   "metadata": {}
  },
  {
   "cell_type": "code",
   "execution_count": 70,
   "source": [
    "tabela = pd.crosstab(df_classificado.Classificado, df_classificado.Classificação, normalize= True)  # tabela de porcentagens\r\n",
    "tabela"
   ],
   "outputs": [
    {
     "output_type": "execute_result",
     "data": {
      "text/html": [
       "<div>\n",
       "<style scoped>\n",
       "    .dataframe tbody tr th:only-of-type {\n",
       "        vertical-align: middle;\n",
       "    }\n",
       "\n",
       "    .dataframe tbody tr th {\n",
       "        vertical-align: top;\n",
       "    }\n",
       "\n",
       "    .dataframe thead th {\n",
       "        text-align: right;\n",
       "    }\n",
       "</style>\n",
       "<table border=\"1\" class=\"dataframe\">\n",
       "  <thead>\n",
       "    <tr style=\"text-align: right;\">\n",
       "      <th>Classificação</th>\n",
       "      <th>0</th>\n",
       "      <th>1</th>\n",
       "    </tr>\n",
       "    <tr>\n",
       "      <th>Classificado</th>\n",
       "      <th></th>\n",
       "      <th></th>\n",
       "    </tr>\n",
       "  </thead>\n",
       "  <tbody>\n",
       "    <tr>\n",
       "      <th>0</th>\n",
       "      <td>0.215</td>\n",
       "      <td>0.155</td>\n",
       "    </tr>\n",
       "    <tr>\n",
       "      <th>1</th>\n",
       "      <td>0.235</td>\n",
       "      <td>0.395</td>\n",
       "    </tr>\n",
       "  </tbody>\n",
       "</table>\n",
       "</div>"
      ],
      "text/plain": [
       "Classificação      0      1\n",
       "Classificado               \n",
       "0              0.215  0.155\n",
       "1              0.235  0.395"
      ]
     },
     "metadata": {},
     "execution_count": 70
    }
   ],
   "metadata": {}
  },
  {
   "cell_type": "markdown",
   "source": [
    "Porcentagem de verdadeiros positivos (mensagens relevantes e que são\n",
    "classificadas como relevantes)"
   ],
   "metadata": {}
  },
  {
   "cell_type": "code",
   "execution_count": 71,
   "source": [
    "verdadeiros_positivos = tabela.iloc[1,1]*100\r\n",
    "verdadeiros_positivos"
   ],
   "outputs": [
    {
     "output_type": "execute_result",
     "data": {
      "text/plain": [
       "39.5"
      ]
     },
     "metadata": {},
     "execution_count": 71
    }
   ],
   "metadata": {}
  },
  {
   "cell_type": "markdown",
   "source": [
    "Porcentagem de falsos positivos (mensagens irrelevantes e que são classificadas\n",
    "como relevantes)"
   ],
   "metadata": {}
  },
  {
   "cell_type": "code",
   "execution_count": 72,
   "source": [
    "falsos_positivos = tabela.iloc[1,0]*100\r\n",
    "falsos_positivos"
   ],
   "outputs": [
    {
     "output_type": "execute_result",
     "data": {
      "text/plain": [
       "23.5"
      ]
     },
     "metadata": {},
     "execution_count": 72
    }
   ],
   "metadata": {}
  },
  {
   "cell_type": "markdown",
   "source": [
    "Porcentagem de verdadeiros negativos (mensagens irrelevantes e que são\n",
    "classificadas como irrelevantes)"
   ],
   "metadata": {}
  },
  {
   "cell_type": "code",
   "execution_count": 73,
   "source": [
    "verdadeiros_negativos = tabela.iloc[0,0]*100\r\n",
    "verdadeiros_negativos"
   ],
   "outputs": [
    {
     "output_type": "execute_result",
     "data": {
      "text/plain": [
       "21.5"
      ]
     },
     "metadata": {},
     "execution_count": 73
    }
   ],
   "metadata": {}
  },
  {
   "cell_type": "markdown",
   "source": [
    "Porcentagem de falsos negativos (mensagens relevantes e que são classificadas\n",
    "como irrelevantes)"
   ],
   "metadata": {}
  },
  {
   "cell_type": "code",
   "execution_count": 74,
   "source": [
    "falsos_negativos = tabela.iloc[0,1]*100\r\n",
    "falsos_negativos"
   ],
   "outputs": [
    {
     "output_type": "execute_result",
     "data": {
      "text/plain": [
       "15.5"
      ]
     },
     "metadata": {},
     "execution_count": 74
    }
   ],
   "metadata": {}
  },
  {
   "cell_type": "markdown",
   "source": [
    "Acurácia (mensagens corretamente classificadas, independente da categoria)"
   ],
   "metadata": {}
  },
  {
   "cell_type": "code",
   "execution_count": 75,
   "source": [
    "eficacia = verdadeiros_positivos + verdadeiros_negativos\r\n",
    "eficacia"
   ],
   "outputs": [
    {
     "output_type": "execute_result",
     "data": {
      "text/plain": [
       "61.0"
      ]
     },
     "metadata": {},
     "execution_count": 75
    }
   ],
   "metadata": {}
  },
  {
   "cell_type": "markdown",
   "source": [
    "___\n",
    "### Concluindo"
   ],
   "metadata": {}
  },
  {
   "cell_type": "code",
   "execution_count": null,
   "source": [],
   "outputs": [],
   "metadata": {}
  },
  {
   "cell_type": "code",
   "execution_count": null,
   "source": [],
   "outputs": [],
   "metadata": {}
  },
  {
   "cell_type": "markdown",
   "source": [
    "___\n",
    "### Qualidade do Classificador a partir de novas separações dos tweets entre Treinamento e Teste\n",
    "\n",
    "Caso for fazer esse item do Projeto"
   ],
   "metadata": {}
  },
  {
   "cell_type": "code",
   "execution_count": null,
   "source": [],
   "outputs": [],
   "metadata": {}
  },
  {
   "cell_type": "code",
   "execution_count": null,
   "source": [],
   "outputs": [],
   "metadata": {}
  },
  {
   "cell_type": "code",
   "execution_count": null,
   "source": [],
   "outputs": [],
   "metadata": {}
  },
  {
   "cell_type": "markdown",
   "source": [
    "___\n",
    "## Aperfeiçoamento:\n",
    "\n",
    "Trabalhos que conseguirem pelo menos conceito B vão evoluir em conceito dependendo da quantidade de itens avançados:\n",
    "\n",
    "* IMPLEMENTOU outras limpezas e transformações que não afetem a qualidade da informação contida nos tweets. Ex: stemming, lemmatization, stopwords\n",
    "* CORRIGIU separação de espaços entre palavras e emojis ou entre emojis e emojis\n",
    "* CRIOU categorias intermediárias de relevância baseadas na probabilidade: ex.: muito relevante, relevante, neutro, irrelevante, muito irrelevante. Pelo menos quatro categorias, com adição de mais tweets na base, conforme enunciado. (OBRIGATÓRIO PARA TRIOS, sem contar como item avançado)\n",
    "* EXPLICOU porquê não pode usar o próprio classificador para gerar mais amostras de treinamento\n",
    "* PROPÔS diferentes cenários para Naïve Bayes fora do contexto do projeto\n",
    "* SUGERIU e EXPLICOU melhorias reais com indicações concretas de como implementar (indicar como fazer e indicar material de pesquisa)\n",
    "* FEZ o item 6. Qualidade do Classificador a partir de novas separações dos tweets entre Treinamento e Teste descrito no enunciado do projeto (OBRIGATÓRIO para conceitos A ou A+)"
   ],
   "metadata": {}
  },
  {
   "cell_type": "markdown",
   "source": [
    "___\n",
    "## Referências"
   ],
   "metadata": {}
  },
  {
   "cell_type": "markdown",
   "source": [
    "[Naive Bayes and Text Classification](https://arxiv.org/pdf/1410.5329.pdf)  **Mais completo**\n",
    "\n",
    "[A practical explanation of a Naive Bayes Classifier](https://monkeylearn.com/blog/practical-explanation-naive-bayes-classifier/) **Mais simples**"
   ],
   "metadata": {}
  },
  {
   "cell_type": "code",
   "execution_count": null,
   "source": [],
   "outputs": [],
   "metadata": {}
  }
 ],
 "metadata": {
  "kernelspec": {
   "name": "python3",
   "display_name": "Python 3.8.5 64-bit ('base': conda)"
  },
  "language_info": {
   "codemirror_mode": {
    "name": "ipython",
    "version": 3
   },
   "file_extension": ".py",
   "mimetype": "text/x-python",
   "name": "python",
   "nbconvert_exporter": "python",
   "pygments_lexer": "ipython3",
   "version": "3.8.5"
  },
  "interpreter": {
   "hash": "0f50e35bdfd64427891e85d688af0f5548a53b16a35d85a3a857b2e66ca04f44"
  }
 },
 "nbformat": 4,
 "nbformat_minor": 4
}